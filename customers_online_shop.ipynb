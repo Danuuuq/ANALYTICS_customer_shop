{
 "cells": [
  {
   "cell_type": "markdown",
   "id": "b5b06ac5-1dfd-4d57-bf1b-1da029070bd4",
   "metadata": {},
   "source": [
    "# Исследование интернет-магазина «Подарочек»"
   ]
  },
  {
   "cell_type": "markdown",
   "id": "4c3da649-08cb-45fa-86a9-46d9731bb5ec",
   "metadata": {},
   "source": [
    "Исследование данных онлайн-магазина \"Подарочек\" с сегментацией клиентов и проверкой статистических гипотез.  \n",
    "### Цель исследования\n",
    "Анализ клиентов магазина для формирования рекомендаций бизнесу по взаимодействию с клиентами, определить на каких клиентах фокусироваться и в каких странах необходимо обратить внимание для развития и изменения стратегии развития.\n",
    "### Задачи и план работы\n",
    "#### Осмотр и предобработка данных:\n",
    "1. Проверка пропусков, дубликатов и типов данных, и соответствие идентификаторов;\n",
    "2. Объединение данных с покупкой и записью;\n",
    "3. Обработка выбросов и аномальных значений для принятия решения о необходимости сохранить их или нет;\n",
    "4. Изучение полноты данных для выбора периода для анализа с основными данными.\n",
    "#### Расчеты и сегментация:\n",
    "1. Оценка кол-ва заказов по часам и дням недели и уникальных покупателей, для проверки наличия цикличности;\n",
    "2. Расчет средней выручки с клиента в день и кол-во уникальных покупателей, проверка наличия сезонности;\n",
    "3. Анализ сезонности и цикличности в течение года;\n",
    "4. Расчет стики-фактора за 2-ой и 3-ий квартал 2019 года;\n",
    "5. Составить профиль каждого клиента;\n",
    "6. Разделить клиентов на возвратных и нет;\n",
    "7. Разделить клиентов по методике RFM.\n",
    "#### Формирование рекомендаций и статистические гипотезы:\n",
    "1. Рекомендации, по работе с разными RFM группами;\n",
    "2. Сравнение возвратных и невозвратных клиентов;\n",
    "3. Сравнение средних чеков в разных странах;\n",
    "4. Проверка первоначальной гипотез;\n",
    "5. Формирование новых гипотезы после анализа и их проверка.\n",
    "### Первоначальная гипотеза\n",
    "1. У магазина нет постоянных клиентов, так как большая зависимость от сезонных факторов (праздников).\n",
    "### Описание данных\n",
    "**Основной датасет**\n",
    "- `entry_date` — дата записи;\n",
    "- `order_id` — идентификационный номер заказа;\n",
    "- `customer_id` — идентификационный номер клиента;\n",
    "- `quantity` — количество;\n",
    "- `price — цена`;\n",
    "- `name_clust` — автоматически присвоенная группа записи на основе названия;\n",
    "- `entry_id` — идентификационный номер записи;\n",
    "- `country_id` — идентификационный номер страны.  \n",
    "**Текстовое описание записей**\n",
    "- `entry_id` — идентификационный номер записи;\n",
    "- `entry` — запись."
   ]
  },
  {
   "cell_type": "markdown",
   "id": "481690bb-cc3b-4881-8a2e-eb9a7bbf4872",
   "metadata": {},
   "source": [
    "## 1. Загрузка, осмотр и объединение данных\n",
    "### 1.1 Импорт необходимых библиотек для работы с данными, загрука датасетов и осмотр данных"
   ]
  },
  {
   "cell_type": "code",
   "execution_count": 537,
   "id": "5df6a803-693b-4796-87ca-4eaae57cbe7c",
   "metadata": {},
   "outputs": [],
   "source": [
    "# Импорт библиотек \n",
    "import numpy as np\n",
    "import pandas as pd\n",
    "import seaborn as sns\n",
    "from matplotlib import pyplot as plt\n",
    "import plotly.express as px\n",
    "from statsmodels.stats.proportion import proportions_ztest\n",
    "from statsmodels.stats.multitest import multipletests\n",
    "import scipy.stats as stats\n",
    "from scipy.stats import ttest_ind"
   ]
  },
  {
   "cell_type": "code",
   "execution_count": 538,
   "id": "66ac6607-a645-49da-9586-67e63510a39b",
   "metadata": {},
   "outputs": [],
   "source": [
    "# Функции для анализа:\n",
    "def lost_data_and_shape(df_orig, df_new):\n",
    "    \"\"\" Расчет кол-ва потерянных данных и их доли.\n",
    "    \n",
    "    Функция принимает на вход оригинальный ДФ и новый.\n",
    "    \"\"\"\n",
    "    lost_data = len(df_orig) - len(df_new)\n",
    "    lost_data_shape = lost_data / len(df_orig)\n",
    "    return lost_data, lost_data_shape\n",
    "\n",
    "def grid_boxplot(df, columns, title, xlabel):\n",
    "    \"\"\" Функция отрисовки графика распределения\"\"\"\n",
    "    plt.figure(figsize=(12,4))\n",
    "    sns.boxplot(data=df, x=columns)\n",
    "\n",
    "    plt.title(title)\n",
    "    plt.xlabel(xlabel)\n",
    "    plt.grid()"
   ]
  },
  {
   "cell_type": "code",
   "execution_count": 539,
   "id": "d4b33927-0691-4d13-a9c9-9774734f96f7",
   "metadata": {},
   "outputs": [],
   "source": [
    "# Загружаем датасет в зависимости от среды запуска\n",
    "try:\n",
    "    df_raw = pd.read_csv('datasets/gift.csv')\n",
    "    df_entry_raw = pd.read_csv('datasets/gift_entry.csv', sep=';')\n",
    "except:\n",
    "    df_raw = pd.read_csv('https://code.s3.yandex.net/datasets/gift.csv')\n",
    "    df_entry_raw = pd.read_csv('https://code.s3.yandex.net/python-for-analytics/gift_entry.csv', sep=';')\n",
    "# Делаем копию датафрейма\n",
    "df = df_raw.copy()\n",
    "df_entry = df_entry_raw.copy()"
   ]
  },
  {
   "cell_type": "code",
   "execution_count": 540,
   "id": "a0f2dabb-83c2-41c4-939c-9f9775e749b2",
   "metadata": {},
   "outputs": [
    {
     "name": "stdout",
     "output_type": "stream",
     "text": [
      "Информация об основном датасете\n",
      "<class 'pandas.core.frame.DataFrame'>\n",
      "RangeIndex: 356940 entries, 0 to 356939\n",
      "Data columns (total 8 columns):\n",
      " #   Column       Non-Null Count   Dtype \n",
      "---  ------       --------------   ----- \n",
      " 0   entry_date   356940 non-null  object\n",
      " 1   order_id     356940 non-null  int64 \n",
      " 2   customer_id  356940 non-null  int64 \n",
      " 3   quantity     356940 non-null  int64 \n",
      " 4   price        356940 non-null  int64 \n",
      " 5   name_clust   356940 non-null  int64 \n",
      " 6   entry_id     356940 non-null  int64 \n",
      " 7   country_id   356940 non-null  int64 \n",
      "dtypes: int64(7), object(1)\n",
      "memory usage: 21.8+ MB\n"
     ]
    },
    {
     "data": {
      "text/plain": [
       "None"
      ]
     },
     "metadata": {},
     "output_type": "display_data"
    },
    {
     "data": {
      "text/html": [
       "<div>\n",
       "<style scoped>\n",
       "    .dataframe tbody tr th:only-of-type {\n",
       "        vertical-align: middle;\n",
       "    }\n",
       "\n",
       "    .dataframe tbody tr th {\n",
       "        vertical-align: top;\n",
       "    }\n",
       "\n",
       "    .dataframe thead th {\n",
       "        text-align: right;\n",
       "    }\n",
       "</style>\n",
       "<table border=\"1\" class=\"dataframe\">\n",
       "  <thead>\n",
       "    <tr style=\"text-align: right;\">\n",
       "      <th></th>\n",
       "      <th>order_id</th>\n",
       "      <th>customer_id</th>\n",
       "      <th>quantity</th>\n",
       "      <th>price</th>\n",
       "      <th>name_clust</th>\n",
       "      <th>entry_id</th>\n",
       "      <th>country_id</th>\n",
       "    </tr>\n",
       "  </thead>\n",
       "  <tbody>\n",
       "    <tr>\n",
       "      <th>count</th>\n",
       "      <td>356940.000000</td>\n",
       "      <td>356940.000000</td>\n",
       "      <td>356940.000000</td>\n",
       "      <td>3.569400e+05</td>\n",
       "      <td>356940.000000</td>\n",
       "      <td>356940.000000</td>\n",
       "      <td>356940.000000</td>\n",
       "    </tr>\n",
       "    <tr>\n",
       "      <th>mean</th>\n",
       "      <td>26687.651726</td>\n",
       "      <td>3486.883389</td>\n",
       "      <td>10.149599</td>\n",
       "      <td>3.999940e+02</td>\n",
       "      <td>468.617395</td>\n",
       "      <td>1518.046442</td>\n",
       "      <td>26.751818</td>\n",
       "    </tr>\n",
       "    <tr>\n",
       "      <th>std</th>\n",
       "      <td>13381.350493</td>\n",
       "      <td>2542.878257</td>\n",
       "      <td>146.794372</td>\n",
       "      <td>5.059181e+03</td>\n",
       "      <td>259.146901</td>\n",
       "      <td>833.753264</td>\n",
       "      <td>4.978016</td>\n",
       "    </tr>\n",
       "    <tr>\n",
       "      <th>min</th>\n",
       "      <td>3031.000000</td>\n",
       "      <td>-1.000000</td>\n",
       "      <td>-9600.000000</td>\n",
       "      <td>-1.106206e+06</td>\n",
       "      <td>0.000000</td>\n",
       "      <td>0.000000</td>\n",
       "      <td>0.000000</td>\n",
       "    </tr>\n",
       "    <tr>\n",
       "      <th>25%</th>\n",
       "      <td>14834.000000</td>\n",
       "      <td>-1.000000</td>\n",
       "      <td>1.000000</td>\n",
       "      <td>1.250000e+02</td>\n",
       "      <td>242.000000</td>\n",
       "      <td>875.000000</td>\n",
       "      <td>28.000000</td>\n",
       "    </tr>\n",
       "    <tr>\n",
       "      <th>50%</th>\n",
       "      <td>27378.000000</td>\n",
       "      <td>3633.000000</td>\n",
       "      <td>3.000000</td>\n",
       "      <td>2.080000e+02</td>\n",
       "      <td>448.000000</td>\n",
       "      <td>1559.000000</td>\n",
       "      <td>28.000000</td>\n",
       "    </tr>\n",
       "    <tr>\n",
       "      <th>75%</th>\n",
       "      <td>38512.000000</td>\n",
       "      <td>5627.500000</td>\n",
       "      <td>10.000000</td>\n",
       "      <td>4.130000e+02</td>\n",
       "      <td>702.000000</td>\n",
       "      <td>2223.000000</td>\n",
       "      <td>28.000000</td>\n",
       "    </tr>\n",
       "    <tr>\n",
       "      <th>max</th>\n",
       "      <td>48253.000000</td>\n",
       "      <td>7653.000000</td>\n",
       "      <td>80995.000000</td>\n",
       "      <td>1.354133e+06</td>\n",
       "      <td>929.000000</td>\n",
       "      <td>2916.000000</td>\n",
       "      <td>29.000000</td>\n",
       "    </tr>\n",
       "  </tbody>\n",
       "</table>\n",
       "</div>"
      ],
      "text/plain": [
       "            order_id    customer_id       quantity         price  \\\n",
       "count  356940.000000  356940.000000  356940.000000  3.569400e+05   \n",
       "mean    26687.651726    3486.883389      10.149599  3.999940e+02   \n",
       "std     13381.350493    2542.878257     146.794372  5.059181e+03   \n",
       "min      3031.000000      -1.000000   -9600.000000 -1.106206e+06   \n",
       "25%     14834.000000      -1.000000       1.000000  1.250000e+02   \n",
       "50%     27378.000000    3633.000000       3.000000  2.080000e+02   \n",
       "75%     38512.000000    5627.500000      10.000000  4.130000e+02   \n",
       "max     48253.000000    7653.000000   80995.000000  1.354133e+06   \n",
       "\n",
       "          name_clust       entry_id     country_id  \n",
       "count  356940.000000  356940.000000  356940.000000  \n",
       "mean      468.617395    1518.046442      26.751818  \n",
       "std       259.146901     833.753264       4.978016  \n",
       "min         0.000000       0.000000       0.000000  \n",
       "25%       242.000000     875.000000      28.000000  \n",
       "50%       448.000000    1559.000000      28.000000  \n",
       "75%       702.000000    2223.000000      28.000000  \n",
       "max       929.000000    2916.000000      29.000000  "
      ]
     },
     "metadata": {},
     "output_type": "display_data"
    },
    {
     "data": {
      "text/html": [
       "<div>\n",
       "<style scoped>\n",
       "    .dataframe tbody tr th:only-of-type {\n",
       "        vertical-align: middle;\n",
       "    }\n",
       "\n",
       "    .dataframe tbody tr th {\n",
       "        vertical-align: top;\n",
       "    }\n",
       "\n",
       "    .dataframe thead th {\n",
       "        text-align: right;\n",
       "    }\n",
       "</style>\n",
       "<table border=\"1\" class=\"dataframe\">\n",
       "  <thead>\n",
       "    <tr style=\"text-align: right;\">\n",
       "      <th></th>\n",
       "      <th>entry_date</th>\n",
       "      <th>order_id</th>\n",
       "      <th>customer_id</th>\n",
       "      <th>quantity</th>\n",
       "      <th>price</th>\n",
       "      <th>name_clust</th>\n",
       "      <th>entry_id</th>\n",
       "      <th>country_id</th>\n",
       "    </tr>\n",
       "  </thead>\n",
       "  <tbody>\n",
       "    <tr>\n",
       "      <th>68941</th>\n",
       "      <td>03/01/2019 16:22</td>\n",
       "      <td>11999</td>\n",
       "      <td>-1</td>\n",
       "      <td>1</td>\n",
       "      <td>1163</td>\n",
       "      <td>38</td>\n",
       "      <td>723</td>\n",
       "      <td>28</td>\n",
       "    </tr>\n",
       "    <tr>\n",
       "      <th>58508</th>\n",
       "      <td>15/02/2019 11:31</td>\n",
       "      <td>10703</td>\n",
       "      <td>5039</td>\n",
       "      <td>12</td>\n",
       "      <td>125</td>\n",
       "      <td>479</td>\n",
       "      <td>2807</td>\n",
       "      <td>28</td>\n",
       "    </tr>\n",
       "    <tr>\n",
       "      <th>54877</th>\n",
       "      <td>02/08/2019 12:01</td>\n",
       "      <td>10113</td>\n",
       "      <td>3735</td>\n",
       "      <td>10</td>\n",
       "      <td>165</td>\n",
       "      <td>516</td>\n",
       "      <td>2600</td>\n",
       "      <td>28</td>\n",
       "    </tr>\n",
       "    <tr>\n",
       "      <th>229679</th>\n",
       "      <td>20/09/2019 12:35</td>\n",
       "      <td>34128</td>\n",
       "      <td>5554</td>\n",
       "      <td>10</td>\n",
       "      <td>125</td>\n",
       "      <td>437</td>\n",
       "      <td>1203</td>\n",
       "      <td>28</td>\n",
       "    </tr>\n",
       "    <tr>\n",
       "      <th>271536</th>\n",
       "      <td>23/10/2019 15:09</td>\n",
       "      <td>38971</td>\n",
       "      <td>2869</td>\n",
       "      <td>1</td>\n",
       "      <td>1995</td>\n",
       "      <td>735</td>\n",
       "      <td>1990</td>\n",
       "      <td>28</td>\n",
       "    </tr>\n",
       "  </tbody>\n",
       "</table>\n",
       "</div>"
      ],
      "text/plain": [
       "              entry_date  order_id  customer_id  quantity  price  name_clust  \\\n",
       "68941   03/01/2019 16:22     11999           -1         1   1163          38   \n",
       "58508   15/02/2019 11:31     10703         5039        12    125         479   \n",
       "54877   02/08/2019 12:01     10113         3735        10    165         516   \n",
       "229679  20/09/2019 12:35     34128         5554        10    125         437   \n",
       "271536  23/10/2019 15:09     38971         2869         1   1995         735   \n",
       "\n",
       "        entry_id  country_id  \n",
       "68941        723          28  \n",
       "58508       2807          28  \n",
       "54877       2600          28  \n",
       "229679      1203          28  \n",
       "271536      1990          28  "
      ]
     },
     "metadata": {},
     "output_type": "display_data"
    }
   ],
   "source": [
    "# Общая информация основого датасета\n",
    "print('Информация об основном датасете')\n",
    "display(df.info())\n",
    "# Проверка числовых данных на корректность\n",
    "display(df.describe())\n",
    "# Вывод 5-ти случайных строк\n",
    "display(df.sample(5))"
   ]
  },
  {
   "cell_type": "markdown",
   "id": "7d93a769-9daa-402c-8ce3-49fe8985ef8c",
   "metadata": {},
   "source": [
    "#### Вывод по осмотру данных на наличие пропусков и соответствие типов и значений:\n",
    "Основной датасет `gift` содержит 356940 строчек, в полях отсутствуют пропуски, в датасет присутствуют следующиеполяя:\n",
    "- `entry_date` — дата записи, представлена в типе `objects` заменить на `datetime64[ns]`;\n",
    "- `order_id` — идентификационный номер заказа представлен в типе `int` значения корректны;\n",
    "- `customer_id` — идентификационный номер клиента представлен в типе `int`, присутствуют отрицательные значения, следует проверить их количество и принять решение о удалении или преобразовании, так как 25 процентиль также отрицательный, данных явно много;\n",
    "- `quantity` — количество представлено в типе `int`, присутствует отрицательное значения, проверить и вероятнее всего удалить их;\n",
    "- `price` — цена представлена в типе `int`, присутствует отрицательное значения, проверить и вероятнее всего удалить их, также аномально высокие данные представлены, которые сильно далеки от 75 процентиля и влияют на большое отличие между средним и медианой;\n",
    "- `name_clust` — автоматически присвоенная группа записи на основе названия представлен в типе `int`, аномалий и ошибок не выявлено;\n",
    "- `entry_id` — идентификационный номер записи представлен в типе `int`, аномалий и ошибок не выявлено, проверить на соответствие с датасет `gift_entry`;\n",
    "- `country_id` — идентификационный номер страны представлен в типе `int`, аномалий и ошибок не ак датафрейм.я `df`, ка. датафрейм..ейм страны."
   ]
  },
  {
   "cell_type": "markdown",
   "id": "af7a8b1b-9747-4376-ab02-63c56bdb4582",
   "metadata": {},
   "source": [
    "Необходимо преобразовать тип поля `entry_date` и проверить аномалии и ошибка в полях: `customer_id`, `quantity` и `price`\n",
    "В дальнейщем датасет `gift` в тексте будет называться `df`, как датафрейм."
   ]
  },
  {
   "cell_type": "code",
   "execution_count": 543,
   "id": "09175820-be62-40f3-a3c2-b6e05f634c91",
   "metadata": {},
   "outputs": [
    {
     "name": "stdout",
     "output_type": "stream",
     "text": [
      "Информация о Датасете с описанием записей\n",
      "<class 'pandas.core.frame.DataFrame'>\n",
      "RangeIndex: 2917 entries, 0 to 2916\n",
      "Data columns (total 2 columns):\n",
      " #   Column    Non-Null Count  Dtype \n",
      "---  ------    --------------  ----- \n",
      " 0   entry_id  2917 non-null   int64 \n",
      " 1   entry     2916 non-null   object\n",
      "dtypes: int64(1), object(1)\n",
      "memory usage: 45.7+ KB\n"
     ]
    },
    {
     "data": {
      "text/plain": [
       "None"
      ]
     },
     "metadata": {},
     "output_type": "display_data"
    },
    {
     "data": {
      "text/html": [
       "<div>\n",
       "<style scoped>\n",
       "    .dataframe tbody tr th:only-of-type {\n",
       "        vertical-align: middle;\n",
       "    }\n",
       "\n",
       "    .dataframe tbody tr th {\n",
       "        vertical-align: top;\n",
       "    }\n",
       "\n",
       "    .dataframe thead th {\n",
       "        text-align: right;\n",
       "    }\n",
       "</style>\n",
       "<table border=\"1\" class=\"dataframe\">\n",
       "  <thead>\n",
       "    <tr style=\"text-align: right;\">\n",
       "      <th></th>\n",
       "      <th>entry_id</th>\n",
       "    </tr>\n",
       "  </thead>\n",
       "  <tbody>\n",
       "    <tr>\n",
       "      <th>count</th>\n",
       "      <td>2917.000000</td>\n",
       "    </tr>\n",
       "    <tr>\n",
       "      <th>mean</th>\n",
       "      <td>1458.000000</td>\n",
       "    </tr>\n",
       "    <tr>\n",
       "      <th>std</th>\n",
       "      <td>842.209693</td>\n",
       "    </tr>\n",
       "    <tr>\n",
       "      <th>min</th>\n",
       "      <td>0.000000</td>\n",
       "    </tr>\n",
       "    <tr>\n",
       "      <th>25%</th>\n",
       "      <td>729.000000</td>\n",
       "    </tr>\n",
       "    <tr>\n",
       "      <th>50%</th>\n",
       "      <td>1458.000000</td>\n",
       "    </tr>\n",
       "    <tr>\n",
       "      <th>75%</th>\n",
       "      <td>2187.000000</td>\n",
       "    </tr>\n",
       "    <tr>\n",
       "      <th>max</th>\n",
       "      <td>2916.000000</td>\n",
       "    </tr>\n",
       "  </tbody>\n",
       "</table>\n",
       "</div>"
      ],
      "text/plain": [
       "          entry_id\n",
       "count  2917.000000\n",
       "mean   1458.000000\n",
       "std     842.209693\n",
       "min       0.000000\n",
       "25%     729.000000\n",
       "50%    1458.000000\n",
       "75%    2187.000000\n",
       "max    2916.000000"
      ]
     },
     "metadata": {},
     "output_type": "display_data"
    },
    {
     "data": {
      "text/html": [
       "<div>\n",
       "<style scoped>\n",
       "    .dataframe tbody tr th:only-of-type {\n",
       "        vertical-align: middle;\n",
       "    }\n",
       "\n",
       "    .dataframe tbody tr th {\n",
       "        vertical-align: top;\n",
       "    }\n",
       "\n",
       "    .dataframe thead th {\n",
       "        text-align: right;\n",
       "    }\n",
       "</style>\n",
       "<table border=\"1\" class=\"dataframe\">\n",
       "  <thead>\n",
       "    <tr style=\"text-align: right;\">\n",
       "      <th></th>\n",
       "      <th>entry_id</th>\n",
       "      <th>entry</th>\n",
       "    </tr>\n",
       "  </thead>\n",
       "  <tbody>\n",
       "    <tr>\n",
       "      <th>2178</th>\n",
       "      <td>2178</td>\n",
       "      <td>подвеска на сумку из фиолетового стекла с кист...</td>\n",
       "    </tr>\n",
       "    <tr>\n",
       "      <th>663</th>\n",
       "      <td>663</td>\n",
       "      <td>СПИСАНО, ПОВРЕЖДЕНИЕ ВОДОЙ</td>\n",
       "    </tr>\n",
       "    <tr>\n",
       "      <th>375</th>\n",
       "      <td>375</td>\n",
       "      <td>НАЙДЕННЫЙ</td>\n",
       "    </tr>\n",
       "    <tr>\n",
       "      <th>422</th>\n",
       "      <td>422</td>\n",
       "      <td>Набор из 12 детских цветных мелов</td>\n",
       "    </tr>\n",
       "    <tr>\n",
       "      <th>2542</th>\n",
       "      <td>2542</td>\n",
       "      <td>старинная рождественская скатерть</td>\n",
       "    </tr>\n",
       "  </tbody>\n",
       "</table>\n",
       "</div>"
      ],
      "text/plain": [
       "      entry_id                                              entry\n",
       "2178      2178  подвеска на сумку из фиолетового стекла с кист...\n",
       "663        663                         СПИСАНО, ПОВРЕЖДЕНИЕ ВОДОЙ\n",
       "375        375                                          НАЙДЕННЫЙ\n",
       "422        422                  Набор из 12 детских цветных мелов\n",
       "2542      2542                  старинная рождественская скатерть"
      ]
     },
     "metadata": {},
     "output_type": "display_data"
    }
   ],
   "source": [
    "# Общая информация датасета с описанием записей\n",
    "print('Информация о Датасете с описанием записей')\n",
    "display(df_entry.info())\n",
    "# Проверка числовых данных на корректность\n",
    "display(df_entry.describe())\n",
    "# Вывод 5-ти случайных строк\n",
    "display(df_entry.sample(5))"
   ]
  },
  {
   "cell_type": "markdown",
   "id": "396b73f4-5190-4c69-b46d-695496fd7369",
   "metadata": {},
   "source": [
    "#### Вывод по осмотру данных в датасете с описанием записей на наличие пропусков и соответствие типов и значений:\n",
    "Датасет `gift_entry` содержит 2917 строчек, пропуски отсутствуют.\n",
    "- `entry_id` - идентификационный номер записи представлен в типе `int` не содержит ошибок, минимальное и максимальное значение такое же, как в основном датасете, вероятно ошибок нет, но стоит проверить дополнительно;\n",
    "- `entry` - запись представлена в типе `object`, что соотвутствует текстовому описанию."
   ]
  },
  {
   "cell_type": "markdown",
   "id": "6dddf093-421f-487e-a185-b5f07557f86e",
   "metadata": {},
   "source": [
    "Данные представлены качественно, но стоит быть аккуратным с идентификационным номером записи, при объединении.  \n",
    "Дальше в тексте датасет `gift_entry` будет называться `df_entry`, как датафрейм."
   ]
  },
  {
   "cell_type": "markdown",
   "id": "7666cd0a-8c63-4e5e-8795-a07c79e030f1",
   "metadata": {},
   "source": [
    "### 1.2 Проверка данных на наличие дубликатов"
   ]
  },
  {
   "cell_type": "markdown",
   "id": "e903019f-37d3-435b-83e6-383dffdcec7a",
   "metadata": {},
   "source": [
    "#### 1.2.1 Преобразование типов данных в `df`"
   ]
  },
  {
   "cell_type": "code",
   "execution_count": 549,
   "id": "82cbdc70-06b4-4818-88e1-0f1a5f67719b",
   "metadata": {},
   "outputs": [
    {
     "data": {
      "text/plain": [
       "0    12/01/2018 08:26\n",
       "1    12/01/2018 08:26\n",
       "2    12/01/2018 08:26\n",
       "3    12/01/2018 08:26\n",
       "4    12/01/2018 08:26\n",
       "Name: entry_date, dtype: object"
      ]
     },
     "metadata": {},
     "output_type": "display_data"
    }
   ],
   "source": [
    "# Проверим, как предоставлены данные с датой\n",
    "display(df['entry_date'].head(5))"
   ]
  },
  {
   "cell_type": "code",
   "execution_count": 550,
   "id": "b77d5feb-a9c0-45c7-b782-a7bae6b296f3",
   "metadata": {},
   "outputs": [
    {
     "data": {
      "text/plain": [
       "0   2018-01-12 08:26:00\n",
       "1   2018-01-12 08:26:00\n",
       "2   2018-01-12 08:26:00\n",
       "3   2018-01-12 08:26:00\n",
       "4   2018-01-12 08:26:00\n",
       "Name: entry_date, dtype: datetime64[ns]"
      ]
     },
     "metadata": {},
     "output_type": "display_data"
    },
    {
     "name": "stdout",
     "output_type": "stream",
     "text": [
      "<class 'pandas.core.series.Series'>\n",
      "RangeIndex: 356940 entries, 0 to 356939\n",
      "Series name: entry_date\n",
      "Non-Null Count   Dtype         \n",
      "--------------   -----         \n",
      "356940 non-null  datetime64[ns]\n",
      "dtypes: datetime64[ns](1)\n",
      "memory usage: 2.7 MB\n"
     ]
    },
    {
     "data": {
      "text/plain": [
       "None"
      ]
     },
     "metadata": {},
     "output_type": "display_data"
    }
   ],
   "source": [
    "# Данные представлены в формате Д/М/Г ЧЧ:ММ\n",
    "df['entry_date'] = pd.to_datetime(df['entry_date'], format='%d/%m/%Y %H:%M')\n",
    "# Проверим результат и новый тип:\n",
    "display(df['entry_date'].head(5))\n",
    "display(df['entry_date'].info())"
   ]
  },
  {
   "cell_type": "markdown",
   "id": "7d39c90e-c4de-4f70-a9e9-fc6c13dc2fd5",
   "metadata": {},
   "source": [
    "#### 1.2.2 Проверкак на наличие дубликатов\n",
    "1. Проверим на наличие явных дубликатов в обоих датасетах."
   ]
  },
  {
   "cell_type": "code",
   "execution_count": 553,
   "id": "683f733f-9b8a-4231-8657-8e526ca4e7bf",
   "metadata": {},
   "outputs": [
    {
     "name": "stdout",
     "output_type": "stream",
     "text": [
      "Дубликатов в датафрейм df: 3573\n",
      "Доля дубликатов в датафрейм df: 1.0%\n",
      "Дубликатов в датафрейм df: 0\n",
      "Доля дубликатов в датафрейм df: 0.0%\n"
     ]
    }
   ],
   "source": [
    "# Проверяем количество дубликатов основного датафрейма:\n",
    "print(f'Дубликатов в датафрейм df: {df.duplicated().sum()}')\n",
    "duplicated_share = df.duplicated().sum()/len(df)\n",
    "print(f'Доля дубликатов в датафрейм df: {duplicated_share:.1%}')\n",
    "# Проверяем количество дубликатов датафрейма с названием записей:\n",
    "print(f'Дубликатов в датафрейм df: {df_entry.duplicated().sum()}')\n",
    "duplicated_share = df_entry.duplicated().sum()/len(df_entry)\n",
    "print(f'Доля дубликатов в датафрейм df: {duplicated_share:.1%}')"
   ]
  },
  {
   "cell_type": "markdown",
   "id": "4af43f20-81f6-459b-bc04-85e1655ec803",
   "metadata": {},
   "source": [
    "Доля дубликатов в основном датафрейме 1% исключим их для исключения ошибок при анализе."
   ]
  },
  {
   "cell_type": "code",
   "execution_count": 555,
   "id": "0b73e350-bf13-4ea9-aeff-0014db79adfc",
   "metadata": {},
   "outputs": [
    {
     "name": "stdout",
     "output_type": "stream",
     "text": [
      "Дубликатов в датафрейм: 0\n"
     ]
    }
   ],
   "source": [
    "df.drop_duplicates(keep='first', inplace=True)\n",
    "# Проверяем количество дубликатов:\n",
    "print(f'Дубликатов в датафрейм: {df.duplicated().sum()}')"
   ]
  },
  {
   "cell_type": "markdown",
   "id": "0eb4cc93-8727-42b1-8baa-9c4f2aaef08f",
   "metadata": {},
   "source": [
    "2. Проверим наличие неявных дубликатов в названиях записей."
   ]
  },
  {
   "cell_type": "code",
   "execution_count": 558,
   "id": "1e2b4cb5-ea84-42d6-87be-27a929b3129a",
   "metadata": {},
   "outputs": [
    {
     "data": {
      "text/html": [
       "<div>\n",
       "<style scoped>\n",
       "    .dataframe tbody tr th:only-of-type {\n",
       "        vertical-align: middle;\n",
       "    }\n",
       "\n",
       "    .dataframe tbody tr th {\n",
       "        vertical-align: top;\n",
       "    }\n",
       "\n",
       "    .dataframe thead th {\n",
       "        text-align: right;\n",
       "    }\n",
       "</style>\n",
       "<table border=\"1\" class=\"dataframe\">\n",
       "  <thead>\n",
       "    <tr style=\"text-align: right;\">\n",
       "      <th></th>\n",
       "      <th>entry_id</th>\n",
       "      <th>entry</th>\n",
       "      <th>entry_lower</th>\n",
       "    </tr>\n",
       "  </thead>\n",
       "  <tbody>\n",
       "    <tr>\n",
       "      <th>757</th>\n",
       "      <td>757</td>\n",
       "      <td>ФОРМА для выпечки шоколадных кексов</td>\n",
       "      <td>форма для выпечки шоколадных кексов</td>\n",
       "    </tr>\n",
       "    <tr>\n",
       "      <th>764</th>\n",
       "      <td>764</td>\n",
       "      <td>Форма для выпечки шоколадных кексов</td>\n",
       "      <td>форма для выпечки шоколадных кексов</td>\n",
       "    </tr>\n",
       "    <tr>\n",
       "      <th>819</th>\n",
       "      <td>819</td>\n",
       "      <td>Шкатулка для безделушек Марии-Антуанетты, золотая</td>\n",
       "      <td>шкатулка для безделушек марии-антуанетты, золотая</td>\n",
       "    </tr>\n",
       "    <tr>\n",
       "      <th>2778</th>\n",
       "      <td>2778</td>\n",
       "      <td>форма для выпечки шоколадных кексов</td>\n",
       "      <td>форма для выпечки шоколадных кексов</td>\n",
       "    </tr>\n",
       "    <tr>\n",
       "      <th>2869</th>\n",
       "      <td>2869</td>\n",
       "      <td>шкатулка для безделушек Марии-Антуанетты, золотая</td>\n",
       "      <td>шкатулка для безделушек марии-антуанетты, золотая</td>\n",
       "    </tr>\n",
       "  </tbody>\n",
       "</table>\n",
       "</div>"
      ],
      "text/plain": [
       "      entry_id                                              entry  \\\n",
       "757        757                ФОРМА для выпечки шоколадных кексов   \n",
       "764        764                Форма для выпечки шоколадных кексов   \n",
       "819        819  Шкатулка для безделушек Марии-Антуанетты, золотая   \n",
       "2778      2778                форма для выпечки шоколадных кексов   \n",
       "2869      2869  шкатулка для безделушек Марии-Антуанетты, золотая   \n",
       "\n",
       "                                            entry_lower  \n",
       "757                 форма для выпечки шоколадных кексов  \n",
       "764                 форма для выпечки шоколадных кексов  \n",
       "819   шкатулка для безделушек марии-антуанетты, золотая  \n",
       "2778                форма для выпечки шоколадных кексов  \n",
       "2869  шкатулка для безделушек марии-антуанетты, золотая  "
      ]
     },
     "metadata": {},
     "output_type": "display_data"
    }
   ],
   "source": [
    "df_entry['entry_lower'] = df_entry['entry'].str.lower()\n",
    "display(df_entry[df_entry.duplicated(subset=['entry_lower'], keep=False)])"
   ]
  },
  {
   "cell_type": "markdown",
   "id": "888acdc7-3a5c-41f4-8d6b-13578cd3b030",
   "metadata": {},
   "source": [
    "В датафрейме с наименованием записей присутствуют дубликаты со значением id равным 757, 764, 819, 2778, 2869. Удалим последние дубликаты и удалим столбец, который использовали для проверки"
   ]
  },
  {
   "cell_type": "code",
   "execution_count": 560,
   "id": "d3231300-5b85-4664-a16c-8008794ecdb1",
   "metadata": {},
   "outputs": [
    {
     "data": {
      "text/html": [
       "<div>\n",
       "<style scoped>\n",
       "    .dataframe tbody tr th:only-of-type {\n",
       "        vertical-align: middle;\n",
       "    }\n",
       "\n",
       "    .dataframe tbody tr th {\n",
       "        vertical-align: top;\n",
       "    }\n",
       "\n",
       "    .dataframe thead th {\n",
       "        text-align: right;\n",
       "    }\n",
       "</style>\n",
       "<table border=\"1\" class=\"dataframe\">\n",
       "  <thead>\n",
       "    <tr style=\"text-align: right;\">\n",
       "      <th></th>\n",
       "      <th>entry_id</th>\n",
       "      <th>entry</th>\n",
       "    </tr>\n",
       "  </thead>\n",
       "  <tbody>\n",
       "    <tr>\n",
       "      <th>0</th>\n",
       "      <td>0</td>\n",
       "      <td>NaN</td>\n",
       "    </tr>\n",
       "    <tr>\n",
       "      <th>1</th>\n",
       "      <td>1</td>\n",
       "      <td>10-цветная ручка Spaceboy</td>\n",
       "    </tr>\n",
       "    <tr>\n",
       "      <th>2</th>\n",
       "      <td>2</td>\n",
       "      <td>12 карандашей, черепа</td>\n",
       "    </tr>\n",
       "    <tr>\n",
       "      <th>3</th>\n",
       "      <td>3</td>\n",
       "      <td>12 карандашей, высокий тюбик, лесной массив</td>\n",
       "    </tr>\n",
       "    <tr>\n",
       "      <th>4</th>\n",
       "      <td>4</td>\n",
       "      <td>12 карандашей, маленький тюбик с черепом</td>\n",
       "    </tr>\n",
       "  </tbody>\n",
       "</table>\n",
       "</div>"
      ],
      "text/plain": [
       "   entry_id                                        entry\n",
       "0         0                                          NaN\n",
       "1         1                    10-цветная ручка Spaceboy\n",
       "2         2                        12 карандашей, черепа\n",
       "3         3  12 карандашей, высокий тюбик, лесной массив\n",
       "4         4     12 карандашей, маленький тюбик с черепом"
      ]
     },
     "metadata": {},
     "output_type": "display_data"
    },
    {
     "data": {
      "text/plain": [
       "2914"
      ]
     },
     "metadata": {},
     "output_type": "display_data"
    }
   ],
   "source": [
    "df_entry = df_entry.drop_duplicates(subset=['entry_lower'], keep='last')\n",
    "df_entry = df_entry.drop('entry_lower', axis=1)\n",
    "display(df_entry.head())\n",
    "display(len(df_entry))"
   ]
  },
  {
   "cell_type": "markdown",
   "id": "531610ae-2676-463d-bcc0-a8ccb5890933",
   "metadata": {},
   "source": [
    "Неявные дубликаты исключены из датафрейма с названиями записей"
   ]
  },
  {
   "cell_type": "markdown",
   "id": "45ea272d-d069-4feb-9e7f-328750b90ab3",
   "metadata": {},
   "source": [
    "#### 1.2.3 Проверка нулевых значений в датафрейме `df_entry`"
   ]
  },
  {
   "cell_type": "code",
   "execution_count": 564,
   "id": "58cd3c1e-91c2-43d4-9de8-9c57960cf9fe",
   "metadata": {},
   "outputs": [
    {
     "data": {
      "text/html": [
       "<div>\n",
       "<style scoped>\n",
       "    .dataframe tbody tr th:only-of-type {\n",
       "        vertical-align: middle;\n",
       "    }\n",
       "\n",
       "    .dataframe tbody tr th {\n",
       "        vertical-align: top;\n",
       "    }\n",
       "\n",
       "    .dataframe thead th {\n",
       "        text-align: right;\n",
       "    }\n",
       "</style>\n",
       "<table border=\"1\" class=\"dataframe\">\n",
       "  <thead>\n",
       "    <tr style=\"text-align: right;\">\n",
       "      <th></th>\n",
       "      <th>entry_id</th>\n",
       "      <th>entry</th>\n",
       "    </tr>\n",
       "  </thead>\n",
       "  <tbody>\n",
       "    <tr>\n",
       "      <th>0</th>\n",
       "      <td>0</td>\n",
       "      <td>NaN</td>\n",
       "    </tr>\n",
       "  </tbody>\n",
       "</table>\n",
       "</div>"
      ],
      "text/plain": [
       "   entry_id entry\n",
       "0         0   NaN"
      ]
     },
     "metadata": {},
     "output_type": "display_data"
    }
   ],
   "source": [
    "display(df_entry.query('entry_id == 0'))"
   ]
  },
  {
   "cell_type": "markdown",
   "id": "2c6aad72-e046-416e-bfad-7802361ec3c5",
   "metadata": {},
   "source": [
    "С id 0 отсутствует наименование позиции, перед объединением проверим количество таких записей"
   ]
  },
  {
   "cell_type": "markdown",
   "id": "9e7903c0-bb3e-463e-9211-a10554f74ba4",
   "metadata": {},
   "source": [
    "#### 1.2.4 Проверка на соответствие идентификационных номеров и объединение\n",
    "1. В столбце `customer_id` есть отрицательные значения, проверим их и примем решение по ним:"
   ]
  },
  {
   "cell_type": "code",
   "execution_count": 567,
   "id": "f462dd4d-6b93-45c4-a0f8-7195e3ae3b7f",
   "metadata": {},
   "outputs": [
    {
     "name": "stdout",
     "output_type": "stream",
     "text": [
      "Минимальный id до фильтрации:\n"
     ]
    },
    {
     "data": {
      "text/plain": [
       "-1"
      ]
     },
     "metadata": {},
     "output_type": "display_data"
    },
    {
     "name": "stdout",
     "output_type": "stream",
     "text": [
      "Минимальный id после фильтрации:\n"
     ]
    },
    {
     "data": {
      "text/plain": [
       "1713"
      ]
     },
     "metadata": {},
     "output_type": "display_data"
    }
   ],
   "source": [
    "# Минимальное значение id пользователя\n",
    "print('Минимальный id до фильтрации:')\n",
    "display(df['customer_id'].min())\n",
    "# Посмотрим на минимлаьное значение больше -1:\n",
    "print('Минимальный id после фильтрации:')\n",
    "display(df.query('customer_id > 0')['customer_id'].min())"
   ]
  },
  {
   "cell_type": "code",
   "execution_count": 568,
   "id": "51af6a00-f022-460d-bb9f-de906e2d53f9",
   "metadata": {},
   "outputs": [
    {
     "name": "stdout",
     "output_type": "stream",
     "text": [
      "Доля пользователей с отрицательным и нулевым id в датафрейм df: 26.1%\n"
     ]
    }
   ],
   "source": [
    "# Подсчитаем долю таких пользоваетелей:\n",
    "customer_id_error_shape = df.query('customer_id <= 0')['customer_id'].count() / len(df)\n",
    "print(f'Доля пользователей с отрицательным и нулевым id в датафрейм df: {customer_id_error_shape:.1%}')"
   ]
  },
  {
   "cell_type": "code",
   "execution_count": 569,
   "id": "d3d1d577-6813-4a06-89e9-6772e5b7521d",
   "metadata": {},
   "outputs": [
    {
     "data": {
      "text/html": [
       "<div>\n",
       "<style scoped>\n",
       "    .dataframe tbody tr th:only-of-type {\n",
       "        vertical-align: middle;\n",
       "    }\n",
       "\n",
       "    .dataframe tbody tr th {\n",
       "        vertical-align: top;\n",
       "    }\n",
       "\n",
       "    .dataframe thead th {\n",
       "        text-align: right;\n",
       "    }\n",
       "</style>\n",
       "<table border=\"1\" class=\"dataframe\">\n",
       "  <thead>\n",
       "    <tr style=\"text-align: right;\">\n",
       "      <th></th>\n",
       "      <th>entry_date</th>\n",
       "      <th>order_id</th>\n",
       "      <th>customer_id</th>\n",
       "      <th>quantity</th>\n",
       "      <th>price</th>\n",
       "      <th>name_clust</th>\n",
       "      <th>entry_id</th>\n",
       "      <th>country_id</th>\n",
       "    </tr>\n",
       "  </thead>\n",
       "  <tbody>\n",
       "    <tr>\n",
       "      <th>395</th>\n",
       "      <td>2018-01-12 11:52:00</td>\n",
       "      <td>3080</td>\n",
       "      <td>-1</td>\n",
       "      <td>56</td>\n",
       "      <td>0</td>\n",
       "      <td>0</td>\n",
       "      <td>0</td>\n",
       "      <td>28</td>\n",
       "    </tr>\n",
       "    <tr>\n",
       "      <th>912</th>\n",
       "      <td>2018-01-12 14:32:00</td>\n",
       "      <td>3210</td>\n",
       "      <td>-1</td>\n",
       "      <td>2</td>\n",
       "      <td>251</td>\n",
       "      <td>111</td>\n",
       "      <td>1198</td>\n",
       "      <td>28</td>\n",
       "    </tr>\n",
       "    <tr>\n",
       "      <th>913</th>\n",
       "      <td>2018-01-12 14:32:00</td>\n",
       "      <td>3210</td>\n",
       "      <td>-1</td>\n",
       "      <td>4</td>\n",
       "      <td>85</td>\n",
       "      <td>193</td>\n",
       "      <td>2882</td>\n",
       "      <td>28</td>\n",
       "    </tr>\n",
       "    <tr>\n",
       "      <th>914</th>\n",
       "      <td>2018-01-12 14:32:00</td>\n",
       "      <td>3210</td>\n",
       "      <td>-1</td>\n",
       "      <td>2</td>\n",
       "      <td>166</td>\n",
       "      <td>227</td>\n",
       "      <td>1260</td>\n",
       "      <td>28</td>\n",
       "    </tr>\n",
       "    <tr>\n",
       "      <th>915</th>\n",
       "      <td>2018-01-12 14:32:00</td>\n",
       "      <td>3210</td>\n",
       "      <td>-1</td>\n",
       "      <td>9</td>\n",
       "      <td>166</td>\n",
       "      <td>581</td>\n",
       "      <td>2551</td>\n",
       "      <td>28</td>\n",
       "    </tr>\n",
       "    <tr>\n",
       "      <th>...</th>\n",
       "      <td>...</td>\n",
       "      <td>...</td>\n",
       "      <td>...</td>\n",
       "      <td>...</td>\n",
       "      <td>...</td>\n",
       "      <td>...</td>\n",
       "      <td>...</td>\n",
       "      <td>...</td>\n",
       "    </tr>\n",
       "    <tr>\n",
       "      <th>356660</th>\n",
       "      <td>2019-09-12 10:26:00</td>\n",
       "      <td>48164</td>\n",
       "      <td>-1</td>\n",
       "      <td>1</td>\n",
       "      <td>413</td>\n",
       "      <td>439</td>\n",
       "      <td>44</td>\n",
       "      <td>28</td>\n",
       "    </tr>\n",
       "    <tr>\n",
       "      <th>356661</th>\n",
       "      <td>2019-09-12 10:26:00</td>\n",
       "      <td>48164</td>\n",
       "      <td>-1</td>\n",
       "      <td>5</td>\n",
       "      <td>329</td>\n",
       "      <td>388</td>\n",
       "      <td>2649</td>\n",
       "      <td>28</td>\n",
       "    </tr>\n",
       "    <tr>\n",
       "      <th>356662</th>\n",
       "      <td>2019-09-12 10:26:00</td>\n",
       "      <td>48164</td>\n",
       "      <td>-1</td>\n",
       "      <td>5</td>\n",
       "      <td>413</td>\n",
       "      <td>427</td>\n",
       "      <td>957</td>\n",
       "      <td>28</td>\n",
       "    </tr>\n",
       "    <tr>\n",
       "      <th>356663</th>\n",
       "      <td>2019-09-12 10:26:00</td>\n",
       "      <td>48164</td>\n",
       "      <td>-1</td>\n",
       "      <td>1</td>\n",
       "      <td>1079</td>\n",
       "      <td>103</td>\n",
       "      <td>366</td>\n",
       "      <td>28</td>\n",
       "    </tr>\n",
       "    <tr>\n",
       "      <th>356664</th>\n",
       "      <td>2019-09-12 10:26:00</td>\n",
       "      <td>48164</td>\n",
       "      <td>-1</td>\n",
       "      <td>1</td>\n",
       "      <td>171417</td>\n",
       "      <td>0</td>\n",
       "      <td>180</td>\n",
       "      <td>28</td>\n",
       "    </tr>\n",
       "  </tbody>\n",
       "</table>\n",
       "<p>92307 rows × 8 columns</p>\n",
       "</div>"
      ],
      "text/plain": [
       "                entry_date  order_id  customer_id  quantity   price  \\\n",
       "395    2018-01-12 11:52:00      3080           -1        56       0   \n",
       "912    2018-01-12 14:32:00      3210           -1         2     251   \n",
       "913    2018-01-12 14:32:00      3210           -1         4      85   \n",
       "914    2018-01-12 14:32:00      3210           -1         2     166   \n",
       "915    2018-01-12 14:32:00      3210           -1         9     166   \n",
       "...                    ...       ...          ...       ...     ...   \n",
       "356660 2019-09-12 10:26:00     48164           -1         1     413   \n",
       "356661 2019-09-12 10:26:00     48164           -1         5     329   \n",
       "356662 2019-09-12 10:26:00     48164           -1         5     413   \n",
       "356663 2019-09-12 10:26:00     48164           -1         1    1079   \n",
       "356664 2019-09-12 10:26:00     48164           -1         1  171417   \n",
       "\n",
       "        name_clust  entry_id  country_id  \n",
       "395              0         0          28  \n",
       "912            111      1198          28  \n",
       "913            193      2882          28  \n",
       "914            227      1260          28  \n",
       "915            581      2551          28  \n",
       "...            ...       ...         ...  \n",
       "356660         439        44          28  \n",
       "356661         388      2649          28  \n",
       "356662         427       957          28  \n",
       "356663         103       366          28  \n",
       "356664           0       180          28  \n",
       "\n",
       "[92307 rows x 8 columns]"
      ]
     },
     "metadata": {},
     "output_type": "display_data"
    }
   ],
   "source": [
    "display(df.query('customer_id <= 0'))"
   ]
  },
  {
   "cell_type": "markdown",
   "id": "0ef65e55-6b98-4153-97c2-26b9ed07fe48",
   "metadata": {},
   "source": [
    "Количество записей с отрицательным значением в `customer_id` составляет больше четверти от всех данных, удалять их для анализа значит лишиться большой части данных, а следующее после него минимальное значение начинается с 1713. При анализе продаж по периодам эти данные нам не помешают.  \n",
    "При анализе поведения клиентов, конверсии, разделении на группы, клиентов без идентификатора удалим, так как они будут считаться ошибкой."
   ]
  },
  {
   "cell_type": "markdown",
   "id": "291f80a1-b592-4d7e-8336-adcaad46f434",
   "metadata": {},
   "source": [
    "2. Значения `entry_id` проверим что в df не присутствует id, которых нет в df_entry:"
   ]
  },
  {
   "cell_type": "code",
   "execution_count": 572,
   "id": "d498e8af-5a06-45e8-995f-e61f7aad20cb",
   "metadata": {},
   "outputs": [
    {
     "name": "stdout",
     "output_type": "stream",
     "text": [
      "entry_id совпадают в обоих датафрейм: False\n"
     ]
    }
   ],
   "source": [
    "# Формируем два списка с уникальными id из двух датафрейм\n",
    "df_arr = np.sort(df['entry_id'].unique())\n",
    "df_entry_arr = np.sort(df_entry['entry_id'].unique())\n",
    "# Проверяем что они одинаковые, а также узнаем сразу полноту данных\n",
    "answer = np.array_equal(df_arr,df_entry_arr)\n",
    "print(f'entry_id совпадают в обоих датафрейм: {answer}')"
   ]
  },
  {
   "cell_type": "markdown",
   "id": "772ddf35-a1f8-48a1-8584-9b1d3dfc2f77",
   "metadata": {},
   "source": [
    "`entry_id` совпадают, но есть нулевые значения, проверим их количество перед объединением, так как приведет к наличию пропусков из-за отсутствия названия у нулевого id:"
   ]
  },
  {
   "cell_type": "code",
   "execution_count": 574,
   "id": "bd074df2-f97b-4674-9048-16006c1d6405",
   "metadata": {},
   "outputs": [
    {
     "name": "stdout",
     "output_type": "stream",
     "text": [
      "Доля нулевых order_id в датафрейм df: 0.4%\n"
     ]
    }
   ],
   "source": [
    "# Подсчитаем долю таких записей:\n",
    "zero_entry_id_shape = df.query('entry_id == 0')['entry_id'].count() / len(df)\n",
    "print(f'Доля нулевых order_id в датафрейм df: {zero_entry_id_shape:.1%}')"
   ]
  },
  {
   "cell_type": "markdown",
   "id": "a0a046b4-d880-4bf8-835d-f1ff4e93fdfc",
   "metadata": {},
   "source": [
    "Доля нулевых значений составляет 0.4 процента, можно их исключить из выборки, чтобы при дальнейшем анализе, например, при анализе популярных позиций мы не столкнулись с неизвестным товаром. Также мы видели ранее, что эти данные имеют нулевую цену, так что они нам будут мешать. Ведь данные должны быть чистыми и без пропусков."
   ]
  },
  {
   "cell_type": "code",
   "execution_count": 576,
   "id": "00ec6796-5826-4d7b-9770-caac5af39911",
   "metadata": {},
   "outputs": [
    {
     "name": "stdout",
     "output_type": "stream",
     "text": [
      "Доля нулевых order_id в датафрейм df: 0.0%\n"
     ]
    }
   ],
   "source": [
    "df = df.query('entry_id > 0')\n",
    "# Подсчитаем долю таких записей:\n",
    "zero_entry_id_shape = df.query('entry_id == 0')['entry_id'].count() / len(df)\n",
    "print(f'Доля нулевых order_id в датафрейм df: {zero_entry_id_shape:.1%}')"
   ]
  },
  {
   "cell_type": "markdown",
   "id": "ef4cc60b-402e-4307-af0e-47d69c9db7c0",
   "metadata": {},
   "source": [
    "3. В столбцах `name_clust` и `country_id` есть нулевые значения, проверим их долю от общего количества и решим что делать дальше с ними:"
   ]
  },
  {
   "cell_type": "code",
   "execution_count": 578,
   "id": "f5fb24c7-2fdf-42bb-b5ee-6874a61b17cc",
   "metadata": {},
   "outputs": [
    {
     "name": "stdout",
     "output_type": "stream",
     "text": [
      "Доля нулевых country_id в датафрейм df: 0.2%\n",
      "Доля нулевых name_clust в датафрейм df: 0.4%\n"
     ]
    }
   ],
   "source": [
    "# Подсчитаем долю нулевых country_id:\n",
    "zero_country_id_shape = df.query('country_id == 0')['country_id'].count() / len(df)\n",
    "print(f'Доля нулевых country_id в датафрейм df: {zero_country_id_shape:.1%}')\n",
    "# Подсчитаем долю нулевых name_clust:\n",
    "zero_name_clust_shape = df.query('name_clust == 0')['name_clust'].count() / len(df)\n",
    "print(f'Доля нулевых name_clust в датафрейм df: {zero_name_clust_shape:.1%}')"
   ]
  },
  {
   "cell_type": "markdown",
   "id": "d306df3a-4ea0-4bae-bdfa-b6924ad27c6c",
   "metadata": {},
   "source": [
    "Доля таких данных невысоках, можно их исключить, так как при статистическом анализе эти данные будут мешать формировать группы по поведению, из-за отсутствия информации."
   ]
  },
  {
   "cell_type": "code",
   "execution_count": 580,
   "id": "652fede8-9829-41a6-9bc2-2ca1b2f8abb0",
   "metadata": {},
   "outputs": [
    {
     "name": "stdout",
     "output_type": "stream",
     "text": [
      "Доля нулевых country_id в датафрейм df: 0.0%\n",
      "Доля нулевых name_clust в датафрейм df: 0.0%\n"
     ]
    }
   ],
   "source": [
    "df = df.query('country_id != 0 & name_clust != 0')\n",
    "# Подсчитаем долю нулевых country_id:\n",
    "zero_country_id_shape = df.query('country_id == 0')['country_id'].count() / len(df)\n",
    "print(f'Доля нулевых country_id в датафрейм df: {zero_country_id_shape:.1%}')\n",
    "# Подсчитаем долю нулевых name_clust:\n",
    "zero_name_clust_shape = df.query('name_clust == 0')['name_clust'].count() / len(df)\n",
    "print(f'Доля нулевых name_clust в датафрейм df: {zero_name_clust_shape:.1%}')"
   ]
  },
  {
   "cell_type": "markdown",
   "id": "78e59ca8-8de8-4c68-b780-5529eff40e3f",
   "metadata": {},
   "source": [
    "#### 1.2.5 Объединение датафреймов:"
   ]
  },
  {
   "cell_type": "code",
   "execution_count": 582,
   "id": "8840b7b3-fc66-47f8-91e1-a0462d1d635e",
   "metadata": {},
   "outputs": [
    {
     "name": "stdout",
     "output_type": "stream",
     "text": [
      "Информация об объединенном датафрейме\n",
      "<class 'pandas.core.frame.DataFrame'>\n",
      "RangeIndex: 349696 entries, 0 to 349695\n",
      "Data columns (total 9 columns):\n",
      " #   Column       Non-Null Count   Dtype         \n",
      "---  ------       --------------   -----         \n",
      " 0   entry_date   349696 non-null  datetime64[ns]\n",
      " 1   order_id     349696 non-null  int64         \n",
      " 2   customer_id  349696 non-null  int64         \n",
      " 3   quantity     349696 non-null  int64         \n",
      " 4   price        349696 non-null  int64         \n",
      " 5   name_clust   349696 non-null  int64         \n",
      " 6   entry_id     349696 non-null  int64         \n",
      " 7   country_id   349696 non-null  int64         \n",
      " 8   entry        349538 non-null  object        \n",
      "dtypes: datetime64[ns](1), int64(7), object(1)\n",
      "memory usage: 24.0+ MB\n"
     ]
    },
    {
     "data": {
      "text/plain": [
       "None"
      ]
     },
     "metadata": {},
     "output_type": "display_data"
    },
    {
     "data": {
      "text/html": [
       "<div>\n",
       "<style scoped>\n",
       "    .dataframe tbody tr th:only-of-type {\n",
       "        vertical-align: middle;\n",
       "    }\n",
       "\n",
       "    .dataframe tbody tr th {\n",
       "        vertical-align: top;\n",
       "    }\n",
       "\n",
       "    .dataframe thead th {\n",
       "        text-align: right;\n",
       "    }\n",
       "</style>\n",
       "<table border=\"1\" class=\"dataframe\">\n",
       "  <thead>\n",
       "    <tr style=\"text-align: right;\">\n",
       "      <th></th>\n",
       "      <th>entry_date</th>\n",
       "      <th>order_id</th>\n",
       "      <th>customer_id</th>\n",
       "      <th>quantity</th>\n",
       "      <th>price</th>\n",
       "      <th>name_clust</th>\n",
       "      <th>entry_id</th>\n",
       "      <th>country_id</th>\n",
       "    </tr>\n",
       "  </thead>\n",
       "  <tbody>\n",
       "    <tr>\n",
       "      <th>count</th>\n",
       "      <td>349696</td>\n",
       "      <td>349696.000000</td>\n",
       "      <td>349696.000000</td>\n",
       "      <td>349696.000000</td>\n",
       "      <td>3.496960e+05</td>\n",
       "      <td>349696.000000</td>\n",
       "      <td>349696.000000</td>\n",
       "      <td>349696.000000</td>\n",
       "    </tr>\n",
       "    <tr>\n",
       "      <th>mean</th>\n",
       "      <td>2019-06-16 15:59:03.606733312</td>\n",
       "      <td>26703.754352</td>\n",
       "      <td>3493.858792</td>\n",
       "      <td>10.400943</td>\n",
       "      <td>3.304074e+02</td>\n",
       "      <td>472.374102</td>\n",
       "      <td>1527.073232</td>\n",
       "      <td>26.797947</td>\n",
       "    </tr>\n",
       "    <tr>\n",
       "      <th>min</th>\n",
       "      <td>2018-01-12 08:26:00</td>\n",
       "      <td>3031.000000</td>\n",
       "      <td>-1.000000</td>\n",
       "      <td>1.000000</td>\n",
       "      <td>0.000000e+00</td>\n",
       "      <td>1.000000</td>\n",
       "      <td>1.000000</td>\n",
       "      <td>1.000000</td>\n",
       "    </tr>\n",
       "    <tr>\n",
       "      <th>25%</th>\n",
       "      <td>2019-03-24 10:38:00</td>\n",
       "      <td>14844.000000</td>\n",
       "      <td>-1.000000</td>\n",
       "      <td>1.000000</td>\n",
       "      <td>1.250000e+02</td>\n",
       "      <td>247.000000</td>\n",
       "      <td>900.000000</td>\n",
       "      <td>28.000000</td>\n",
       "    </tr>\n",
       "    <tr>\n",
       "      <th>50%</th>\n",
       "      <td>2019-07-04 10:11:00</td>\n",
       "      <td>27395.000000</td>\n",
       "      <td>3640.000000</td>\n",
       "      <td>3.000000</td>\n",
       "      <td>2.080000e+02</td>\n",
       "      <td>450.000000</td>\n",
       "      <td>1562.000000</td>\n",
       "      <td>28.000000</td>\n",
       "    </tr>\n",
       "    <tr>\n",
       "      <th>75%</th>\n",
       "      <td>2019-10-05 11:44:00</td>\n",
       "      <td>38516.000000</td>\n",
       "      <td>5633.000000</td>\n",
       "      <td>10.000000</td>\n",
       "      <td>4.130000e+02</td>\n",
       "      <td>705.000000</td>\n",
       "      <td>2223.000000</td>\n",
       "      <td>28.000000</td>\n",
       "    </tr>\n",
       "    <tr>\n",
       "      <th>max</th>\n",
       "      <td>2019-12-10 17:19:00</td>\n",
       "      <td>48253.000000</td>\n",
       "      <td>7653.000000</td>\n",
       "      <td>80995.000000</td>\n",
       "      <td>1.354133e+06</td>\n",
       "      <td>929.000000</td>\n",
       "      <td>2916.000000</td>\n",
       "      <td>29.000000</td>\n",
       "    </tr>\n",
       "    <tr>\n",
       "      <th>std</th>\n",
       "      <td>NaN</td>\n",
       "      <td>13380.040061</td>\n",
       "      <td>2536.750222</td>\n",
       "      <td>143.053254</td>\n",
       "      <td>2.716342e+03</td>\n",
       "      <td>256.724070</td>\n",
       "      <td>827.882782</td>\n",
       "      <td>4.842955</td>\n",
       "    </tr>\n",
       "  </tbody>\n",
       "</table>\n",
       "</div>"
      ],
      "text/plain": [
       "                          entry_date       order_id    customer_id  \\\n",
       "count                         349696  349696.000000  349696.000000   \n",
       "mean   2019-06-16 15:59:03.606733312   26703.754352    3493.858792   \n",
       "min              2018-01-12 08:26:00    3031.000000      -1.000000   \n",
       "25%              2019-03-24 10:38:00   14844.000000      -1.000000   \n",
       "50%              2019-07-04 10:11:00   27395.000000    3640.000000   \n",
       "75%              2019-10-05 11:44:00   38516.000000    5633.000000   \n",
       "max              2019-12-10 17:19:00   48253.000000    7653.000000   \n",
       "std                              NaN   13380.040061    2536.750222   \n",
       "\n",
       "            quantity         price     name_clust       entry_id  \\\n",
       "count  349696.000000  3.496960e+05  349696.000000  349696.000000   \n",
       "mean       10.400943  3.304074e+02     472.374102    1527.073232   \n",
       "min         1.000000  0.000000e+00       1.000000       1.000000   \n",
       "25%         1.000000  1.250000e+02     247.000000     900.000000   \n",
       "50%         3.000000  2.080000e+02     450.000000    1562.000000   \n",
       "75%        10.000000  4.130000e+02     705.000000    2223.000000   \n",
       "max     80995.000000  1.354133e+06     929.000000    2916.000000   \n",
       "std       143.053254  2.716342e+03     256.724070     827.882782   \n",
       "\n",
       "          country_id  \n",
       "count  349696.000000  \n",
       "mean       26.797947  \n",
       "min         1.000000  \n",
       "25%        28.000000  \n",
       "50%        28.000000  \n",
       "75%        28.000000  \n",
       "max        29.000000  \n",
       "std         4.842955  "
      ]
     },
     "metadata": {},
     "output_type": "display_data"
    },
    {
     "data": {
      "text/html": [
       "<div>\n",
       "<style scoped>\n",
       "    .dataframe tbody tr th:only-of-type {\n",
       "        vertical-align: middle;\n",
       "    }\n",
       "\n",
       "    .dataframe tbody tr th {\n",
       "        vertical-align: top;\n",
       "    }\n",
       "\n",
       "    .dataframe thead th {\n",
       "        text-align: right;\n",
       "    }\n",
       "</style>\n",
       "<table border=\"1\" class=\"dataframe\">\n",
       "  <thead>\n",
       "    <tr style=\"text-align: right;\">\n",
       "      <th></th>\n",
       "      <th>entry_date</th>\n",
       "      <th>order_id</th>\n",
       "      <th>customer_id</th>\n",
       "      <th>quantity</th>\n",
       "      <th>price</th>\n",
       "      <th>name_clust</th>\n",
       "      <th>entry_id</th>\n",
       "      <th>country_id</th>\n",
       "      <th>entry</th>\n",
       "    </tr>\n",
       "  </thead>\n",
       "  <tbody>\n",
       "    <tr>\n",
       "      <th>185120</th>\n",
       "      <td>2019-02-08 16:11:00</td>\n",
       "      <td>28779</td>\n",
       "      <td>-1</td>\n",
       "      <td>1</td>\n",
       "      <td>579</td>\n",
       "      <td>241</td>\n",
       "      <td>654</td>\n",
       "      <td>28</td>\n",
       "      <td>Розы Регентства, чашка и блюдце</td>\n",
       "    </tr>\n",
       "    <tr>\n",
       "      <th>322239</th>\n",
       "      <td>2019-11-25 09:23:00</td>\n",
       "      <td>45353</td>\n",
       "      <td>5297</td>\n",
       "      <td>10</td>\n",
       "      <td>165</td>\n",
       "      <td>70</td>\n",
       "      <td>1388</td>\n",
       "      <td>28</td>\n",
       "      <td>катушка с лентой флора + фауна</td>\n",
       "    </tr>\n",
       "    <tr>\n",
       "      <th>247045</th>\n",
       "      <td>2019-07-10 09:38:00</td>\n",
       "      <td>36675</td>\n",
       "      <td>5862</td>\n",
       "      <td>12</td>\n",
       "      <td>208</td>\n",
       "      <td>804</td>\n",
       "      <td>1904</td>\n",
       "      <td>28</td>\n",
       "      <td>набор из 5 блинных магнитов</td>\n",
       "    </tr>\n",
       "    <tr>\n",
       "      <th>269073</th>\n",
       "      <td>2019-10-25 13:30:00</td>\n",
       "      <td>39342</td>\n",
       "      <td>3742</td>\n",
       "      <td>12</td>\n",
       "      <td>208</td>\n",
       "      <td>438</td>\n",
       "      <td>1449</td>\n",
       "      <td>28</td>\n",
       "      <td>колокольчик сердце антикварное золото</td>\n",
       "    </tr>\n",
       "    <tr>\n",
       "      <th>75210</th>\n",
       "      <td>2019-03-14 11:44:00</td>\n",
       "      <td>13164</td>\n",
       "      <td>4507</td>\n",
       "      <td>6</td>\n",
       "      <td>165</td>\n",
       "      <td>615</td>\n",
       "      <td>1716</td>\n",
       "      <td>28</td>\n",
       "      <td>маленькая стеклянная форма для мороженого, про...</td>\n",
       "    </tr>\n",
       "  </tbody>\n",
       "</table>\n",
       "</div>"
      ],
      "text/plain": [
       "                entry_date  order_id  customer_id  quantity  price  \\\n",
       "185120 2019-02-08 16:11:00     28779           -1         1    579   \n",
       "322239 2019-11-25 09:23:00     45353         5297        10    165   \n",
       "247045 2019-07-10 09:38:00     36675         5862        12    208   \n",
       "269073 2019-10-25 13:30:00     39342         3742        12    208   \n",
       "75210  2019-03-14 11:44:00     13164         4507         6    165   \n",
       "\n",
       "        name_clust  entry_id  country_id  \\\n",
       "185120         241       654          28   \n",
       "322239          70      1388          28   \n",
       "247045         804      1904          28   \n",
       "269073         438      1449          28   \n",
       "75210          615      1716          28   \n",
       "\n",
       "                                                    entry  \n",
       "185120                    Розы Регентства, чашка и блюдце  \n",
       "322239                     катушка с лентой флора + фауна  \n",
       "247045                        набор из 5 блинных магнитов  \n",
       "269073              колокольчик сердце антикварное золото  \n",
       "75210   маленькая стеклянная форма для мороженого, про...  "
      ]
     },
     "metadata": {},
     "output_type": "display_data"
    }
   ],
   "source": [
    "df_full = df.merge(df_entry, on='entry_id', how='left')\n",
    "# Проверим полноту данных после объединения:\n",
    "print('Информация об объединенном датафрейме')\n",
    "display(df_full.info())\n",
    "# Проверка числовых данных на корректность\n",
    "display(df_full.describe())\n",
    "# Вывод 5-ти случайных строк\n",
    "display(df_full.sample(5))"
   ]
  },
  {
   "cell_type": "code",
   "execution_count": 583,
   "id": "4b8f00ea-707f-4ae6-8758-47f96b3a69ad",
   "metadata": {},
   "outputs": [
    {
     "name": "stdout",
     "output_type": "stream",
     "text": [
      "Количество потеряных данных: 7244\n",
      "Доля потеряных данных: 2.0%\n"
     ]
    }
   ],
   "source": [
    "lost_data = len(df_raw) - len(df_full)\n",
    "lost_data_shape = lost_data / len(df_raw)\n",
    "print(f'Количество потеряных данных: {lost_data}')\n",
    "print(f'Доля потеряных данных: {lost_data_shape:.1%}')"
   ]
  },
  {
   "cell_type": "markdown",
   "id": "5a06d5f9-1173-4345-b246-d3d6e8c657bc",
   "metadata": {},
   "source": [
    "Два процента потерянных данных, не так страшно, учитывая что они стали более чистыми, дальше разберемся с аномальными значениями и сравним сколько ещё данных будет удаленно или изменено. Из ошибок мы оставили только ``customer_id`` так как их доля от всего датафрейма большая и они повлияют на анализ клиентов, где мы их исключим вероятнее всего"
   ]
  },
  {
   "cell_type": "markdown",
   "id": "b336f62f-db3c-4ddf-ae0d-41b93685abf3",
   "metadata": {},
   "source": [
    "## 2. Предобработка данных и начало исследовательского анализа\n",
    "Изучим все столбцы на наличие выбросов и аномальных значений, идентификационные номера, рассмотрим полноту данных и выберим период для анализа данных. Период данных содержащий основную часть данных будет использоваться для последующего анализа."
   ]
  },
  {
   "cell_type": "markdown",
   "id": "c5aeced4-ecb1-41a3-9409-a6c168636ce3",
   "metadata": {},
   "source": [
    "### 2.1 Выброси и аномальные значения в столбцах `quantity` и `price`\n",
    "#### 2.1.1 Столбец `quantity`\n",
    "После изучения данных обнаружено, что в столбце `quantity` присутствуют аномально высокие значения, что влияет на среднее значение и мы видим большое отличие межде средним и медианым значением. Изучим аномальные значения и посмотрим на распределение данных."
   ]
  },
  {
   "cell_type": "code",
   "execution_count": 588,
   "id": "f65cffeb-e8fd-42b7-9233-762243808860",
   "metadata": {},
   "outputs": [
    {
     "data": {
      "text/plain": [
       "count    349696.000000\n",
       "mean         10.400943\n",
       "std         143.053254\n",
       "min           1.000000\n",
       "25%           1.000000\n",
       "50%           3.000000\n",
       "75%          10.000000\n",
       "max       80995.000000\n",
       "Name: quantity, dtype: float64"
      ]
     },
     "metadata": {},
     "output_type": "display_data"
    },
    {
     "name": "stdout",
     "output_type": "stream",
     "text": [
      "Количество данных:\n"
     ]
    },
    {
     "data": {
      "text/plain": [
       "349696"
      ]
     },
     "metadata": {},
     "output_type": "display_data"
    },
    {
     "data": {
      "image/png": "[encoded data removed]",
      "text/plain": [
       "<Figure size 1200x400 with 1 Axes>"
      ]
     },
     "metadata": {},
     "output_type": "display_data"
    }
   ],
   "source": [
    "# Сделаем копию полного датафрейма для сравнения в будущем\n",
    "df_clean = df_full.copy()\n",
    "\n",
    "display(df_clean['quantity'].describe())\n",
    "print('Количество данных:')\n",
    "display(len(df_clean['quantity']))\n",
    "\n",
    "plt.figure(figsize=(12,4))\n",
    "sns.boxplot(data=df_clean, x='quantity')\n",
    "\n",
    "plt.title('Диаграмма размаха значений количества товара')\n",
    "plt.xlabel('Количество товаров')\n",
    "plt.grid()\n",
    "plt.show()"
   ]
  },
  {
   "cell_type": "markdown",
   "id": "2eb0dac2-5322-4ca2-9da7-1c87b2a240b5",
   "metadata": {},
   "source": [
    "По диаграмме размаха видны выбросы после 10000, до этого плотность данных сохраняется, удалим их из выборки, чтобы не влияли на конечный результат и посмотрим на распределение данных"
   ]
  },
  {
   "cell_type": "code",
   "execution_count": 590,
   "id": "0b058cf6-fff7-4ee6-a929-43521dcbf789",
   "metadata": {},
   "outputs": [
    {
     "data": {
      "text/plain": [
       "count    349694.000000\n",
       "mean         10.133525\n",
       "std          35.500742\n",
       "min           1.000000\n",
       "25%           1.000000\n",
       "50%           3.000000\n",
       "75%          10.000000\n",
       "max        3186.000000\n",
       "Name: quantity, dtype: float64"
      ]
     },
     "metadata": {},
     "output_type": "display_data"
    },
    {
     "name": "stdout",
     "output_type": "stream",
     "text": [
      "Количество данных:\n"
     ]
    },
    {
     "data": {
      "text/plain": [
       "349694"
      ]
     },
     "metadata": {},
     "output_type": "display_data"
    },
    {
     "data": {
      "image/png": "[encoded data removed]",
      "text/plain": [
       "<Figure size 1200x400 with 1 Axes>"
      ]
     },
     "metadata": {},
     "output_type": "display_data"
    }
   ],
   "source": [
    "df_clean = df_clean.query('quantity < 10000')\n",
    "display(df_clean['quantity'].describe())\n",
    "print('Количество данных:')\n",
    "display(len(df_clean['quantity']))\n",
    "\n",
    "plt.figure(figsize=(12,4))\n",
    "sns.boxplot(data=df_clean, x='quantity')\n",
    "\n",
    "plt.title('Диаграмма размаха значений количества товара')\n",
    "plt.xlabel('Количество товаров')\n",
    "plt.grid()\n",
    "plt.show()"
   ]
  },
  {
   "cell_type": "markdown",
   "id": "70dbceb8-c8de-4d1a-b80e-7660ca73ff44",
   "metadata": {},
   "source": [
    "По новому набору данных также видим большой разброс данных после 1000, так как у магазина есть оптовые клиенты, мы можем бесконечно сокращать выборку, но для интереса сократим до 200 и посмотрим, как изменится среднее значение и сколько данных останется в датафрейме:"
   ]
  },
  {
   "cell_type": "code",
   "execution_count": 592,
   "id": "42ec04b8-aad6-4d34-ad4e-712316f64d1e",
   "metadata": {},
   "outputs": [
    {
     "data": {
      "text/plain": [
       "count    348295.000000\n",
       "mean          8.553025\n",
       "std          15.460839\n",
       "min           1.000000\n",
       "25%           1.000000\n",
       "50%           3.000000\n",
       "75%          10.000000\n",
       "max         199.000000\n",
       "Name: quantity, dtype: float64"
      ]
     },
     "metadata": {},
     "output_type": "display_data"
    },
    {
     "name": "stdout",
     "output_type": "stream",
     "text": [
      "Количество данных:\n"
     ]
    },
    {
     "data": {
      "text/plain": [
       "348295"
      ]
     },
     "metadata": {},
     "output_type": "display_data"
    },
    {
     "name": "stdout",
     "output_type": "stream",
     "text": [
      "Количество исключенных данных: 1399\n",
      "Доля исключенных данных: 0.40%\n"
     ]
    },
    {
     "data": {
      "image/png": "[encoded data removed]",
      "text/plain": [
       "<Figure size 1200x400 with 1 Axes>"
      ]
     },
     "metadata": {},
     "output_type": "display_data"
    }
   ],
   "source": [
    "display(df_clean.query('quantity < 200')['quantity'].describe())\n",
    "print('Количество данных:')\n",
    "display(len(df_clean.query('quantity < 200')))\n",
    "\n",
    "lost_data = len(df_clean) - len(df_clean.query('quantity < 200'))\n",
    "lost_data_shape = lost_data / len(df_clean)\n",
    "print(f'Количество исключенных данных: {lost_data}')\n",
    "print(f'Доля исключенных данных: {lost_data_shape:.2%}')\n",
    "\n",
    "plt.figure(figsize=(12,4))\n",
    "sns.boxplot(data=df_clean.query('quantity < 200'), x='quantity')\n",
    "\n",
    "plt.title('Диаграмма размаха значений количества товара')\n",
    "plt.xlabel('Количество товаров')\n",
    "plt.grid()\n",
    "plt.show()"
   ]
  },
  {
   "cell_type": "markdown",
   "id": "97489cf3-ee7f-4fd2-bdfa-d36272f45a5a",
   "metadata": {},
   "source": [
    "Мы сократили выборку и видим, что все равно есть аномальные значения, но уже  виден \"Ящик с усами\". Среднее значение сократилось с 143 до 18, , а количество потерянных данных составит 0.4 процента. Можно сделать вывод, что это оптовые клиенты, и у них большие объемы, но даже при выделении оптовых клиентов эти данные бы нам мешали видеть картину целиком. На данном этапе оставим данные до 200 и вернемся к ним при необходимости после анализа клиентов. Так же в первичном анализе мы видели, что 75 процентиль имеет значение 10, что говорит о том, что высоких значений меньше 25 процентов, но исключать все не стоит, лучше потом разделить клиентов."
   ]
  },
  {
   "cell_type": "code",
   "execution_count": 594,
   "id": "4d35591e-c2b3-45af-9a85-d8cfb6b78b8a",
   "metadata": {},
   "outputs": [],
   "source": [
    "df_clean = df_clean.query('quantity < 200')"
   ]
  },
  {
   "cell_type": "markdown",
   "id": "af573423-c383-4906-b036-3e3675daad48",
   "metadata": {},
   "source": [
    "#### 2.1.2 Столбец `price`"
   ]
  },
  {
   "cell_type": "markdown",
   "id": "e1d1e1ab-e0f7-4a40-8dbe-a3b744b214fc",
   "metadata": {},
   "source": [
    "После изучения данных обнаружено, что в столбце `price` присутствуют аномально высокие значения, что влияет на среднее значение и мы видим большое отличие межде средним и медианым значением. Изучим аномальные значения и посмотрим на распределение данных в этом столбце с учетом исключенных высоких значений в столбце с количеством:"
   ]
  },
  {
   "cell_type": "code",
   "execution_count": 597,
   "id": "703f57ed-bab6-4a97-9026-4c78d48fc759",
   "metadata": {},
   "outputs": [
    {
     "data": {
      "text/plain": [
       "count    3.482950e+05\n",
       "mean     3.312134e+02\n",
       "std      2.721756e+03\n",
       "min      0.000000e+00\n",
       "25%      1.250000e+02\n",
       "50%      2.080000e+02\n",
       "75%      4.130000e+02\n",
       "max      1.354133e+06\n",
       "Name: price, dtype: float64"
      ]
     },
     "metadata": {},
     "output_type": "display_data"
    },
    {
     "name": "stdout",
     "output_type": "stream",
     "text": [
      "Количество данных:\n"
     ]
    },
    {
     "data": {
      "text/plain": [
       "348295"
      ]
     },
     "metadata": {},
     "output_type": "display_data"
    },
    {
     "data": {
      "image/png": "[encoded data removed]",
      "text/plain": [
       "<Figure size 1200x400 with 1 Axes>"
      ]
     },
     "metadata": {},
     "output_type": "display_data"
    }
   ],
   "source": [
    "display(df_clean['price'].describe())\n",
    "print('Количество данных:')\n",
    "display(len(df_clean['price']))\n",
    "\n",
    "plt.figure(figsize=(12,4))\n",
    "sns.boxplot(data=df_clean, x='price')\n",
    "\n",
    "plt.title('Диаграмма размаха значений стоимости товара')\n",
    "plt.xlabel('Стоимость товара')\n",
    "plt.grid()\n",
    "plt.show()"
   ]
  },
  {
   "cell_type": "markdown",
   "id": "73a2302f-58de-4c57-bff5-041f4c8e0c1d",
   "metadata": {},
   "source": [
    "В датафрейме присутствуют нулевы значений и аномально высокие выбросы, исключим сперва значения выше 0.2е+06 и посмотрим сколько нулевых:"
   ]
  },
  {
   "cell_type": "code",
   "execution_count": 599,
   "id": "2e00810d-2fb4-4ae1-b2c2-40f547e2ae0d",
   "metadata": {},
   "outputs": [
    {
     "data": {
      "text/plain": [
       "count    348293.000000\n",
       "mean        324.989494\n",
       "std         493.573917\n",
       "min           0.000000\n",
       "25%         125.000000\n",
       "50%         208.000000\n",
       "75%         413.000000\n",
       "max       70000.000000\n",
       "Name: price, dtype: float64"
      ]
     },
     "metadata": {},
     "output_type": "display_data"
    },
    {
     "name": "stdout",
     "output_type": "stream",
     "text": [
      "Количество данных:\n"
     ]
    },
    {
     "data": {
      "text/plain": [
       "348293"
      ]
     },
     "metadata": {},
     "output_type": "display_data"
    },
    {
     "name": "stdout",
     "output_type": "stream",
     "text": [
      "Количество нулевой цены: 305\n",
      "Доля нулевых цен: 0.1%\n"
     ]
    },
    {
     "data": {
      "image/png": "[encoded data removed]",
      "text/plain": [
       "<Figure size 1200x400 with 1 Axes>"
      ]
     },
     "metadata": {},
     "output_type": "display_data"
    }
   ],
   "source": [
    "display(df_clean.query('price < 0.2e+06')['price'].describe())\n",
    "print('Количество данных:')\n",
    "display(len(df_clean.query('price < 0.2e+06')['price']))\n",
    "\n",
    "zero_price = len(df_clean.query('price == 0'))\n",
    "zero_price_shape = zero_price / len(df_clean)\n",
    "print(f'Количество нулевой цены: {zero_price}')\n",
    "print(f'Доля нулевых цен: {zero_price_shape:.1%}')\n",
    "\n",
    "plt.figure(figsize=(12,4))\n",
    "sns.boxplot(data=df_clean.query('price < 0.2e+06'), x='price')\n",
    "\n",
    "plt.title('Диаграмма размаха значений стоимости товара')\n",
    "plt.xlabel('Стоимость товара')\n",
    "plt.grid()"
   ]
  },
  {
   "cell_type": "markdown",
   "id": "1bd21635-2585-4e12-96be-fb944bcdd632",
   "metadata": {},
   "source": [
    "Доля нулевых значений составляет лишь 0.1 процента, возможно это акция была или ошибка записи, но лучше их исключить из выборки. Также после новой фильтрации мы видим, что более плотно данные распределены в районе до 4000, так что методом исключения подберем оптимальное значение:"
   ]
  },
  {
   "cell_type": "code",
   "execution_count": 601,
   "id": "d9624972-991b-40be-9fd1-626b84e8b829",
   "metadata": {},
   "outputs": [
    {
     "data": {
      "text/plain": [
       "count    345703.000000\n",
       "mean        303.864997\n",
       "std         300.925768\n",
       "min           6.000000\n",
       "25%         125.000000\n",
       "50%         208.000000\n",
       "75%         413.000000\n",
       "max        1996.000000\n",
       "Name: price, dtype: float64"
      ]
     },
     "metadata": {},
     "output_type": "display_data"
    },
    {
     "name": "stdout",
     "output_type": "stream",
     "text": [
      "Количество данных:\n"
     ]
    },
    {
     "data": {
      "text/plain": [
       "345703"
      ]
     },
     "metadata": {},
     "output_type": "display_data"
    },
    {
     "name": "stdout",
     "output_type": "stream",
     "text": [
      "Количество исключенных данных: 2592\n",
      "Доля исключенных данных: 0.7%\n"
     ]
    },
    {
     "data": {
      "image/png": "[encoded data removed]",
      "text/plain": [
       "<Figure size 1200x400 with 1 Axes>"
      ]
     },
     "metadata": {},
     "output_type": "display_data"
    }
   ],
   "source": [
    "display(df_clean.query('price > 0 & price < 2000')['price'].describe())\n",
    "print('Количество данных:')\n",
    "display(len(df_clean.query('price > 0 & price < 2000')['price']))\n",
    "\n",
    "lost_data = len(df_clean) - len(df_clean.query('price > 0 & price < 2000'))\n",
    "lost_data_shape = lost_data / len(df_clean)\n",
    "print(f'Количество исключенных данных: {lost_data}')\n",
    "print(f'Доля исключенных данных: {lost_data_shape:.1%}')\n",
    "\n",
    "plt.figure(figsize=(12,4))\n",
    "sns.boxplot(data=df_clean.query('price > 0 & price < 2000'), x='price')\n",
    "\n",
    "plt.title('Диаграмма размаха значений стоимости товара')\n",
    "plt.xlabel('Стоимость товара')\n",
    "plt.grid()"
   ]
  },
  {
   "cell_type": "markdown",
   "id": "a425043a-38a8-4bc7-a913-1d040ca9b7d5",
   "metadata": {},
   "source": [
    "Методом исключения определили, что пределе в 2000 самый оптимальный, так как мы потеряем только 0.7 процента данных. Дорогие товары нам не интересны, хоть в их стоимость может быть заложена большая маржинальность, что вероятно компенсирует низкую маржинальность более популярных позиций, появляется гипотеза, что дорогие позиции позволяют больше заработать, но для полной картины нас интересует товар, который приносит постоянный доход. По возможности проверим данную гипотезу, что дорогие позиции покрывают расходы лучше товара по средней или низкой цене."
   ]
  },
  {
   "cell_type": "markdown",
   "id": "06998d60-df69-4211-baa0-966c36ff10f0",
   "metadata": {},
   "source": [
    "#### 2.1.3 Суммирование общей стоимости товарной позиции\n",
    "Расчитаем общую стоимость каждой позиции и добавим информацию в столбец `total_price`. Также сравним с данными из полного датафрейма, чтобы увидеть сильно ли изменились данные после исключения дорогих товаров и большого количества."
   ]
  },
  {
   "cell_type": "code",
   "execution_count": 604,
   "id": "d24d49f0-a67c-4a19-ba3c-f7548b8d82e1",
   "metadata": {},
   "outputs": [
    {
     "name": "stdout",
     "output_type": "stream",
     "text": [
      "Данные без выборосов и аномальных значений\n"
     ]
    },
    {
     "data": {
      "text/plain": [
       "count    3.482950e+05\n",
       "mean     1.616372e+03\n",
       "std      4.349777e+03\n",
       "min      0.000000e+00\n",
       "25%      3.750000e+02\n",
       "50%      9.360000e+02\n",
       "75%      1.700000e+03\n",
       "max      1.354133e+06\n",
       "Name: total_price, dtype: float64"
      ]
     },
     "metadata": {},
     "output_type": "display_data"
    },
    {
     "name": "stdout",
     "output_type": "stream",
     "text": [
      "Данные c выборосами и аномальных значениями\n"
     ]
    },
    {
     "data": {
      "text/plain": [
       "count    3.496960e+05\n",
       "mean     1.850831e+03\n",
       "std      2.922081e+04\n",
       "min      0.000000e+00\n",
       "25%      3.750000e+02\n",
       "50%      9.480000e+02\n",
       "75%      1.700000e+03\n",
       "max      1.684696e+07\n",
       "Name: total_price, dtype: float64"
      ]
     },
     "metadata": {},
     "output_type": "display_data"
    }
   ],
   "source": [
    "df_clean['total_price'] = df_clean['quantity'] * df_clean['price']\n",
    "print('Данные без выборосов и аномальных значений')\n",
    "display(df_clean['total_price'].describe())\n",
    "df_full['total_price'] = df_full['quantity'] * df_full['price']\n",
    "print('Данные c выборосами и аномальных значениями')\n",
    "display(df_full['total_price'].describe())"
   ]
  },
  {
   "cell_type": "markdown",
   "id": "c2098356-beb4-444b-9227-b74057b8ea05",
   "metadata": {},
   "source": [
    "Мы видим, что 25, 50 и 75 прцоентиль никак не изменились, а вот средняя и максимальное значений сильно отличаются, так чт она мой взгляд очистка была полезна. Но высокие значения по итоговой стоимости присутствует, рассмотрим распределение и сделаем вывод так же о их чистке."
   ]
  },
  {
   "cell_type": "code",
   "execution_count": 606,
   "id": "98162807-3a40-4d47-9039-57290f292685",
   "metadata": {},
   "outputs": [
    {
     "data": {
      "image/png": "[encoded data removed]",
      "text/plain": [
       "<Figure size 1200x400 with 1 Axes>"
      ]
     },
     "metadata": {},
     "output_type": "display_data"
    }
   ],
   "source": [
    "plt.figure(figsize=(12,4))\n",
    "sns.boxplot(data=df_clean, x='total_price')\n",
    "\n",
    "plt.title('Диаграмма размаха значений общей стоимости позиции')\n",
    "plt.xlabel('Общая стоимость позиции')\n",
    "plt.grid()"
   ]
  },
  {
   "cell_type": "markdown",
   "id": "8b32938e-4d90-4b7e-b642-ac3252732f10",
   "metadata": {},
   "source": [
    "Мы видим более менее плотное распределение значений до 100000, методом подбора выберем оптимальное количество данных для исключения:"
   ]
  },
  {
   "cell_type": "code",
   "execution_count": 608,
   "id": "5494afae-daa5-4476-8f6b-1390003690ba",
   "metadata": {},
   "outputs": [
    {
     "name": "stdout",
     "output_type": "stream",
     "text": [
      "Количество исключенных данных: 642\n",
      "Доля исключенных данных: 0.2%\n"
     ]
    },
    {
     "data": {
      "image/png": "[encoded data removed]",
      "text/plain": [
       "<Figure size 1200x400 with 1 Axes>"
      ]
     },
     "metadata": {},
     "output_type": "display_data"
    }
   ],
   "source": [
    "#lost_data = len(df_clean) - len(df_clean.query('price > 0 & price < 2000'))\n",
    "#lost_data_shape = lost_data / len(df_clean)\n",
    "lost_data, lost_data_shape = lost_data_and_shape(df_clean, df_clean.query('total_price < 30000'))\n",
    "print(f'Количество исключенных данных: {lost_data}')\n",
    "print(f'Доля исключенных данных: {lost_data_shape:.1%}')\n",
    "\n",
    "grid_boxplot(df_clean.query('total_price < 30000'), 'total_price',\n",
    "            'Диаграмма размаха значений общей стоимости позиции',\n",
    "            'Общай стоимость позиции')"
   ]
  },
  {
   "cell_type": "markdown",
   "id": "ccefee8b-59ac-4d9f-bf69-e8074fee0de9",
   "metadata": {},
   "source": [
    "В пределах до 30000 начинает плотное распределение значений и количество исключенных данных составит всего 0.2%, исключать все не будем так как у нас есть оптовые клиенты."
   ]
  },
  {
   "cell_type": "code",
   "execution_count": 610,
   "id": "34f4a0af-c1a5-42f6-a4b2-48527994d7c8",
   "metadata": {},
   "outputs": [],
   "source": [
    "df_clean = df_clean.query('total_price < 30000')"
   ]
  },
  {
   "cell_type": "markdown",
   "id": "05d0903a-045c-4dbf-b112-23d4e749b419",
   "metadata": {},
   "source": [
    "### 2.2 Столбцы с идентификаторами\n",
    "Рассмотрим ещё раз распределение значений с идентификаторами для определения стратегии по анализу их. Сразу выведем краткую информацию о данных и сгруппируем по идентифиакторам, чтобы посмотреть на распределение данных."
   ]
  },
  {
   "cell_type": "code",
   "execution_count": 613,
   "id": "82405f27-2024-4f88-89b2-c925f550cc0a",
   "metadata": {},
   "outputs": [
    {
     "data": {
      "text/html": [
       "<div>\n",
       "<style scoped>\n",
       "    .dataframe tbody tr th:only-of-type {\n",
       "        vertical-align: middle;\n",
       "    }\n",
       "\n",
       "    .dataframe tbody tr th {\n",
       "        vertical-align: top;\n",
       "    }\n",
       "\n",
       "    .dataframe thead th {\n",
       "        text-align: right;\n",
       "    }\n",
       "</style>\n",
       "<table border=\"1\" class=\"dataframe\">\n",
       "  <thead>\n",
       "    <tr style=\"text-align: right;\">\n",
       "      <th></th>\n",
       "      <th>order_id</th>\n",
       "      <th>customer_id</th>\n",
       "      <th>name_clust</th>\n",
       "      <th>entry_id</th>\n",
       "      <th>country_id</th>\n",
       "    </tr>\n",
       "  </thead>\n",
       "  <tbody>\n",
       "    <tr>\n",
       "      <th>count</th>\n",
       "      <td>347653.000000</td>\n",
       "      <td>347653.000000</td>\n",
       "      <td>347653.00000</td>\n",
       "      <td>347653.000000</td>\n",
       "      <td>347653.00000</td>\n",
       "    </tr>\n",
       "    <tr>\n",
       "      <th>mean</th>\n",
       "      <td>26701.410846</td>\n",
       "      <td>3491.571837</td>\n",
       "      <td>472.64699</td>\n",
       "      <td>1526.894147</td>\n",
       "      <td>26.80402</td>\n",
       "    </tr>\n",
       "    <tr>\n",
       "      <th>std</th>\n",
       "      <td>13384.464552</td>\n",
       "      <td>2538.836852</td>\n",
       "      <td>256.72317</td>\n",
       "      <td>828.088270</td>\n",
       "      <td>4.83986</td>\n",
       "    </tr>\n",
       "    <tr>\n",
       "      <th>min</th>\n",
       "      <td>3031.000000</td>\n",
       "      <td>-1.000000</td>\n",
       "      <td>1.00000</td>\n",
       "      <td>1.000000</td>\n",
       "      <td>1.00000</td>\n",
       "    </tr>\n",
       "    <tr>\n",
       "      <th>25%</th>\n",
       "      <td>14837.000000</td>\n",
       "      <td>-1.000000</td>\n",
       "      <td>247.00000</td>\n",
       "      <td>900.000000</td>\n",
       "      <td>28.00000</td>\n",
       "    </tr>\n",
       "    <tr>\n",
       "      <th>50%</th>\n",
       "      <td>27392.000000</td>\n",
       "      <td>3640.000000</td>\n",
       "      <td>450.00000</td>\n",
       "      <td>1562.000000</td>\n",
       "      <td>28.00000</td>\n",
       "    </tr>\n",
       "    <tr>\n",
       "      <th>75%</th>\n",
       "      <td>38516.000000</td>\n",
       "      <td>5633.000000</td>\n",
       "      <td>706.00000</td>\n",
       "      <td>2223.000000</td>\n",
       "      <td>28.00000</td>\n",
       "    </tr>\n",
       "    <tr>\n",
       "      <th>max</th>\n",
       "      <td>48253.000000</td>\n",
       "      <td>7653.000000</td>\n",
       "      <td>929.00000</td>\n",
       "      <td>2916.000000</td>\n",
       "      <td>29.00000</td>\n",
       "    </tr>\n",
       "  </tbody>\n",
       "</table>\n",
       "</div>"
      ],
      "text/plain": [
       "            order_id    customer_id    name_clust       entry_id    country_id\n",
       "count  347653.000000  347653.000000  347653.00000  347653.000000  347653.00000\n",
       "mean    26701.410846    3491.571837     472.64699    1526.894147      26.80402\n",
       "std     13384.464552    2538.836852     256.72317     828.088270       4.83986\n",
       "min      3031.000000      -1.000000       1.00000       1.000000       1.00000\n",
       "25%     14837.000000      -1.000000     247.00000     900.000000      28.00000\n",
       "50%     27392.000000    3640.000000     450.00000    1562.000000      28.00000\n",
       "75%     38516.000000    5633.000000     706.00000    2223.000000      28.00000\n",
       "max     48253.000000    7653.000000     929.00000    2916.000000      29.00000"
      ]
     },
     "metadata": {},
     "output_type": "display_data"
    }
   ],
   "source": [
    "display(df_clean[['order_id', 'customer_id', 'name_clust', 'entry_id', 'country_id']].describe())"
   ]
  },
  {
   "cell_type": "markdown",
   "id": "a5bff206-0f24-41ad-9c03-fae6139203dd",
   "metadata": {},
   "source": [
    "#### 2.2.1 Столбец `order_id`\n",
    "Содержит информацию об уникальных идентификаторах заказов, данные распределены равномерно, среднее с медианой не сильно различаются. У каждого заказа несколько записей в таблицу, посмотрим на распределение количества позиций в заказах и выведем топ-20 заказов"
   ]
  },
  {
   "cell_type": "code",
   "execution_count": 616,
   "id": "7f3efb47-cb98-4675-9467-f3fe765ddddc",
   "metadata": {},
   "outputs": [
    {
     "name": "stdout",
     "output_type": "stream",
     "text": [
      "Количество уникальных заказов: 18394\n"
     ]
    },
    {
     "data": {
      "image/png": "[encoded data removed]",
      "text/plain": [
       "<Figure size 1200x400 with 1 Axes>"
      ]
     },
     "metadata": {},
     "output_type": "display_data"
    }
   ],
   "source": [
    "unique_order = df_clean['order_id'].nunique()\n",
    "print(f'Количество уникальных заказов: {unique_order}')\n",
    "# Выведем топ-20 заказов\n",
    "top_categories = df_clean['order_id'].value_counts().nlargest(20)\n",
    "df_top = df_clean[df_clean['order_id'].isin(top_categories.index)]\n",
    "plt.figure(figsize=(12,4))\n",
    "sns.countplot(x='order_id', data=df_clean, order=top_categories.index)\n",
    "plt.title('Топ-20 заказов по количеству товара в заказе')\n",
    "plt.xlabel('ID заказа')\n",
    "plt.grid()"
   ]
  },
  {
   "cell_type": "markdown",
   "id": "266090d9-0a0f-4ec0-bc6e-7adc03af372f",
   "metadata": {},
   "source": [
    "Максимальное количество позиций в одном заказе более 750, остальные топ заказов содержат в пределе 400-500 позиций."
   ]
  },
  {
   "cell_type": "markdown",
   "id": "40f73aca-ce1c-4b39-b119-6d6f860301b2",
   "metadata": {},
   "source": [
    "#### 2.2.2 Столбец `customer_id`\n",
    "Содержит отрицательный значений в большом количестве (ранее мы проверили, что нулевых значений нет), исключить их не можем, так как повлияет сильно на выборку, так что рассмотрим что это за клиенты и какие у них значения в записи:"
   ]
  },
  {
   "cell_type": "markdown",
   "id": "eda6bafa-804c-4ca4-af51-02191d3e617e",
   "metadata": {},
   "source": [
    "Из представленой выборки видно, что у всех этих клиентов идентификатор страны одинаковый, а именно 28. Проверим есть ли другие значений стран у этих клиентов. Данный идентификатор присутствует и у других клиентов, так как значение 28 есть в 25, 50 и 75 процентиле. а клиенты -1 только до 25 процентиля встречаются из всей выборки."
   ]
  },
  {
   "cell_type": "code",
   "execution_count": 620,
   "id": "5ab29156-4323-49da-b63c-c3530c0100d5",
   "metadata": {},
   "outputs": [
    {
     "data": {
      "text/plain": [
       "count    89609.000000\n",
       "mean        27.934560\n",
       "std          1.135074\n",
       "min          2.000000\n",
       "25%         28.000000\n",
       "50%         28.000000\n",
       "75%         28.000000\n",
       "max         29.000000\n",
       "Name: country_id, dtype: float64"
      ]
     },
     "metadata": {},
     "output_type": "display_data"
    }
   ],
   "source": [
    "display(df_clean.query('customer_id == -1')['country_id'].describe())"
   ]
  },
  {
   "cell_type": "markdown",
   "id": "c0130a36-6eed-4b33-b301-b2fbf82608aa",
   "metadata": {},
   "source": [
    "Среди них есть клиенты из разных стран и распределение как и в общей выборке. Вероятно это покупатели, которых никак не идентифицируют, а именно розничных покупатели без регистрации в системе магазина и их действия не отслеживают. Стоит учитывать это при сегментации клиентов и расчете стики-факторов. Посмотрим, сколько учтенных клиентов у магазина и как распределяются траты клиентов, без учета тех кого не можем идентифицировать:"
   ]
  },
  {
   "cell_type": "code",
   "execution_count": 622,
   "id": "bb9123f0-3494-4a4e-bd57-4288940aafca",
   "metadata": {},
   "outputs": [
    {
     "name": "stdout",
     "output_type": "stream",
     "text": [
      "Количество уникальных клиентов: 4210\n"
     ]
    },
    {
     "data": {
      "image/png": "[encoded data removed]",
      "text/plain": [
       "<Figure size 1200x400 with 1 Axes>"
      ]
     },
     "metadata": {},
     "output_type": "display_data"
    }
   ],
   "source": [
    "df_with_real_customer = df_clean.query('customer_id != -1')\n",
    "unique_customer = df_with_real_customer['customer_id'].nunique()\n",
    "print(f'Количество уникальных клиентов: {unique_customer}')\n",
    "# Выведем топ-20 клиентов\n",
    "top_categories = df_with_real_customer['customer_id'].value_counts().nlargest(20)\n",
    "df_top = df_with_real_customer[df_with_real_customer['customer_id'].isin(top_categories.index)]\n",
    "plt.figure(figsize=(12,4))\n",
    "sns.countplot(x='customer_id', data=df_with_real_customer, order=top_categories.index)\n",
    "plt.title('Топ-20 клиентов')\n",
    "plt.xlabel('ID клиента')\n",
    "plt.grid()"
   ]
  },
  {
   "cell_type": "markdown",
   "id": "ae8ecaa6-c03c-4d0e-9edb-97557ddd7a8e",
   "metadata": {},
   "source": [
    "Есть клиенты которые приобрели в магазине за весь период более 5000 наименований товаров, но в основном в топе клиенты которые чаще всего посещают магазин приобрели меньше 1000 наименований. Рассмотрим траты клиентов дополнительно"
   ]
  },
  {
   "cell_type": "markdown",
   "id": "db181836-f324-4adb-a111-854336a1cc98",
   "metadata": {},
   "source": [
    "#### 2.2.3 Столбец `name_clust`\n",
    "Посмотрим на распределение уникальных клиентов в каждой группе:"
   ]
  },
  {
   "cell_type": "code",
   "execution_count": 625,
   "id": "09f763a0-2647-4b97-b28a-9d3f56745857",
   "metadata": {},
   "outputs": [
    {
     "name": "stdout",
     "output_type": "stream",
     "text": [
      "Количество уникальных групп для записей: 906\n"
     ]
    },
    {
     "data": {
      "image/png": "[encoded data removed]",
      "text/plain": [
       "<Figure size 1200x400 with 1 Axes>"
      ]
     },
     "metadata": {},
     "output_type": "display_data"
    }
   ],
   "source": [
    "unique_entry = df_clean['name_clust'].nunique()\n",
    "print(f'Количество уникальных групп для записей: {unique_entry}')\n",
    "# Выведем топ-20 категорий\n",
    "top_categories = df_clean['name_clust'].value_counts().nlargest(20)\n",
    "df_top = df_clean[df_clean['name_clust'].isin(top_categories.index)]\n",
    "plt.figure(figsize=(12,4))\n",
    "sns.countplot(x='name_clust', data=df_top, order=top_categories.index)\n",
    "plt.title('Топ-20 групп записей')\n",
    "plt.xlabel('Номер группы')\n",
    "plt.grid()"
   ]
  },
  {
   "cell_type": "markdown",
   "id": "de07a296-2af0-47e9-be7c-13201318ec19",
   "metadata": {},
   "source": [
    "На столбчатой диаграмме мы видим, какие чаще всего группы автоматически присваивались заказам. Самая популярная группа 427, эта группа была присвоена почти 7000 записям. Всего же уникальных групп в датафрейме содержится 906"
   ]
  },
  {
   "cell_type": "markdown",
   "id": "53972778-596c-40a5-88b4-2eafd03d6036",
   "metadata": {},
   "source": [
    "#### 2.2.4 Столбец `entry_id`\n",
    "Посмотрим на распределение записей в датафрейме, чтобы выделить те, которые чаще всего встречаются:"
   ]
  },
  {
   "cell_type": "code",
   "execution_count": 628,
   "id": "1454b112-84de-49e2-9c93-d297e91f66ff",
   "metadata": {},
   "outputs": [
    {
     "name": "stdout",
     "output_type": "stream",
     "text": [
      "Количество уникальных записей: 2810\n"
     ]
    },
    {
     "data": {
      "image/png": "[encoded data removed]",
      "text/plain": [
       "<Figure size 1200x400 with 1 Axes>"
      ]
     },
     "metadata": {},
     "output_type": "display_data"
    }
   ],
   "source": [
    "df_group = df_clean.groupby('entry_id').agg({'customer_id': 'count'})\n",
    "unique_entry = df_clean['entry_id'].nunique()\n",
    "print(f'Количество уникальных записей: {unique_entry}')\n",
    "# Выведем топ-20 категорий\n",
    "top_categories = df_clean['entry_id'].value_counts().nlargest(20)\n",
    "df_top = df_clean[df_clean['entry_id'].isin(top_categories.index)]\n",
    "plt.figure(figsize=(12,4))\n",
    "sns.countplot(x='entry_id', data=df_top, order=top_categories.index)\n",
    "plt.title('Топ-20 записей')\n",
    "plt.xlabel('ID записи')\n",
    "plt.grid()"
   ]
  },
  {
   "cell_type": "markdown",
   "id": "06ff5056-27d4-4521-af33-5f6355c53d88",
   "metadata": {},
   "source": [
    "Из диаграммы мы можем сделать вывод о самых популярных позициях у клиентов, которые встерчались чаще всего, это запись с ID равным 957, он встречается более 2000 раз. остальные позиции можно считать популярными если они встречаются от 1000 раз. Всего в датафрейме содержится 2811 уникальных записей"
   ]
  },
  {
   "cell_type": "markdown",
   "id": "cd6c2a96-09a7-457f-806e-2519c3f72709",
   "metadata": {},
   "source": [
    "#### 2.2.5 Столбец `country_id`\n",
    "Посмотрим на распределение записей в датафрейме, чтобы выделить те, которые чаще всего всречаются и которые приносят больший доход:"
   ]
  },
  {
   "cell_type": "code",
   "execution_count": 631,
   "id": "9f3d2fb7-bbd4-4e05-bbf6-fd2c84f0ef03",
   "metadata": {},
   "outputs": [
    {
     "data": {
      "text/html": [
       "<div>\n",
       "<style scoped>\n",
       "    .dataframe tbody tr th:only-of-type {\n",
       "        vertical-align: middle;\n",
       "    }\n",
       "\n",
       "    .dataframe tbody tr th {\n",
       "        vertical-align: top;\n",
       "    }\n",
       "\n",
       "    .dataframe thead th {\n",
       "        text-align: right;\n",
       "    }\n",
       "</style>\n",
       "<table border=\"1\" class=\"dataframe\">\n",
       "  <thead>\n",
       "    <tr style=\"text-align: right;\">\n",
       "      <th></th>\n",
       "      <th>country_id</th>\n",
       "      <th>customer_id</th>\n",
       "    </tr>\n",
       "  </thead>\n",
       "  <tbody>\n",
       "    <tr>\n",
       "      <th>27</th>\n",
       "      <td>28</td>\n",
       "      <td>323777</td>\n",
       "    </tr>\n",
       "    <tr>\n",
       "      <th>5</th>\n",
       "      <td>6</td>\n",
       "      <td>6630</td>\n",
       "    </tr>\n",
       "    <tr>\n",
       "      <th>4</th>\n",
       "      <td>5</td>\n",
       "      <td>6211</td>\n",
       "    </tr>\n",
       "    <tr>\n",
       "      <th>22</th>\n",
       "      <td>23</td>\n",
       "      <td>1702</td>\n",
       "    </tr>\n",
       "    <tr>\n",
       "      <th>2</th>\n",
       "      <td>3</td>\n",
       "      <td>1533</td>\n",
       "    </tr>\n",
       "    <tr>\n",
       "      <th>15</th>\n",
       "      <td>16</td>\n",
       "      <td>1528</td>\n",
       "    </tr>\n",
       "    <tr>\n",
       "      <th>24</th>\n",
       "      <td>25</td>\n",
       "      <td>1416</td>\n",
       "    </tr>\n",
       "    <tr>\n",
       "      <th>18</th>\n",
       "      <td>19</td>\n",
       "      <td>1107</td>\n",
       "    </tr>\n",
       "    <tr>\n",
       "      <th>16</th>\n",
       "      <td>17</td>\n",
       "      <td>743</td>\n",
       "    </tr>\n",
       "    <tr>\n",
       "      <th>10</th>\n",
       "      <td>11</td>\n",
       "      <td>529</td>\n",
       "    </tr>\n",
       "    <tr>\n",
       "      <th>28</th>\n",
       "      <td>29</td>\n",
       "      <td>324</td>\n",
       "    </tr>\n",
       "    <tr>\n",
       "      <th>0</th>\n",
       "      <td>1</td>\n",
       "      <td>279</td>\n",
       "    </tr>\n",
       "    <tr>\n",
       "      <th>23</th>\n",
       "      <td>24</td>\n",
       "      <td>278</td>\n",
       "    </tr>\n",
       "    <tr>\n",
       "      <th>17</th>\n",
       "      <td>18</td>\n",
       "      <td>228</td>\n",
       "    </tr>\n",
       "    <tr>\n",
       "      <th>9</th>\n",
       "      <td>10</td>\n",
       "      <td>207</td>\n",
       "    </tr>\n",
       "    <tr>\n",
       "      <th>11</th>\n",
       "      <td>12</td>\n",
       "      <td>204</td>\n",
       "    </tr>\n",
       "    <tr>\n",
       "      <th>7</th>\n",
       "      <td>8</td>\n",
       "      <td>203</td>\n",
       "    </tr>\n",
       "    <tr>\n",
       "      <th>8</th>\n",
       "      <td>9</td>\n",
       "      <td>138</td>\n",
       "    </tr>\n",
       "    <tr>\n",
       "      <th>21</th>\n",
       "      <td>22</td>\n",
       "      <td>135</td>\n",
       "    </tr>\n",
       "    <tr>\n",
       "      <th>25</th>\n",
       "      <td>26</td>\n",
       "      <td>127</td>\n",
       "    </tr>\n",
       "    <tr>\n",
       "      <th>6</th>\n",
       "      <td>7</td>\n",
       "      <td>104</td>\n",
       "    </tr>\n",
       "    <tr>\n",
       "      <th>14</th>\n",
       "      <td>15</td>\n",
       "      <td>73</td>\n",
       "    </tr>\n",
       "    <tr>\n",
       "      <th>26</th>\n",
       "      <td>27</td>\n",
       "      <td>40</td>\n",
       "    </tr>\n",
       "    <tr>\n",
       "      <th>19</th>\n",
       "      <td>20</td>\n",
       "      <td>40</td>\n",
       "    </tr>\n",
       "    <tr>\n",
       "      <th>12</th>\n",
       "      <td>13</td>\n",
       "      <td>31</td>\n",
       "    </tr>\n",
       "    <tr>\n",
       "      <th>13</th>\n",
       "      <td>14</td>\n",
       "      <td>25</td>\n",
       "    </tr>\n",
       "    <tr>\n",
       "      <th>3</th>\n",
       "      <td>4</td>\n",
       "      <td>17</td>\n",
       "    </tr>\n",
       "    <tr>\n",
       "      <th>1</th>\n",
       "      <td>2</td>\n",
       "      <td>16</td>\n",
       "    </tr>\n",
       "    <tr>\n",
       "      <th>20</th>\n",
       "      <td>21</td>\n",
       "      <td>8</td>\n",
       "    </tr>\n",
       "  </tbody>\n",
       "</table>\n",
       "</div>"
      ],
      "text/plain": [
       "    country_id  customer_id\n",
       "27          28       323777\n",
       "5            6         6630\n",
       "4            5         6211\n",
       "22          23         1702\n",
       "2            3         1533\n",
       "15          16         1528\n",
       "24          25         1416\n",
       "18          19         1107\n",
       "16          17          743\n",
       "10          11          529\n",
       "28          29          324\n",
       "0            1          279\n",
       "23          24          278\n",
       "17          18          228\n",
       "9           10          207\n",
       "11          12          204\n",
       "7            8          203\n",
       "8            9          138\n",
       "21          22          135\n",
       "25          26          127\n",
       "6            7          104\n",
       "14          15           73\n",
       "26          27           40\n",
       "19          20           40\n",
       "12          13           31\n",
       "13          14           25\n",
       "3            4           17\n",
       "1            2           16\n",
       "20          21            8"
      ]
     },
     "metadata": {},
     "output_type": "display_data"
    }
   ],
   "source": [
    "df_group = df_clean.groupby('country_id').agg({'customer_id': 'count'}).reset_index()\n",
    "display(df_group.sort_values('customer_id', ascending=False))"
   ]
  },
  {
   "cell_type": "markdown",
   "id": "0a580885-72f9-4c11-ba10-8ba311adb6dd",
   "metadata": {},
   "source": [
    "Из первичного осмотра информации о количестве клиентов в каждой стране, можно сделать вывод, что в странах свыше 2000 довольно высокие значения, отобразим их отдельно на графике, как топ-3, остальные страны отобразим интерактивного графика для возможности посмотреть значения."
   ]
  },
  {
   "cell_type": "code",
   "execution_count": 633,
   "id": "71b987ce-82b8-46e5-80bf-b1e8f02e374f",
   "metadata": {},
   "outputs": [
    {
     "name": "stdout",
     "output_type": "stream",
     "text": [
      "Количество стран: 29\n"
     ]
    },
    {
     "data": {
      "image/png": "[encoded data removed]",
      "text/plain": [
       "<Figure size 1000x600 with 1 Axes>"
      ]
     },
     "metadata": {},
     "output_type": "display_data"
    }
   ],
   "source": [
    "df_group = df_clean.groupby('country_id').agg({'customer_id': 'count'}).reset_index()\n",
    "unique_country = df_clean['country_id'].nunique()\n",
    "print(f'Количество стран: {unique_country}')\n",
    "# Выведем топ-3 стран\n",
    "plt.figure(figsize=(10, 6))\n",
    "barplot = sns.barplot(\n",
    "    x='country_id', \n",
    "    y='customer_id', \n",
    "    data=df_group.query('customer_id > 5000'),\n",
    "    )\n",
    "\n",
    "barplot.set_title('Топ-3 по странам', fontsize=16)\n",
    "barplot.set_xlabel('Страна', fontsize=14)\n",
    "barplot.set_ylabel('Количество клиентов', fontsize=14)\n",
    "barplot.bar_label(barplot.containers[0])\n",
    "plt.show()"
   ]
  },
  {
   "cell_type": "code",
   "execution_count": 634,
   "id": "14e903fa-00ec-4b91-b8b6-c6b212af8e46",
   "metadata": {},
   "outputs": [
    {
     "data": {
      "application/vnd.plotly.v1+json": {
       "config": {
        "plotlyServerURL": "https://plot.ly"
       },
       "data": [
        {
         "alignmentgroup": "True",
         "hovertemplate": "country_id=%{x}<br>customer_id=%{y}<extra></extra>",
         "legendgroup": "",
         "marker": {
          "color": "#636efa",
          "pattern": {
           "shape": ""
          }
         },
         "name": "",
         "offsetgroup": "",
         "orientation": "v",
         "showlegend": false,
         "textposition": "auto",
         "texttemplate": "%{y}",
         "type": "bar",
         "x": [
          1,
          2,
          3,
          4,
          7,
          8,
          9,
          10,
          11,
          12,
          13,
          14,
          15,
          16,
          17,
          18,
          19,
          20,
          21,
          22,
          23,
          24,
          25,
          26,
          27,
          29
         ],
         "xaxis": "x",
         "y": [
          279,
          16,
          1533,
          17,
          104,
          203,
          138,
          207,
          529,
          204,
          31,
          25,
          73,
          1528,
          743,
          228,
          1107,
          40,
          8,
          135,
          1702,
          278,
          1416,
          127,
          40,
          324
         ],
         "yaxis": "y"
        }
       ],
       "layout": {
        "autosize": true,
        "barmode": "relative",
        "legend": {
         "tracegroupgap": 0
        },
        "template": {
         "data": {
          "bar": [
           {
            "error_x": {
             "color": "#2a3f5f"
            },
            "error_y": {
             "color": "#2a3f5f"
            },
            "marker": {
             "line": {
              "color": "#E5ECF6",
              "width": 0.5
             },
             "pattern": {
              "fillmode": "overlay",
              "size": 10,
              "solidity": 0.2
             }
            },
            "type": "bar"
           }
          ],
          "barpolar": [
           {
            "marker": {
             "line": {
              "color": "#E5ECF6",
              "width": 0.5
             },
             "pattern": {
              "fillmode": "overlay",
              "size": 10,
              "solidity": 0.2
             }
            },
            "type": "barpolar"
           }
          ],
          "carpet": [
           {
            "aaxis": {
             "endlinecolor": "#2a3f5f",
             "gridcolor": "white",
             "linecolor": "white",
             "minorgridcolor": "white",
             "startlinecolor": "#2a3f5f"
            },
            "baxis": {
             "endlinecolor": "#2a3f5f",
             "gridcolor": "white",
             "linecolor": "white",
             "minorgridcolor": "white",
             "startlinecolor": "#2a3f5f"
            },
            "type": "carpet"
           }
          ],
          "choropleth": [
           {
            "colorbar": {
             "outlinewidth": 0,
             "ticks": ""
            },
            "type": "choropleth"
           }
          ],
          "contour": [
           {
            "colorbar": {
             "outlinewidth": 0,
             "ticks": ""
            },
            "colorscale": [
             [
              0,
              "#0d0887"
             ],
             [
              0.1111111111111111,
              "#46039f"
             ],
             [
              0.2222222222222222,
              "#7201a8"
             ],
             [
              0.3333333333333333,
              "#9c179e"
             ],
             [
              0.4444444444444444,
              "#bd3786"
             ],
             [
              0.5555555555555556,
              "#d8576b"
             ],
             [
              0.6666666666666666,
              "#ed7953"
             ],
             [
              0.7777777777777778,
              "#fb9f3a"
             ],
             [
              0.8888888888888888,
              "#fdca26"
             ],
             [
              1,
              "#f0f921"
             ]
            ],
            "type": "contour"
           }
          ],
          "contourcarpet": [
           {
            "colorbar": {
             "outlinewidth": 0,
             "ticks": ""
            },
            "type": "contourcarpet"
           }
          ],
          "heatmap": [
           {
            "colorbar": {
             "outlinewidth": 0,
             "ticks": ""
            },
            "colorscale": [
             [
              0,
              "#0d0887"
             ],
             [
              0.1111111111111111,
              "#46039f"
             ],
             [
              0.2222222222222222,
              "#7201a8"
             ],
             [
              0.3333333333333333,
              "#9c179e"
             ],
             [
              0.4444444444444444,
              "#bd3786"
             ],
             [
              0.5555555555555556,
              "#d8576b"
             ],
             [
              0.6666666666666666,
              "#ed7953"
             ],
             [
              0.7777777777777778,
              "#fb9f3a"
             ],
             [
              0.8888888888888888,
              "#fdca26"
             ],
             [
              1,
              "#f0f921"
             ]
            ],
            "type": "heatmap"
           }
          ],
          "heatmapgl": [
           {
            "colorbar": {
             "outlinewidth": 0,
             "ticks": ""
            },
            "colorscale": [
             [
              0,
              "#0d0887"
             ],
             [
              0.1111111111111111,
              "#46039f"
             ],
             [
              0.2222222222222222,
              "#7201a8"
             ],
             [
              0.3333333333333333,
              "#9c179e"
             ],
             [
              0.4444444444444444,
              "#bd3786"
             ],
             [
              0.5555555555555556,
              "#d8576b"
             ],
             [
              0.6666666666666666,
              "#ed7953"
             ],
             [
              0.7777777777777778,
              "#fb9f3a"
             ],
             [
              0.8888888888888888,
              "#fdca26"
             ],
             [
              1,
              "#f0f921"
             ]
            ],
            "type": "heatmapgl"
           }
          ],
          "histogram": [
           {
            "marker": {
             "pattern": {
              "fillmode": "overlay",
              "size": 10,
              "solidity": 0.2
             }
            },
            "type": "histogram"
           }
          ],
          "histogram2d": [
           {
            "colorbar": {
             "outlinewidth": 0,
             "ticks": ""
            },
            "colorscale": [
             [
              0,
              "#0d0887"
             ],
             [
              0.1111111111111111,
              "#46039f"
             ],
             [
              0.2222222222222222,
              "#7201a8"
             ],
             [
              0.3333333333333333,
              "#9c179e"
             ],
             [
              0.4444444444444444,
              "#bd3786"
             ],
             [
              0.5555555555555556,
              "#d8576b"
             ],
             [
              0.6666666666666666,
              "#ed7953"
             ],
             [
              0.7777777777777778,
              "#fb9f3a"
             ],
             [
              0.8888888888888888,
              "#fdca26"
             ],
             [
              1,
              "#f0f921"
             ]
            ],
            "type": "histogram2d"
           }
          ],
          "histogram2dcontour": [
           {
            "colorbar": {
             "outlinewidth": 0,
             "ticks": ""
            },
            "colorscale": [
             [
              0,
              "#0d0887"
             ],
             [
              0.1111111111111111,
              "#46039f"
             ],
             [
              0.2222222222222222,
              "#7201a8"
             ],
             [
              0.3333333333333333,
              "#9c179e"
             ],
             [
              0.4444444444444444,
              "#bd3786"
             ],
             [
              0.5555555555555556,
              "#d8576b"
             ],
             [
              0.6666666666666666,
              "#ed7953"
             ],
             [
              0.7777777777777778,
              "#fb9f3a"
             ],
             [
              0.8888888888888888,
              "#fdca26"
             ],
             [
              1,
              "#f0f921"
             ]
            ],
            "type": "histogram2dcontour"
           }
          ],
          "mesh3d": [
           {
            "colorbar": {
             "outlinewidth": 0,
             "ticks": ""
            },
            "type": "mesh3d"
           }
          ],
          "parcoords": [
           {
            "line": {
             "colorbar": {
              "outlinewidth": 0,
              "ticks": ""
             }
            },
            "type": "parcoords"
           }
          ],
          "pie": [
           {
            "automargin": true,
            "type": "pie"
           }
          ],
          "scatter": [
           {
            "fillpattern": {
             "fillmode": "overlay",
             "size": 10,
             "solidity": 0.2
            },
            "type": "scatter"
           }
          ],
          "scatter3d": [
           {
            "line": {
             "colorbar": {
              "outlinewidth": 0,
              "ticks": ""
             }
            },
            "marker": {
             "colorbar": {
              "outlinewidth": 0,
              "ticks": ""
             }
            },
            "type": "scatter3d"
           }
          ],
          "scattercarpet": [
           {
            "marker": {
             "colorbar": {
              "outlinewidth": 0,
              "ticks": ""
             }
            },
            "type": "scattercarpet"
           }
          ],
          "scattergeo": [
           {
            "marker": {
             "colorbar": {
              "outlinewidth": 0,
              "ticks": ""
             }
            },
            "type": "scattergeo"
           }
          ],
          "scattergl": [
           {
            "marker": {
             "colorbar": {
              "outlinewidth": 0,
              "ticks": ""
             }
            },
            "type": "scattergl"
           }
          ],
          "scattermapbox": [
           {
            "marker": {
             "colorbar": {
              "outlinewidth": 0,
              "ticks": ""
             }
            },
            "type": "scattermapbox"
           }
          ],
          "scatterpolar": [
           {
            "marker": {
             "colorbar": {
              "outlinewidth": 0,
              "ticks": ""
             }
            },
            "type": "scatterpolar"
           }
          ],
          "scatterpolargl": [
           {
            "marker": {
             "colorbar": {
              "outlinewidth": 0,
              "ticks": ""
             }
            },
            "type": "scatterpolargl"
           }
          ],
          "scatterternary": [
           {
            "marker": {
             "colorbar": {
              "outlinewidth": 0,
              "ticks": ""
             }
            },
            "type": "scatterternary"
           }
          ],
          "surface": [
           {
            "colorbar": {
             "outlinewidth": 0,
             "ticks": ""
            },
            "colorscale": [
             [
              0,
              "#0d0887"
             ],
             [
              0.1111111111111111,
              "#46039f"
             ],
             [
              0.2222222222222222,
              "#7201a8"
             ],
             [
              0.3333333333333333,
              "#9c179e"
             ],
             [
              0.4444444444444444,
              "#bd3786"
             ],
             [
              0.5555555555555556,
              "#d8576b"
             ],
             [
              0.6666666666666666,
              "#ed7953"
             ],
             [
              0.7777777777777778,
              "#fb9f3a"
             ],
             [
              0.8888888888888888,
              "#fdca26"
             ],
             [
              1,
              "#f0f921"
             ]
            ],
            "type": "surface"
           }
          ],
          "table": [
           {
            "cells": {
             "fill": {
              "color": "#EBF0F8"
             },
             "line": {
              "color": "white"
             }
            },
            "header": {
             "fill": {
              "color": "#C8D4E3"
             },
             "line": {
              "color": "white"
             }
            },
            "type": "table"
           }
          ]
         },
         "layout": {
          "annotationdefaults": {
           "arrowcolor": "#2a3f5f",
           "arrowhead": 0,
           "arrowwidth": 1
          },
          "autotypenumbers": "strict",
          "coloraxis": {
           "colorbar": {
            "outlinewidth": 0,
            "ticks": ""
           }
          },
          "colorscale": {
           "diverging": [
            [
             0,
             "#8e0152"
            ],
            [
             0.1,
             "#c51b7d"
            ],
            [
             0.2,
             "#de77ae"
            ],
            [
             0.3,
             "#f1b6da"
            ],
            [
             0.4,
             "#fde0ef"
            ],
            [
             0.5,
             "#f7f7f7"
            ],
            [
             0.6,
             "#e6f5d0"
            ],
            [
             0.7,
             "#b8e186"
            ],
            [
             0.8,
             "#7fbc41"
            ],
            [
             0.9,
             "#4d9221"
            ],
            [
             1,
             "#276419"
            ]
           ],
           "sequential": [
            [
             0,
             "#0d0887"
            ],
            [
             0.1111111111111111,
             "#46039f"
            ],
            [
             0.2222222222222222,
             "#7201a8"
            ],
            [
             0.3333333333333333,
             "#9c179e"
            ],
            [
             0.4444444444444444,
             "#bd3786"
            ],
            [
             0.5555555555555556,
             "#d8576b"
            ],
            [
             0.6666666666666666,
             "#ed7953"
            ],
            [
             0.7777777777777778,
             "#fb9f3a"
            ],
            [
             0.8888888888888888,
             "#fdca26"
            ],
            [
             1,
             "#f0f921"
            ]
           ],
           "sequentialminus": [
            [
             0,
             "#0d0887"
            ],
            [
             0.1111111111111111,
             "#46039f"
            ],
            [
             0.2222222222222222,
             "#7201a8"
            ],
            [
             0.3333333333333333,
             "#9c179e"
            ],
            [
             0.4444444444444444,
             "#bd3786"
            ],
            [
             0.5555555555555556,
             "#d8576b"
            ],
            [
             0.6666666666666666,
             "#ed7953"
            ],
            [
             0.7777777777777778,
             "#fb9f3a"
            ],
            [
             0.8888888888888888,
             "#fdca26"
            ],
            [
             1,
             "#f0f921"
            ]
           ]
          },
          "colorway": [
           "#636efa",
           "#EF553B",
           "#00cc96",
           "#ab63fa",
           "#FFA15A",
           "#19d3f3",
           "#FF6692",
           "#B6E880",
           "#FF97FF",
           "#FECB52"
          ],
          "font": {
           "color": "#2a3f5f"
          },
          "geo": {
           "bgcolor": "white",
           "lakecolor": "white",
           "landcolor": "#E5ECF6",
           "showlakes": true,
           "showland": true,
           "subunitcolor": "white"
          },
          "hoverlabel": {
           "align": "left"
          },
          "hovermode": "closest",
          "mapbox": {
           "style": "light"
          },
          "paper_bgcolor": "white",
          "plot_bgcolor": "#E5ECF6",
          "polar": {
           "angularaxis": {
            "gridcolor": "white",
            "linecolor": "white",
            "ticks": ""
           },
           "bgcolor": "#E5ECF6",
           "radialaxis": {
            "gridcolor": "white",
            "linecolor": "white",
            "ticks": ""
           }
          },
          "scene": {
           "xaxis": {
            "backgroundcolor": "#E5ECF6",
            "gridcolor": "white",
            "gridwidth": 2,
            "linecolor": "white",
            "showbackground": true,
            "ticks": "",
            "zerolinecolor": "white"
           },
           "yaxis": {
            "backgroundcolor": "#E5ECF6",
            "gridcolor": "white",
            "gridwidth": 2,
            "linecolor": "white",
            "showbackground": true,
            "ticks": "",
            "zerolinecolor": "white"
           },
           "zaxis": {
            "backgroundcolor": "#E5ECF6",
            "gridcolor": "white",
            "gridwidth": 2,
            "linecolor": "white",
            "showbackground": true,
            "ticks": "",
            "zerolinecolor": "white"
           }
          },
          "shapedefaults": {
           "line": {
            "color": "#2a3f5f"
           }
          },
          "ternary": {
           "aaxis": {
            "gridcolor": "white",
            "linecolor": "white",
            "ticks": ""
           },
           "baxis": {
            "gridcolor": "white",
            "linecolor": "white",
            "ticks": ""
           },
           "bgcolor": "#E5ECF6",
           "caxis": {
            "gridcolor": "white",
            "linecolor": "white",
            "ticks": ""
           }
          },
          "title": {
           "x": 0.05
          },
          "xaxis": {
           "automargin": true,
           "gridcolor": "white",
           "linecolor": "white",
           "ticks": "",
           "title": {
            "standoff": 15
           },
           "zerolinecolor": "white",
           "zerolinewidth": 2
          },
          "yaxis": {
           "automargin": true,
           "gridcolor": "white",
           "linecolor": "white",
           "ticks": "",
           "title": {
            "standoff": 15
           },
           "zerolinecolor": "white",
           "zerolinewidth": 2
          }
         }
        },
        "title": {
         "text": "Страны с меньшим количеством клиентов"
        },
        "xaxis": {
         "anchor": "y",
         "autorange": true,
         "domain": [
          0,
          1
         ],
         "range": [
          0.5,
          29.5
         ],
         "tickmode": "linear",
         "title": {
          "text": "country_id"
         },
         "type": "linear"
        },
        "yaxis": {
         "anchor": "x",
         "autorange": true,
         "domain": [
          0,
          1
         ],
         "range": [
          0,
          1791.578947368421
         ],
         "title": {
          "text": "customer_id"
         },
         "type": "linear"
        }
       }
      },
      "text/html": [
       "<div>                            <div id=\"95e1565e-82e1-49e9-8405-9c3d36910444\" class=\"plotly-graph-div\" style=\"height:525px; width:100%;\"></div>            <script type=\"text/javascript\">                require([\"plotly\"], function(Plotly) {                    window.PLOTLYENV=window.PLOTLYENV || {};                                    if (document.getElementById(\"95e1565e-82e1-49e9-8405-9c3d36910444\")) {                    Plotly.newPlot(                        \"95e1565e-82e1-49e9-8405-9c3d36910444\",                        [{\"alignmentgroup\":\"True\",\"hovertemplate\":\"country_id=%{x}\\u003cbr\\u003ecustomer_id=%{y}\\u003cextra\\u003e\\u003c\\u002fextra\\u003e\",\"legendgroup\":\"\",\"marker\":{\"color\":\"#636efa\",\"pattern\":{\"shape\":\"\"}},\"name\":\"\",\"offsetgroup\":\"\",\"orientation\":\"v\",\"showlegend\":false,\"textposition\":\"auto\",\"texttemplate\":\"%{y}\",\"x\":[1,2,3,4,7,8,9,10,11,12,13,14,15,16,17,18,19,20,21,22,23,24,25,26,27,29],\"xaxis\":\"x\",\"y\":[279,16,1533,17,104,203,138,207,529,204,31,25,73,1528,743,228,1107,40,8,135,1702,278,1416,127,40,324],\"yaxis\":\"y\",\"type\":\"bar\"}],                        {\"template\":{\"data\":{\"histogram2dcontour\":[{\"type\":\"histogram2dcontour\",\"colorbar\":{\"outlinewidth\":0,\"ticks\":\"\"},\"colorscale\":[[0.0,\"#0d0887\"],[0.1111111111111111,\"#46039f\"],[0.2222222222222222,\"#7201a8\"],[0.3333333333333333,\"#9c179e\"],[0.4444444444444444,\"#bd3786\"],[0.5555555555555556,\"#d8576b\"],[0.6666666666666666,\"#ed7953\"],[0.7777777777777778,\"#fb9f3a\"],[0.8888888888888888,\"#fdca26\"],[1.0,\"#f0f921\"]]}],\"choropleth\":[{\"type\":\"choropleth\",\"colorbar\":{\"outlinewidth\":0,\"ticks\":\"\"}}],\"histogram2d\":[{\"type\":\"histogram2d\",\"colorbar\":{\"outlinewidth\":0,\"ticks\":\"\"},\"colorscale\":[[0.0,\"#0d0887\"],[0.1111111111111111,\"#46039f\"],[0.2222222222222222,\"#7201a8\"],[0.3333333333333333,\"#9c179e\"],[0.4444444444444444,\"#bd3786\"],[0.5555555555555556,\"#d8576b\"],[0.6666666666666666,\"#ed7953\"],[0.7777777777777778,\"#fb9f3a\"],[0.8888888888888888,\"#fdca26\"],[1.0,\"#f0f921\"]]}],\"heatmap\":[{\"type\":\"heatmap\",\"colorbar\":{\"outlinewidth\":0,\"ticks\":\"\"},\"colorscale\":[[0.0,\"#0d0887\"],[0.1111111111111111,\"#46039f\"],[0.2222222222222222,\"#7201a8\"],[0.3333333333333333,\"#9c179e\"],[0.4444444444444444,\"#bd3786\"],[0.5555555555555556,\"#d8576b\"],[0.6666666666666666,\"#ed7953\"],[0.7777777777777778,\"#fb9f3a\"],[0.8888888888888888,\"#fdca26\"],[1.0,\"#f0f921\"]]}],\"heatmapgl\":[{\"type\":\"heatmapgl\",\"colorbar\":{\"outlinewidth\":0,\"ticks\":\"\"},\"colorscale\":[[0.0,\"#0d0887\"],[0.1111111111111111,\"#46039f\"],[0.2222222222222222,\"#7201a8\"],[0.3333333333333333,\"#9c179e\"],[0.4444444444444444,\"#bd3786\"],[0.5555555555555556,\"#d8576b\"],[0.6666666666666666,\"#ed7953\"],[0.7777777777777778,\"#fb9f3a\"],[0.8888888888888888,\"#fdca26\"],[1.0,\"#f0f921\"]]}],\"contourcarpet\":[{\"type\":\"contourcarpet\",\"colorbar\":{\"outlinewidth\":0,\"ticks\":\"\"}}],\"contour\":[{\"type\":\"contour\",\"colorbar\":{\"outlinewidth\":0,\"ticks\":\"\"},\"colorscale\":[[0.0,\"#0d0887\"],[0.1111111111111111,\"#46039f\"],[0.2222222222222222,\"#7201a8\"],[0.3333333333333333,\"#9c179e\"],[0.4444444444444444,\"#bd3786\"],[0.5555555555555556,\"#d8576b\"],[0.6666666666666666,\"#ed7953\"],[0.7777777777777778,\"#fb9f3a\"],[0.8888888888888888,\"#fdca26\"],[1.0,\"#f0f921\"]]}],\"surface\":[{\"type\":\"surface\",\"colorbar\":{\"outlinewidth\":0,\"ticks\":\"\"},\"colorscale\":[[0.0,\"#0d0887\"],[0.1111111111111111,\"#46039f\"],[0.2222222222222222,\"#7201a8\"],[0.3333333333333333,\"#9c179e\"],[0.4444444444444444,\"#bd3786\"],[0.5555555555555556,\"#d8576b\"],[0.6666666666666666,\"#ed7953\"],[0.7777777777777778,\"#fb9f3a\"],[0.8888888888888888,\"#fdca26\"],[1.0,\"#f0f921\"]]}],\"mesh3d\":[{\"type\":\"mesh3d\",\"colorbar\":{\"outlinewidth\":0,\"ticks\":\"\"}}],\"scatter\":[{\"fillpattern\":{\"fillmode\":\"overlay\",\"size\":10,\"solidity\":0.2},\"type\":\"scatter\"}],\"parcoords\":[{\"type\":\"parcoords\",\"line\":{\"colorbar\":{\"outlinewidth\":0,\"ticks\":\"\"}}}],\"scatterpolargl\":[{\"type\":\"scatterpolargl\",\"marker\":{\"colorbar\":{\"outlinewidth\":0,\"ticks\":\"\"}}}],\"bar\":[{\"error_x\":{\"color\":\"#2a3f5f\"},\"error_y\":{\"color\":\"#2a3f5f\"},\"marker\":{\"line\":{\"color\":\"#E5ECF6\",\"width\":0.5},\"pattern\":{\"fillmode\":\"overlay\",\"size\":10,\"solidity\":0.2}},\"type\":\"bar\"}],\"scattergeo\":[{\"type\":\"scattergeo\",\"marker\":{\"colorbar\":{\"outlinewidth\":0,\"ticks\":\"\"}}}],\"scatterpolar\":[{\"type\":\"scatterpolar\",\"marker\":{\"colorbar\":{\"outlinewidth\":0,\"ticks\":\"\"}}}],\"histogram\":[{\"marker\":{\"pattern\":{\"fillmode\":\"overlay\",\"size\":10,\"solidity\":0.2}},\"type\":\"histogram\"}],\"scattergl\":[{\"type\":\"scattergl\",\"marker\":{\"colorbar\":{\"outlinewidth\":0,\"ticks\":\"\"}}}],\"scatter3d\":[{\"type\":\"scatter3d\",\"line\":{\"colorbar\":{\"outlinewidth\":0,\"ticks\":\"\"}},\"marker\":{\"colorbar\":{\"outlinewidth\":0,\"ticks\":\"\"}}}],\"scattermapbox\":[{\"type\":\"scattermapbox\",\"marker\":{\"colorbar\":{\"outlinewidth\":0,\"ticks\":\"\"}}}],\"scatterternary\":[{\"type\":\"scatterternary\",\"marker\":{\"colorbar\":{\"outlinewidth\":0,\"ticks\":\"\"}}}],\"scattercarpet\":[{\"type\":\"scattercarpet\",\"marker\":{\"colorbar\":{\"outlinewidth\":0,\"ticks\":\"\"}}}],\"carpet\":[{\"aaxis\":{\"endlinecolor\":\"#2a3f5f\",\"gridcolor\":\"white\",\"linecolor\":\"white\",\"minorgridcolor\":\"white\",\"startlinecolor\":\"#2a3f5f\"},\"baxis\":{\"endlinecolor\":\"#2a3f5f\",\"gridcolor\":\"white\",\"linecolor\":\"white\",\"minorgridcolor\":\"white\",\"startlinecolor\":\"#2a3f5f\"},\"type\":\"carpet\"}],\"table\":[{\"cells\":{\"fill\":{\"color\":\"#EBF0F8\"},\"line\":{\"color\":\"white\"}},\"header\":{\"fill\":{\"color\":\"#C8D4E3\"},\"line\":{\"color\":\"white\"}},\"type\":\"table\"}],\"barpolar\":[{\"marker\":{\"line\":{\"color\":\"#E5ECF6\",\"width\":0.5},\"pattern\":{\"fillmode\":\"overlay\",\"size\":10,\"solidity\":0.2}},\"type\":\"barpolar\"}],\"pie\":[{\"automargin\":true,\"type\":\"pie\"}]},\"layout\":{\"autotypenumbers\":\"strict\",\"colorway\":[\"#636efa\",\"#EF553B\",\"#00cc96\",\"#ab63fa\",\"#FFA15A\",\"#19d3f3\",\"#FF6692\",\"#B6E880\",\"#FF97FF\",\"#FECB52\"],\"font\":{\"color\":\"#2a3f5f\"},\"hovermode\":\"closest\",\"hoverlabel\":{\"align\":\"left\"},\"paper_bgcolor\":\"white\",\"plot_bgcolor\":\"#E5ECF6\",\"polar\":{\"bgcolor\":\"#E5ECF6\",\"angularaxis\":{\"gridcolor\":\"white\",\"linecolor\":\"white\",\"ticks\":\"\"},\"radialaxis\":{\"gridcolor\":\"white\",\"linecolor\":\"white\",\"ticks\":\"\"}},\"ternary\":{\"bgcolor\":\"#E5ECF6\",\"aaxis\":{\"gridcolor\":\"white\",\"linecolor\":\"white\",\"ticks\":\"\"},\"baxis\":{\"gridcolor\":\"white\",\"linecolor\":\"white\",\"ticks\":\"\"},\"caxis\":{\"gridcolor\":\"white\",\"linecolor\":\"white\",\"ticks\":\"\"}},\"coloraxis\":{\"colorbar\":{\"outlinewidth\":0,\"ticks\":\"\"}},\"colorscale\":{\"sequential\":[[0.0,\"#0d0887\"],[0.1111111111111111,\"#46039f\"],[0.2222222222222222,\"#7201a8\"],[0.3333333333333333,\"#9c179e\"],[0.4444444444444444,\"#bd3786\"],[0.5555555555555556,\"#d8576b\"],[0.6666666666666666,\"#ed7953\"],[0.7777777777777778,\"#fb9f3a\"],[0.8888888888888888,\"#fdca26\"],[1.0,\"#f0f921\"]],\"sequentialminus\":[[0.0,\"#0d0887\"],[0.1111111111111111,\"#46039f\"],[0.2222222222222222,\"#7201a8\"],[0.3333333333333333,\"#9c179e\"],[0.4444444444444444,\"#bd3786\"],[0.5555555555555556,\"#d8576b\"],[0.6666666666666666,\"#ed7953\"],[0.7777777777777778,\"#fb9f3a\"],[0.8888888888888888,\"#fdca26\"],[1.0,\"#f0f921\"]],\"diverging\":[[0,\"#8e0152\"],[0.1,\"#c51b7d\"],[0.2,\"#de77ae\"],[0.3,\"#f1b6da\"],[0.4,\"#fde0ef\"],[0.5,\"#f7f7f7\"],[0.6,\"#e6f5d0\"],[0.7,\"#b8e186\"],[0.8,\"#7fbc41\"],[0.9,\"#4d9221\"],[1,\"#276419\"]]},\"xaxis\":{\"gridcolor\":\"white\",\"linecolor\":\"white\",\"ticks\":\"\",\"title\":{\"standoff\":15},\"zerolinecolor\":\"white\",\"automargin\":true,\"zerolinewidth\":2},\"yaxis\":{\"gridcolor\":\"white\",\"linecolor\":\"white\",\"ticks\":\"\",\"title\":{\"standoff\":15},\"zerolinecolor\":\"white\",\"automargin\":true,\"zerolinewidth\":2},\"scene\":{\"xaxis\":{\"backgroundcolor\":\"#E5ECF6\",\"gridcolor\":\"white\",\"linecolor\":\"white\",\"showbackground\":true,\"ticks\":\"\",\"zerolinecolor\":\"white\",\"gridwidth\":2},\"yaxis\":{\"backgroundcolor\":\"#E5ECF6\",\"gridcolor\":\"white\",\"linecolor\":\"white\",\"showbackground\":true,\"ticks\":\"\",\"zerolinecolor\":\"white\",\"gridwidth\":2},\"zaxis\":{\"backgroundcolor\":\"#E5ECF6\",\"gridcolor\":\"white\",\"linecolor\":\"white\",\"showbackground\":true,\"ticks\":\"\",\"zerolinecolor\":\"white\",\"gridwidth\":2}},\"shapedefaults\":{\"line\":{\"color\":\"#2a3f5f\"}},\"annotationdefaults\":{\"arrowcolor\":\"#2a3f5f\",\"arrowhead\":0,\"arrowwidth\":1},\"geo\":{\"bgcolor\":\"white\",\"landcolor\":\"#E5ECF6\",\"subunitcolor\":\"white\",\"showland\":true,\"showlakes\":true,\"lakecolor\":\"white\"},\"title\":{\"x\":0.05},\"mapbox\":{\"style\":\"light\"}}},\"xaxis\":{\"anchor\":\"y\",\"domain\":[0.0,1.0],\"title\":{\"text\":\"country_id\"},\"tickmode\":\"linear\"},\"yaxis\":{\"anchor\":\"x\",\"domain\":[0.0,1.0],\"title\":{\"text\":\"customer_id\"}},\"legend\":{\"tracegroupgap\":0},\"title\":{\"text\":\"\\u0421\\u0442\\u0440\\u0430\\u043d\\u044b \\u0441 \\u043c\\u0435\\u043d\\u044c\\u0448\\u0438\\u043c \\u043a\\u043e\\u043b\\u0438\\u0447\\u0435\\u0441\\u0442\\u0432\\u043e\\u043c \\u043a\\u043b\\u0438\\u0435\\u043d\\u0442\\u043e\\u0432\"},\"barmode\":\"relative\"},                        {\"responsive\": true}                    ).then(function(){\n",
       "                            \n",
       "var gd = document.getElementById('95e1565e-82e1-49e9-8405-9c3d36910444');\n",
       "var x = new MutationObserver(function (mutations, observer) {{\n",
       "        var display = window.getComputedStyle(gd).display;\n",
       "        if (!display || display === 'none') {{\n",
       "            console.log([gd, 'removed!']);\n",
       "            Plotly.purge(gd);\n",
       "            observer.disconnect();\n",
       "        }}\n",
       "}});\n",
       "\n",
       "// Listen for the removal of the full notebook cells\n",
       "var notebookContainer = gd.closest('#notebook-container');\n",
       "if (notebookContainer) {{\n",
       "    x.observe(notebookContainer, {childList: true});\n",
       "}}\n",
       "\n",
       "// Listen for the clearing of the current output cell\n",
       "var outputEl = gd.closest('.output');\n",
       "if (outputEl) {{\n",
       "    x.observe(outputEl, {childList: true});\n",
       "}}\n",
       "\n",
       "                        })                };                });            </script>        </div>"
      ]
     },
     "metadata": {},
     "output_type": "display_data"
    }
   ],
   "source": [
    "fig = px.bar(df_group.query('customer_id < 5000'), x='country_id',\n",
    "             y='customer_id', text_auto=True,\n",
    "             title='Страны с меньшим количеством клиентов')\n",
    "fig.update_layout(\n",
    "    xaxis=dict(\n",
    "        tickmode='linear',\n",
    "    )\n",
    ")\n",
    "fig.show() "
   ]
  },
  {
   "cell_type": "markdown",
   "id": "fc65da76-f899-4708-9102-3bb72d00ac6f",
   "metadata": {},
   "source": [
    "Страны в которых больше всего клиентов: 5,  6 и 28, в стране с id=28 аномально высокое количество клиентов, и занимают общую часть всего датафрейма. Клиентов из страны 28 лучше рассматривать отдельно при изучении разных рынков сбыта, так как это основные клиенты. Группы 5 и 6 также выделяются из остальных групп и при сравнении по поведению пользователей в разных странах лучше брать значения, где клиентов менее 2000."
   ]
  },
  {
   "cell_type": "markdown",
   "id": "2ce00459-4587-48a9-a695-a44f758e6bf5",
   "metadata": {},
   "source": [
    "### 2.3 Полнота данных по времени записей\n",
    "Посчитаем по месяцам количество дней в которых не было продаж и выберем период для анализа содержащий основную часть данных."
   ]
  },
  {
   "cell_type": "code",
   "execution_count": 637,
   "id": "18f9ccba-0317-4c65-91c4-0b6a4df5e2d3",
   "metadata": {},
   "outputs": [
    {
     "name": "stdout",
     "output_type": "stream",
     "text": [
      "Период начала сбора данных: 2018-01-12 08:26:00\n",
      "Период окончания сбора данных: 2019-12-10 17:19:00\n"
     ]
    },
    {
     "data": {
      "text/html": [
       "<div>\n",
       "<style scoped>\n",
       "    .dataframe tbody tr th:only-of-type {\n",
       "        vertical-align: middle;\n",
       "    }\n",
       "\n",
       "    .dataframe tbody tr th {\n",
       "        vertical-align: top;\n",
       "    }\n",
       "\n",
       "    .dataframe thead th {\n",
       "        text-align: right;\n",
       "    }\n",
       "</style>\n",
       "<table border=\"1\" class=\"dataframe\">\n",
       "  <thead>\n",
       "    <tr style=\"text-align: right;\">\n",
       "      <th></th>\n",
       "      <th>day_without_order</th>\n",
       "    </tr>\n",
       "    <tr>\n",
       "      <th>entry_date</th>\n",
       "      <th></th>\n",
       "    </tr>\n",
       "  </thead>\n",
       "  <tbody>\n",
       "    <tr>\n",
       "      <th>2018-01-31</th>\n",
       "      <td>19</td>\n",
       "    </tr>\n",
       "    <tr>\n",
       "      <th>2018-02-28</th>\n",
       "      <td>27</td>\n",
       "    </tr>\n",
       "    <tr>\n",
       "      <th>2018-03-31</th>\n",
       "      <td>30</td>\n",
       "    </tr>\n",
       "    <tr>\n",
       "      <th>2018-04-30</th>\n",
       "      <td>30</td>\n",
       "    </tr>\n",
       "    <tr>\n",
       "      <th>2018-05-31</th>\n",
       "      <td>30</td>\n",
       "    </tr>\n",
       "    <tr>\n",
       "      <th>2018-06-30</th>\n",
       "      <td>29</td>\n",
       "    </tr>\n",
       "    <tr>\n",
       "      <th>2018-07-31</th>\n",
       "      <td>30</td>\n",
       "    </tr>\n",
       "    <tr>\n",
       "      <th>2018-08-31</th>\n",
       "      <td>30</td>\n",
       "    </tr>\n",
       "    <tr>\n",
       "      <th>2018-09-30</th>\n",
       "      <td>29</td>\n",
       "    </tr>\n",
       "    <tr>\n",
       "      <th>2018-10-31</th>\n",
       "      <td>30</td>\n",
       "    </tr>\n",
       "    <tr>\n",
       "      <th>2018-11-30</th>\n",
       "      <td>30</td>\n",
       "    </tr>\n",
       "    <tr>\n",
       "      <th>2018-12-31</th>\n",
       "      <td>20</td>\n",
       "    </tr>\n",
       "    <tr>\n",
       "      <th>2019-01-31</th>\n",
       "      <td>5</td>\n",
       "    </tr>\n",
       "    <tr>\n",
       "      <th>2019-02-28</th>\n",
       "      <td>6</td>\n",
       "    </tr>\n",
       "    <tr>\n",
       "      <th>2019-03-31</th>\n",
       "      <td>5</td>\n",
       "    </tr>\n",
       "    <tr>\n",
       "      <th>2019-04-30</th>\n",
       "      <td>8</td>\n",
       "    </tr>\n",
       "    <tr>\n",
       "      <th>2019-05-31</th>\n",
       "      <td>7</td>\n",
       "    </tr>\n",
       "    <tr>\n",
       "      <th>2019-06-30</th>\n",
       "      <td>3</td>\n",
       "    </tr>\n",
       "    <tr>\n",
       "      <th>2019-07-31</th>\n",
       "      <td>4</td>\n",
       "    </tr>\n",
       "    <tr>\n",
       "      <th>2019-08-31</th>\n",
       "      <td>6</td>\n",
       "    </tr>\n",
       "    <tr>\n",
       "      <th>2019-09-30</th>\n",
       "      <td>4</td>\n",
       "    </tr>\n",
       "    <tr>\n",
       "      <th>2019-10-31</th>\n",
       "      <td>5</td>\n",
       "    </tr>\n",
       "    <tr>\n",
       "      <th>2019-11-30</th>\n",
       "      <td>4</td>\n",
       "    </tr>\n",
       "    <tr>\n",
       "      <th>2019-12-31</th>\n",
       "      <td>2</td>\n",
       "    </tr>\n",
       "  </tbody>\n",
       "</table>\n",
       "</div>"
      ],
      "text/plain": [
       "            day_without_order\n",
       "entry_date                   \n",
       "2018-01-31                 19\n",
       "2018-02-28                 27\n",
       "2018-03-31                 30\n",
       "2018-04-30                 30\n",
       "2018-05-31                 30\n",
       "2018-06-30                 29\n",
       "2018-07-31                 30\n",
       "2018-08-31                 30\n",
       "2018-09-30                 29\n",
       "2018-10-31                 30\n",
       "2018-11-30                 30\n",
       "2018-12-31                 20\n",
       "2019-01-31                  5\n",
       "2019-02-28                  6\n",
       "2019-03-31                  5\n",
       "2019-04-30                  8\n",
       "2019-05-31                  7\n",
       "2019-06-30                  3\n",
       "2019-07-31                  4\n",
       "2019-08-31                  6\n",
       "2019-09-30                  4\n",
       "2019-10-31                  5\n",
       "2019-11-30                  4\n",
       "2019-12-31                  2"
      ]
     },
     "metadata": {},
     "output_type": "display_data"
    },
    {
     "data": {
      "image/png": "[encoded data removed]",
      "text/plain": [
       "<Figure size 1200x600 with 1 Axes>"
      ]
     },
     "metadata": {},
     "output_type": "display_data"
    }
   ],
   "source": [
    "df_month = df_clean.copy()\n",
    "min_date = df_month['entry_date'].min()\n",
    "max_date = df_month['entry_date'].max()\n",
    "print(f'Период начала сбора данных: {min_date}')\n",
    "print(f'Период окончания сбора данных: {max_date}')\n",
    "df_month = df_month.set_index('entry_date')\n",
    "# Создаем датафрейм где будут дни с нулевым количеством уникальных заказов в день\n",
    "df_zero_day_res = df_month.resample('D').agg({'order_id': 'nunique'}).query('order_id == 0')\n",
    "# Создаем датафрейм, где укажем количество нулевых значений в месяце\n",
    "df_month_zero_day_res = df_zero_day_res.resample('ME').agg(day_without_order=('order_id', 'count'))\n",
    "\n",
    "display(df_month_zero_day_res)\n",
    "\n",
    "plt.figure(figsize=(12, 6))\n",
    "plt.plot(df_month_zero_day_res.index, df_month_zero_day_res['day_without_order'],\n",
    "         label='Количество дней без продаж', color='blue')\n",
    "plt.title('Изменение полноты данных по месяцам')\n",
    "plt.xlabel('Месяц')\n",
    "plt.ylabel('Количество пустых дней')\n",
    "plt.xticks(rotation=45)\n",
    "plt.grid(True)\n",
    "plt.legend()\n",
    "plt.tight_layout()\n",
    "plt.show() "
   ]
  },
  {
   "cell_type": "markdown",
   "id": "902d1d18-1431-41d6-bb1e-4908ca871f41",
   "metadata": {},
   "source": [
    "По линейному графику видно, что в 2019 году количество дней без продаж сократилось в 5-6 раз, и больше не увеличивалось, а значит период подходящий для анализа начинается это с января по ноябрь 2019 года включительно. За декабрь у нас есть данные только за 10 дней и два из них без продаж, так что его не будем включать по следующим причинам, это не предоставит данные полностью за месяц и это он очень подвержен сезонности (покупка новогодних подарков), а значит будет выбиваться из общего представления о клиентах и выручке.. Просмотрим, как выглядит график с данными где количество дней без заказов меньше 10:"
   ]
  },
  {
   "cell_type": "code",
   "execution_count": 639,
   "id": "34a83080-97f8-4014-8801-0b2c69a01fde",
   "metadata": {},
   "outputs": [
    {
     "data": {
      "image/png": "[encoded data removed]",
      "text/plain": [
       "<Figure size 1200x600 with 1 Axes>"
      ]
     },
     "metadata": {},
     "output_type": "display_data"
    }
   ],
   "source": [
    "# Отфильтруем датафрейм с количеством нулевых дней в месяц меньше десяти\n",
    "df_month_min_zero_day = df_month_zero_day_res.query('day_without_order < 10')\n",
    "\n",
    "plt.figure(figsize=(12, 6))\n",
    "plt.plot(df_month_min_zero_day.index, df_month_min_zero_day['day_without_order'],\n",
    "         label='Количество дней', color='blue')\n",
    "plt.title('Изменение полноты данных по месяцам')\n",
    "plt.xlabel('Месяц')\n",
    "plt.ylabel('Количество дней без продаж')\n",
    "plt.xticks(rotation=45)\n",
    "plt.grid(True)\n",
    "plt.legend()\n",
    "plt.tight_layout()\n",
    "plt.show() "
   ]
  },
  {
   "cell_type": "code",
   "execution_count": 640,
   "id": "2d1b1a8f-8449-4d51-b3e8-04d3f2381237",
   "metadata": {},
   "outputs": [
    {
     "name": "stdout",
     "output_type": "stream",
     "text": [
      "Количество исключенных данных: 34772\n",
      "Доля исключенных данных: 10.0%\n"
     ]
    }
   ],
   "source": [
    "# Фильтруем датафрейм по дате, оставляем только данные начинающиеся с февраля:\n",
    "df_actual = df_clean.query('entry_date > \"2019-01-01 00:00:00\" & entry_date < \"2019-12-01 00:00:00\"')\n",
    "lost_data, lost_data_shape = lost_data_and_shape(df_clean, df_actual)\n",
    "print(f'Количество исключенных данных: {lost_data}')\n",
    "print(f'Доля исключенных данных: {lost_data_shape:.1%}')"
   ]
  },
  {
   "cell_type": "markdown",
   "id": "ca9abc1c-8656-4743-ad92-5480b709e639",
   "metadata": {},
   "source": [
    "#### Вывод по предобработке данных.\n",
    "Мы убрали из датафрейма не полные данные, тем самым обеспечили себе репрезентативные данные, по которым можно проводить анализ, потери составили 10% данных.  \n",
    "Также по анализу идентификаторов мы выяснили, что большая часть клиентов находится в одной стране, есть клиенты с очень высокими тратами, и есть позиции которые приносят больше всего дохода."
   ]
  },
  {
   "cell_type": "markdown",
   "id": "86797b52-67df-4ed1-8694-717abd4a1eb6",
   "metadata": {},
   "source": [
    "### 3. Расчёт метрик\n",
    "Так как нам придется проводить расчет уникальных пользователей, предлагаю исключить из выборки клиентов с -1, хоть они составляют большую долю данных порядка 24%, но так мы сможем провести корректно расчеты"
   ]
  },
  {
   "cell_type": "markdown",
   "id": "9a38deae-38c0-4d9b-8593-aee8d9c21333",
   "metadata": {},
   "source": [
    "#### 3.1 Расчет метрик по часам и дням недели.\n",
    "Оценим распределение количества заказов и уникальных клиентов по часам и дням недели. Посмотрим на наличие или отсутствие закономерности времени и дня недели на количество заказов и клиентов. Наличие этих килентов может привести к занижению числа уникальных клиентов."
   ]
  },
  {
   "cell_type": "code",
   "execution_count": 645,
   "id": "a8128a6f-7c1d-4cfe-9f3c-28d709c1caec",
   "metadata": {},
   "outputs": [
    {
     "name": "stdout",
     "output_type": "stream",
     "text": [
      "Количество потерянных данных: 77145\n",
      "Доля потерянных данных: 24.7%\n"
     ]
    }
   ],
   "source": [
    "lost_data, lost_data_shape = lost_data_and_shape(df_actual, df_actual.query('customer_id != -1'))\n",
    "print(f'Количество потерянных данных: {lost_data}')\n",
    "print(f'Доля потерянных данных: {lost_data_shape:.1%}')\n",
    "df_actual_2 = df_actual.query('customer_id != -1')"
   ]
  },
  {
   "cell_type": "code",
   "execution_count": 646,
   "id": "6f4ba475-b9ee-4800-a8cc-d3790706f7d4",
   "metadata": {},
   "outputs": [
    {
     "data": {
      "text/html": [
       "<div>\n",
       "<style scoped>\n",
       "    .dataframe tbody tr th:only-of-type {\n",
       "        vertical-align: middle;\n",
       "    }\n",
       "\n",
       "    .dataframe tbody tr th {\n",
       "        vertical-align: top;\n",
       "    }\n",
       "\n",
       "    .dataframe thead th {\n",
       "        text-align: right;\n",
       "    }\n",
       "</style>\n",
       "<table border=\"1\" class=\"dataframe\">\n",
       "  <thead>\n",
       "    <tr style=\"text-align: right;\">\n",
       "      <th></th>\n",
       "      <th>entry_date</th>\n",
       "      <th>order_id</th>\n",
       "      <th>customer_id</th>\n",
       "    </tr>\n",
       "  </thead>\n",
       "  <tbody>\n",
       "    <tr>\n",
       "      <th>5</th>\n",
       "      <td>5</td>\n",
       "      <td>0.000000</td>\n",
       "      <td>0.000000</td>\n",
       "    </tr>\n",
       "    <tr>\n",
       "      <th>6</th>\n",
       "      <td>6</td>\n",
       "      <td>0.003012</td>\n",
       "      <td>0.003012</td>\n",
       "    </tr>\n",
       "    <tr>\n",
       "      <th>7</th>\n",
       "      <td>7</td>\n",
       "      <td>0.063253</td>\n",
       "      <td>0.060241</td>\n",
       "    </tr>\n",
       "    <tr>\n",
       "      <th>8</th>\n",
       "      <td>8</td>\n",
       "      <td>1.378378</td>\n",
       "      <td>1.300300</td>\n",
       "    </tr>\n",
       "    <tr>\n",
       "      <th>9</th>\n",
       "      <td>9</td>\n",
       "      <td>3.414414</td>\n",
       "      <td>3.183183</td>\n",
       "    </tr>\n",
       "    <tr>\n",
       "      <th>10</th>\n",
       "      <td>10</td>\n",
       "      <td>5.429429</td>\n",
       "      <td>5.123123</td>\n",
       "    </tr>\n",
       "    <tr>\n",
       "      <th>11</th>\n",
       "      <td>11</td>\n",
       "      <td>5.672673</td>\n",
       "      <td>5.300300</td>\n",
       "    </tr>\n",
       "    <tr>\n",
       "      <th>12</th>\n",
       "      <td>12</td>\n",
       "      <td>7.888889</td>\n",
       "      <td>7.411411</td>\n",
       "    </tr>\n",
       "    <tr>\n",
       "      <th>13</th>\n",
       "      <td>13</td>\n",
       "      <td>6.639640</td>\n",
       "      <td>6.249249</td>\n",
       "    </tr>\n",
       "    <tr>\n",
       "      <th>14</th>\n",
       "      <td>14</td>\n",
       "      <td>5.768769</td>\n",
       "      <td>5.393393</td>\n",
       "    </tr>\n",
       "    <tr>\n",
       "      <th>15</th>\n",
       "      <td>15</td>\n",
       "      <td>5.078078</td>\n",
       "      <td>4.837838</td>\n",
       "    </tr>\n",
       "    <tr>\n",
       "      <th>16</th>\n",
       "      <td>16</td>\n",
       "      <td>2.708709</td>\n",
       "      <td>2.546547</td>\n",
       "    </tr>\n",
       "    <tr>\n",
       "      <th>17</th>\n",
       "      <td>17</td>\n",
       "      <td>1.351351</td>\n",
       "      <td>1.282282</td>\n",
       "    </tr>\n",
       "    <tr>\n",
       "      <th>18</th>\n",
       "      <td>18</td>\n",
       "      <td>0.391566</td>\n",
       "      <td>0.370482</td>\n",
       "    </tr>\n",
       "    <tr>\n",
       "      <th>19</th>\n",
       "      <td>19</td>\n",
       "      <td>0.358434</td>\n",
       "      <td>0.331325</td>\n",
       "    </tr>\n",
       "    <tr>\n",
       "      <th>20</th>\n",
       "      <td>20</td>\n",
       "      <td>0.045181</td>\n",
       "      <td>0.042169</td>\n",
       "    </tr>\n",
       "    <tr>\n",
       "      <th>21</th>\n",
       "      <td>21</td>\n",
       "      <td>0.000000</td>\n",
       "      <td>0.000000</td>\n",
       "    </tr>\n",
       "  </tbody>\n",
       "</table>\n",
       "</div>"
      ],
      "text/plain": [
       "    entry_date  order_id  customer_id\n",
       "5            5  0.000000     0.000000\n",
       "6            6  0.003012     0.003012\n",
       "7            7  0.063253     0.060241\n",
       "8            8  1.378378     1.300300\n",
       "9            9  3.414414     3.183183\n",
       "10          10  5.429429     5.123123\n",
       "11          11  5.672673     5.300300\n",
       "12          12  7.888889     7.411411\n",
       "13          13  6.639640     6.249249\n",
       "14          14  5.768769     5.393393\n",
       "15          15  5.078078     4.837838\n",
       "16          16  2.708709     2.546547\n",
       "17          17  1.351351     1.282282\n",
       "18          18  0.391566     0.370482\n",
       "19          19  0.358434     0.331325\n",
       "20          20  0.045181     0.042169\n",
       "21          21  0.000000     0.000000"
      ]
     },
     "metadata": {},
     "output_type": "display_data"
    },
    {
     "data": {
      "text/html": [
       "<div>\n",
       "<style scoped>\n",
       "    .dataframe tbody tr th:only-of-type {\n",
       "        vertical-align: middle;\n",
       "    }\n",
       "\n",
       "    .dataframe tbody tr th {\n",
       "        vertical-align: top;\n",
       "    }\n",
       "\n",
       "    .dataframe thead th {\n",
       "        text-align: right;\n",
       "    }\n",
       "</style>\n",
       "<table border=\"1\" class=\"dataframe\">\n",
       "  <thead>\n",
       "    <tr style=\"text-align: right;\">\n",
       "      <th></th>\n",
       "      <th>entry_date</th>\n",
       "      <th>order_id</th>\n",
       "      <th>customer_id</th>\n",
       "    </tr>\n",
       "  </thead>\n",
       "  <tbody>\n",
       "    <tr>\n",
       "      <th>0</th>\n",
       "      <td>Понедельник</td>\n",
       "      <td>48.787234</td>\n",
       "      <td>45.297872</td>\n",
       "    </tr>\n",
       "    <tr>\n",
       "      <th>1</th>\n",
       "      <td>Вторник</td>\n",
       "      <td>17.680851</td>\n",
       "      <td>16.000000</td>\n",
       "    </tr>\n",
       "    <tr>\n",
       "      <th>2</th>\n",
       "      <td>Среда</td>\n",
       "      <td>43.791667</td>\n",
       "      <td>40.645833</td>\n",
       "    </tr>\n",
       "    <tr>\n",
       "      <th>3</th>\n",
       "      <td>Четверг</td>\n",
       "      <td>46.812500</td>\n",
       "      <td>43.375000</td>\n",
       "    </tr>\n",
       "    <tr>\n",
       "      <th>4</th>\n",
       "      <td>Пятница</td>\n",
       "      <td>54.458333</td>\n",
       "      <td>50.666667</td>\n",
       "    </tr>\n",
       "    <tr>\n",
       "      <th>5</th>\n",
       "      <td>Суббота</td>\n",
       "      <td>49.500000</td>\n",
       "      <td>45.729167</td>\n",
       "    </tr>\n",
       "    <tr>\n",
       "      <th>6</th>\n",
       "      <td>Воскресенье</td>\n",
       "      <td>62.063830</td>\n",
       "      <td>57.659574</td>\n",
       "    </tr>\n",
       "  </tbody>\n",
       "</table>\n",
       "</div>"
      ],
      "text/plain": [
       "    entry_date   order_id  customer_id\n",
       "0  Понедельник  48.787234    45.297872\n",
       "1      Вторник  17.680851    16.000000\n",
       "2        Среда  43.791667    40.645833\n",
       "3      Четверг  46.812500    43.375000\n",
       "4      Пятница  54.458333    50.666667\n",
       "5      Суббота  49.500000    45.729167\n",
       "6  Воскресенье  62.063830    57.659574"
      ]
     },
     "metadata": {},
     "output_type": "display_data"
    }
   ],
   "source": [
    "# Сделаем копию датафрейма с индексом времени\n",
    "df_time = df_actual_2.set_index('entry_date')\n",
    "df_hour_order = (df_time.resample('h')\n",
    "                 .agg({'order_id': 'nunique','customer_id': 'nunique'}))\n",
    "df_hour_order = (df_hour_order\n",
    "                 .groupby(df_hour_order.index.hour)\n",
    "                 .agg({'order_id': 'mean','customer_id': 'mean'})\n",
    "                 .reset_index()\n",
    "                 .query('entry_date > 4 & entry_date < 22'))\n",
    "display(df_hour_order)\n",
    "days_map = {\n",
    "    0: 'Понедельник',\n",
    "    1: 'Вторник',\n",
    "    2: 'Среда',\n",
    "    3: 'Четверг',\n",
    "    4: 'Пятница',\n",
    "    5: 'Суббота',\n",
    "    6: 'Воскресенье'\n",
    "}\n",
    "df_day_order = df_time.resample('D').agg({'order_id': 'nunique',\n",
    "                                          'customer_id': 'nunique'})\n",
    "df_day_week_order = (df_day_order\n",
    "                     .groupby(df_day_order.index.weekday)\n",
    "                     .agg({'order_id': 'mean','customer_id': 'mean'})\n",
    "                     .reset_index())\n",
    "df_day_week_order['entry_date'] = df_day_week_order['entry_date'].replace(days_map)\n",
    "display(df_day_week_order)"
   ]
  },
  {
   "cell_type": "code",
   "execution_count": 647,
   "id": "6d952786-f77b-48c7-892e-d0aef735b365",
   "metadata": {},
   "outputs": [
    {
     "data": {
      "application/vnd.plotly.v1+json": {
       "config": {
        "plotlyServerURL": "https://plot.ly"
       },
       "data": [
        {
         "hovertemplate": "variable=order_id<br>entry_date=%{x}<br>value=%{y}<extra></extra>",
         "legendgroup": "order_id",
         "line": {
          "color": "#636efa",
          "dash": "solid"
         },
         "marker": {
          "symbol": "circle"
         },
         "mode": "lines",
         "name": "order_id",
         "orientation": "v",
         "showlegend": true,
         "type": "scatter",
         "x": [
          5,
          6,
          7,
          8,
          9,
          10,
          11,
          12,
          13,
          14,
          15,
          16,
          17,
          18,
          19,
          20,
          21
         ],
         "xaxis": "x",
         "y": [
          0,
          0.0030120481927710845,
          0.06325301204819277,
          1.3783783783783783,
          3.4144144144144146,
          5.42942942942943,
          5.672672672672673,
          7.888888888888889,
          6.63963963963964,
          5.768768768768769,
          5.078078078078078,
          2.7087087087087087,
          1.3513513513513513,
          0.39156626506024095,
          0.35843373493975905,
          0.045180722891566265,
          0
         ],
         "yaxis": "y"
        },
        {
         "hovertemplate": "variable=customer_id<br>entry_date=%{x}<br>value=%{y}<extra></extra>",
         "legendgroup": "customer_id",
         "line": {
          "color": "#EF553B",
          "dash": "solid"
         },
         "marker": {
          "symbol": "circle"
         },
         "mode": "lines",
         "name": "customer_id",
         "orientation": "v",
         "showlegend": true,
         "type": "scatter",
         "x": [
          5,
          6,
          7,
          8,
          9,
          10,
          11,
          12,
          13,
          14,
          15,
          16,
          17,
          18,
          19,
          20,
          21
         ],
         "xaxis": "x",
         "y": [
          0,
          0.0030120481927710845,
          0.060240963855421686,
          1.3003003003003002,
          3.1831831831831834,
          5.123123123123123,
          5.3003003003003,
          7.411411411411412,
          6.2492492492492495,
          5.393393393393393,
          4.837837837837838,
          2.5465465465465464,
          1.2822822822822824,
          0.3704819277108434,
          0.3313253012048193,
          0.04216867469879518,
          0
         ],
         "yaxis": "y"
        }
       ],
       "layout": {
        "autosize": true,
        "legend": {
         "title": {
          "text": "variable"
         },
         "tracegroupgap": 0
        },
        "template": {
         "data": {
          "bar": [
           {
            "error_x": {
             "color": "#2a3f5f"
            },
            "error_y": {
             "color": "#2a3f5f"
            },
            "marker": {
             "line": {
              "color": "#E5ECF6",
              "width": 0.5
             },
             "pattern": {
              "fillmode": "overlay",
              "size": 10,
              "solidity": 0.2
             }
            },
            "type": "bar"
           }
          ],
          "barpolar": [
           {
            "marker": {
             "line": {
              "color": "#E5ECF6",
              "width": 0.5
             },
             "pattern": {
              "fillmode": "overlay",
              "size": 10,
              "solidity": 0.2
             }
            },
            "type": "barpolar"
           }
          ],
          "carpet": [
           {
            "aaxis": {
             "endlinecolor": "#2a3f5f",
             "gridcolor": "white",
             "linecolor": "white",
             "minorgridcolor": "white",
             "startlinecolor": "#2a3f5f"
            },
            "baxis": {
             "endlinecolor": "#2a3f5f",
             "gridcolor": "white",
             "linecolor": "white",
             "minorgridcolor": "white",
             "startlinecolor": "#2a3f5f"
            },
            "type": "carpet"
           }
          ],
          "choropleth": [
           {
            "colorbar": {
             "outlinewidth": 0,
             "ticks": ""
            },
            "type": "choropleth"
           }
          ],
          "contour": [
           {
            "colorbar": {
             "outlinewidth": 0,
             "ticks": ""
            },
            "colorscale": [
             [
              0,
              "#0d0887"
             ],
             [
              0.1111111111111111,
              "#46039f"
             ],
             [
              0.2222222222222222,
              "#7201a8"
             ],
             [
              0.3333333333333333,
              "#9c179e"
             ],
             [
              0.4444444444444444,
              "#bd3786"
             ],
             [
              0.5555555555555556,
              "#d8576b"
             ],
             [
              0.6666666666666666,
              "#ed7953"
             ],
             [
              0.7777777777777778,
              "#fb9f3a"
             ],
             [
              0.8888888888888888,
              "#fdca26"
             ],
             [
              1,
              "#f0f921"
             ]
            ],
            "type": "contour"
           }
          ],
          "contourcarpet": [
           {
            "colorbar": {
             "outlinewidth": 0,
             "ticks": ""
            },
            "type": "contourcarpet"
           }
          ],
          "heatmap": [
           {
            "colorbar": {
             "outlinewidth": 0,
             "ticks": ""
            },
            "colorscale": [
             [
              0,
              "#0d0887"
             ],
             [
              0.1111111111111111,
              "#46039f"
             ],
             [
              0.2222222222222222,
              "#7201a8"
             ],
             [
              0.3333333333333333,
              "#9c179e"
             ],
             [
              0.4444444444444444,
              "#bd3786"
             ],
             [
              0.5555555555555556,
              "#d8576b"
             ],
             [
              0.6666666666666666,
              "#ed7953"
             ],
             [
              0.7777777777777778,
              "#fb9f3a"
             ],
             [
              0.8888888888888888,
              "#fdca26"
             ],
             [
              1,
              "#f0f921"
             ]
            ],
            "type": "heatmap"
           }
          ],
          "heatmapgl": [
           {
            "colorbar": {
             "outlinewidth": 0,
             "ticks": ""
            },
            "colorscale": [
             [
              0,
              "#0d0887"
             ],
             [
              0.1111111111111111,
              "#46039f"
             ],
             [
              0.2222222222222222,
              "#7201a8"
             ],
             [
              0.3333333333333333,
              "#9c179e"
             ],
             [
              0.4444444444444444,
              "#bd3786"
             ],
             [
              0.5555555555555556,
              "#d8576b"
             ],
             [
              0.6666666666666666,
              "#ed7953"
             ],
             [
              0.7777777777777778,
              "#fb9f3a"
             ],
             [
              0.8888888888888888,
              "#fdca26"
             ],
             [
              1,
              "#f0f921"
             ]
            ],
            "type": "heatmapgl"
           }
          ],
          "histogram": [
           {
            "marker": {
             "pattern": {
              "fillmode": "overlay",
              "size": 10,
              "solidity": 0.2
             }
            },
            "type": "histogram"
           }
          ],
          "histogram2d": [
           {
            "colorbar": {
             "outlinewidth": 0,
             "ticks": ""
            },
            "colorscale": [
             [
              0,
              "#0d0887"
             ],
             [
              0.1111111111111111,
              "#46039f"
             ],
             [
              0.2222222222222222,
              "#7201a8"
             ],
             [
              0.3333333333333333,
              "#9c179e"
             ],
             [
              0.4444444444444444,
              "#bd3786"
             ],
             [
              0.5555555555555556,
              "#d8576b"
             ],
             [
              0.6666666666666666,
              "#ed7953"
             ],
             [
              0.7777777777777778,
              "#fb9f3a"
             ],
             [
              0.8888888888888888,
              "#fdca26"
             ],
             [
              1,
              "#f0f921"
             ]
            ],
            "type": "histogram2d"
           }
          ],
          "histogram2dcontour": [
           {
            "colorbar": {
             "outlinewidth": 0,
             "ticks": ""
            },
            "colorscale": [
             [
              0,
              "#0d0887"
             ],
             [
              0.1111111111111111,
              "#46039f"
             ],
             [
              0.2222222222222222,
              "#7201a8"
             ],
             [
              0.3333333333333333,
              "#9c179e"
             ],
             [
              0.4444444444444444,
              "#bd3786"
             ],
             [
              0.5555555555555556,
              "#d8576b"
             ],
             [
              0.6666666666666666,
              "#ed7953"
             ],
             [
              0.7777777777777778,
              "#fb9f3a"
             ],
             [
              0.8888888888888888,
              "#fdca26"
             ],
             [
              1,
              "#f0f921"
             ]
            ],
            "type": "histogram2dcontour"
           }
          ],
          "mesh3d": [
           {
            "colorbar": {
             "outlinewidth": 0,
             "ticks": ""
            },
            "type": "mesh3d"
           }
          ],
          "parcoords": [
           {
            "line": {
             "colorbar": {
              "outlinewidth": 0,
              "ticks": ""
             }
            },
            "type": "parcoords"
           }
          ],
          "pie": [
           {
            "automargin": true,
            "type": "pie"
           }
          ],
          "scatter": [
           {
            "fillpattern": {
             "fillmode": "overlay",
             "size": 10,
             "solidity": 0.2
            },
            "type": "scatter"
           }
          ],
          "scatter3d": [
           {
            "line": {
             "colorbar": {
              "outlinewidth": 0,
              "ticks": ""
             }
            },
            "marker": {
             "colorbar": {
              "outlinewidth": 0,
              "ticks": ""
             }
            },
            "type": "scatter3d"
           }
          ],
          "scattercarpet": [
           {
            "marker": {
             "colorbar": {
              "outlinewidth": 0,
              "ticks": ""
             }
            },
            "type": "scattercarpet"
           }
          ],
          "scattergeo": [
           {
            "marker": {
             "colorbar": {
              "outlinewidth": 0,
              "ticks": ""
             }
            },
            "type": "scattergeo"
           }
          ],
          "scattergl": [
           {
            "marker": {
             "colorbar": {
              "outlinewidth": 0,
              "ticks": ""
             }
            },
            "type": "scattergl"
           }
          ],
          "scattermapbox": [
           {
            "marker": {
             "colorbar": {
              "outlinewidth": 0,
              "ticks": ""
             }
            },
            "type": "scattermapbox"
           }
          ],
          "scatterpolar": [
           {
            "marker": {
             "colorbar": {
              "outlinewidth": 0,
              "ticks": ""
             }
            },
            "type": "scatterpolar"
           }
          ],
          "scatterpolargl": [
           {
            "marker": {
             "colorbar": {
              "outlinewidth": 0,
              "ticks": ""
             }
            },
            "type": "scatterpolargl"
           }
          ],
          "scatterternary": [
           {
            "marker": {
             "colorbar": {
              "outlinewidth": 0,
              "ticks": ""
             }
            },
            "type": "scatterternary"
           }
          ],
          "surface": [
           {
            "colorbar": {
             "outlinewidth": 0,
             "ticks": ""
            },
            "colorscale": [
             [
              0,
              "#0d0887"
             ],
             [
              0.1111111111111111,
              "#46039f"
             ],
             [
              0.2222222222222222,
              "#7201a8"
             ],
             [
              0.3333333333333333,
              "#9c179e"
             ],
             [
              0.4444444444444444,
              "#bd3786"
             ],
             [
              0.5555555555555556,
              "#d8576b"
             ],
             [
              0.6666666666666666,
              "#ed7953"
             ],
             [
              0.7777777777777778,
              "#fb9f3a"
             ],
             [
              0.8888888888888888,
              "#fdca26"
             ],
             [
              1,
              "#f0f921"
             ]
            ],
            "type": "surface"
           }
          ],
          "table": [
           {
            "cells": {
             "fill": {
              "color": "#EBF0F8"
             },
             "line": {
              "color": "white"
             }
            },
            "header": {
             "fill": {
              "color": "#C8D4E3"
             },
             "line": {
              "color": "white"
             }
            },
            "type": "table"
           }
          ]
         },
         "layout": {
          "annotationdefaults": {
           "arrowcolor": "#2a3f5f",
           "arrowhead": 0,
           "arrowwidth": 1
          },
          "autotypenumbers": "strict",
          "coloraxis": {
           "colorbar": {
            "outlinewidth": 0,
            "ticks": ""
           }
          },
          "colorscale": {
           "diverging": [
            [
             0,
             "#8e0152"
            ],
            [
             0.1,
             "#c51b7d"
            ],
            [
             0.2,
             "#de77ae"
            ],
            [
             0.3,
             "#f1b6da"
            ],
            [
             0.4,
             "#fde0ef"
            ],
            [
             0.5,
             "#f7f7f7"
            ],
            [
             0.6,
             "#e6f5d0"
            ],
            [
             0.7,
             "#b8e186"
            ],
            [
             0.8,
             "#7fbc41"
            ],
            [
             0.9,
             "#4d9221"
            ],
            [
             1,
             "#276419"
            ]
           ],
           "sequential": [
            [
             0,
             "#0d0887"
            ],
            [
             0.1111111111111111,
             "#46039f"
            ],
            [
             0.2222222222222222,
             "#7201a8"
            ],
            [
             0.3333333333333333,
             "#9c179e"
            ],
            [
             0.4444444444444444,
             "#bd3786"
            ],
            [
             0.5555555555555556,
             "#d8576b"
            ],
            [
             0.6666666666666666,
             "#ed7953"
            ],
            [
             0.7777777777777778,
             "#fb9f3a"
            ],
            [
             0.8888888888888888,
             "#fdca26"
            ],
            [
             1,
             "#f0f921"
            ]
           ],
           "sequentialminus": [
            [
             0,
             "#0d0887"
            ],
            [
             0.1111111111111111,
             "#46039f"
            ],
            [
             0.2222222222222222,
             "#7201a8"
            ],
            [
             0.3333333333333333,
             "#9c179e"
            ],
            [
             0.4444444444444444,
             "#bd3786"
            ],
            [
             0.5555555555555556,
             "#d8576b"
            ],
            [
             0.6666666666666666,
             "#ed7953"
            ],
            [
             0.7777777777777778,
             "#fb9f3a"
            ],
            [
             0.8888888888888888,
             "#fdca26"
            ],
            [
             1,
             "#f0f921"
            ]
           ]
          },
          "colorway": [
           "#636efa",
           "#EF553B",
           "#00cc96",
           "#ab63fa",
           "#FFA15A",
           "#19d3f3",
           "#FF6692",
           "#B6E880",
           "#FF97FF",
           "#FECB52"
          ],
          "font": {
           "color": "#2a3f5f"
          },
          "geo": {
           "bgcolor": "white",
           "lakecolor": "white",
           "landcolor": "#E5ECF6",
           "showlakes": true,
           "showland": true,
           "subunitcolor": "white"
          },
          "hoverlabel": {
           "align": "left"
          },
          "hovermode": "closest",
          "mapbox": {
           "style": "light"
          },
          "paper_bgcolor": "white",
          "plot_bgcolor": "#E5ECF6",
          "polar": {
           "angularaxis": {
            "gridcolor": "white",
            "linecolor": "white",
            "ticks": ""
           },
           "bgcolor": "#E5ECF6",
           "radialaxis": {
            "gridcolor": "white",
            "linecolor": "white",
            "ticks": ""
           }
          },
          "scene": {
           "xaxis": {
            "backgroundcolor": "#E5ECF6",
            "gridcolor": "white",
            "gridwidth": 2,
            "linecolor": "white",
            "showbackground": true,
            "ticks": "",
            "zerolinecolor": "white"
           },
           "yaxis": {
            "backgroundcolor": "#E5ECF6",
            "gridcolor": "white",
            "gridwidth": 2,
            "linecolor": "white",
            "showbackground": true,
            "ticks": "",
            "zerolinecolor": "white"
           },
           "zaxis": {
            "backgroundcolor": "#E5ECF6",
            "gridcolor": "white",
            "gridwidth": 2,
            "linecolor": "white",
            "showbackground": true,
            "ticks": "",
            "zerolinecolor": "white"
           }
          },
          "shapedefaults": {
           "line": {
            "color": "#2a3f5f"
           }
          },
          "ternary": {
           "aaxis": {
            "gridcolor": "white",
            "linecolor": "white",
            "ticks": ""
           },
           "baxis": {
            "gridcolor": "white",
            "linecolor": "white",
            "ticks": ""
           },
           "bgcolor": "#E5ECF6",
           "caxis": {
            "gridcolor": "white",
            "linecolor": "white",
            "ticks": ""
           }
          },
          "title": {
           "x": 0.05
          },
          "xaxis": {
           "automargin": true,
           "gridcolor": "white",
           "linecolor": "white",
           "ticks": "",
           "title": {
            "standoff": 15
           },
           "zerolinecolor": "white",
           "zerolinewidth": 2
          },
          "yaxis": {
           "automargin": true,
           "gridcolor": "white",
           "linecolor": "white",
           "ticks": "",
           "title": {
            "standoff": 15
           },
           "zerolinecolor": "white",
           "zerolinewidth": 2
          }
         }
        },
        "title": {
         "text": "Среднее количество заказов и клиентов в час"
        },
        "xaxis": {
         "anchor": "y",
         "autorange": true,
         "domain": [
          0,
          1
         ],
         "range": [
          5,
          21
         ],
         "title": {
          "text": "entry_date"
         },
         "type": "linear"
        },
        "yaxis": {
         "anchor": "x",
         "autorange": true,
         "domain": [
          0,
          1
         ],
         "range": [
          -0.43827160493827166,
          8.327160493827162
         ],
         "title": {
          "text": "value"
         },
         "type": "linear"
        }
       }
      },
      "text/html": [
       "<div>                            <div id=\"cb7a20ac-beaa-4d5f-8367-82e88936fb27\" class=\"plotly-graph-div\" style=\"height:525px; width:100%;\"></div>            <script type=\"text/javascript\">                require([\"plotly\"], function(Plotly) {                    window.PLOTLYENV=window.PLOTLYENV || {};                                    if (document.getElementById(\"cb7a20ac-beaa-4d5f-8367-82e88936fb27\")) {                    Plotly.newPlot(                        \"cb7a20ac-beaa-4d5f-8367-82e88936fb27\",                        [{\"hovertemplate\":\"variable=order_id\\u003cbr\\u003eentry_date=%{x}\\u003cbr\\u003evalue=%{y}\\u003cextra\\u003e\\u003c\\u002fextra\\u003e\",\"legendgroup\":\"order_id\",\"line\":{\"color\":\"#636efa\",\"dash\":\"solid\"},\"marker\":{\"symbol\":\"circle\"},\"mode\":\"lines\",\"name\":\"order_id\",\"orientation\":\"v\",\"showlegend\":true,\"x\":[5,6,7,8,9,10,11,12,13,14,15,16,17,18,19,20,21],\"xaxis\":\"x\",\"y\":[0.0,0.0030120481927710845,0.06325301204819277,1.3783783783783783,3.4144144144144146,5.42942942942943,5.672672672672673,7.888888888888889,6.63963963963964,5.768768768768769,5.078078078078078,2.7087087087087087,1.3513513513513513,0.39156626506024095,0.35843373493975905,0.045180722891566265,0.0],\"yaxis\":\"y\",\"type\":\"scatter\"},{\"hovertemplate\":\"variable=customer_id\\u003cbr\\u003eentry_date=%{x}\\u003cbr\\u003evalue=%{y}\\u003cextra\\u003e\\u003c\\u002fextra\\u003e\",\"legendgroup\":\"customer_id\",\"line\":{\"color\":\"#EF553B\",\"dash\":\"solid\"},\"marker\":{\"symbol\":\"circle\"},\"mode\":\"lines\",\"name\":\"customer_id\",\"orientation\":\"v\",\"showlegend\":true,\"x\":[5,6,7,8,9,10,11,12,13,14,15,16,17,18,19,20,21],\"xaxis\":\"x\",\"y\":[0.0,0.0030120481927710845,0.060240963855421686,1.3003003003003002,3.1831831831831834,5.123123123123123,5.3003003003003,7.411411411411412,6.2492492492492495,5.393393393393393,4.837837837837838,2.5465465465465464,1.2822822822822824,0.3704819277108434,0.3313253012048193,0.04216867469879518,0.0],\"yaxis\":\"y\",\"type\":\"scatter\"}],                        {\"template\":{\"data\":{\"histogram2dcontour\":[{\"type\":\"histogram2dcontour\",\"colorbar\":{\"outlinewidth\":0,\"ticks\":\"\"},\"colorscale\":[[0.0,\"#0d0887\"],[0.1111111111111111,\"#46039f\"],[0.2222222222222222,\"#7201a8\"],[0.3333333333333333,\"#9c179e\"],[0.4444444444444444,\"#bd3786\"],[0.5555555555555556,\"#d8576b\"],[0.6666666666666666,\"#ed7953\"],[0.7777777777777778,\"#fb9f3a\"],[0.8888888888888888,\"#fdca26\"],[1.0,\"#f0f921\"]]}],\"choropleth\":[{\"type\":\"choropleth\",\"colorbar\":{\"outlinewidth\":0,\"ticks\":\"\"}}],\"histogram2d\":[{\"type\":\"histogram2d\",\"colorbar\":{\"outlinewidth\":0,\"ticks\":\"\"},\"colorscale\":[[0.0,\"#0d0887\"],[0.1111111111111111,\"#46039f\"],[0.2222222222222222,\"#7201a8\"],[0.3333333333333333,\"#9c179e\"],[0.4444444444444444,\"#bd3786\"],[0.5555555555555556,\"#d8576b\"],[0.6666666666666666,\"#ed7953\"],[0.7777777777777778,\"#fb9f3a\"],[0.8888888888888888,\"#fdca26\"],[1.0,\"#f0f921\"]]}],\"heatmap\":[{\"type\":\"heatmap\",\"colorbar\":{\"outlinewidth\":0,\"ticks\":\"\"},\"colorscale\":[[0.0,\"#0d0887\"],[0.1111111111111111,\"#46039f\"],[0.2222222222222222,\"#7201a8\"],[0.3333333333333333,\"#9c179e\"],[0.4444444444444444,\"#bd3786\"],[0.5555555555555556,\"#d8576b\"],[0.6666666666666666,\"#ed7953\"],[0.7777777777777778,\"#fb9f3a\"],[0.8888888888888888,\"#fdca26\"],[1.0,\"#f0f921\"]]}],\"heatmapgl\":[{\"type\":\"heatmapgl\",\"colorbar\":{\"outlinewidth\":0,\"ticks\":\"\"},\"colorscale\":[[0.0,\"#0d0887\"],[0.1111111111111111,\"#46039f\"],[0.2222222222222222,\"#7201a8\"],[0.3333333333333333,\"#9c179e\"],[0.4444444444444444,\"#bd3786\"],[0.5555555555555556,\"#d8576b\"],[0.6666666666666666,\"#ed7953\"],[0.7777777777777778,\"#fb9f3a\"],[0.8888888888888888,\"#fdca26\"],[1.0,\"#f0f921\"]]}],\"contourcarpet\":[{\"type\":\"contourcarpet\",\"colorbar\":{\"outlinewidth\":0,\"ticks\":\"\"}}],\"contour\":[{\"type\":\"contour\",\"colorbar\":{\"outlinewidth\":0,\"ticks\":\"\"},\"colorscale\":[[0.0,\"#0d0887\"],[0.1111111111111111,\"#46039f\"],[0.2222222222222222,\"#7201a8\"],[0.3333333333333333,\"#9c179e\"],[0.4444444444444444,\"#bd3786\"],[0.5555555555555556,\"#d8576b\"],[0.6666666666666666,\"#ed7953\"],[0.7777777777777778,\"#fb9f3a\"],[0.8888888888888888,\"#fdca26\"],[1.0,\"#f0f921\"]]}],\"surface\":[{\"type\":\"surface\",\"colorbar\":{\"outlinewidth\":0,\"ticks\":\"\"},\"colorscale\":[[0.0,\"#0d0887\"],[0.1111111111111111,\"#46039f\"],[0.2222222222222222,\"#7201a8\"],[0.3333333333333333,\"#9c179e\"],[0.4444444444444444,\"#bd3786\"],[0.5555555555555556,\"#d8576b\"],[0.6666666666666666,\"#ed7953\"],[0.7777777777777778,\"#fb9f3a\"],[0.8888888888888888,\"#fdca26\"],[1.0,\"#f0f921\"]]}],\"mesh3d\":[{\"type\":\"mesh3d\",\"colorbar\":{\"outlinewidth\":0,\"ticks\":\"\"}}],\"scatter\":[{\"fillpattern\":{\"fillmode\":\"overlay\",\"size\":10,\"solidity\":0.2},\"type\":\"scatter\"}],\"parcoords\":[{\"type\":\"parcoords\",\"line\":{\"colorbar\":{\"outlinewidth\":0,\"ticks\":\"\"}}}],\"scatterpolargl\":[{\"type\":\"scatterpolargl\",\"marker\":{\"colorbar\":{\"outlinewidth\":0,\"ticks\":\"\"}}}],\"bar\":[{\"error_x\":{\"color\":\"#2a3f5f\"},\"error_y\":{\"color\":\"#2a3f5f\"},\"marker\":{\"line\":{\"color\":\"#E5ECF6\",\"width\":0.5},\"pattern\":{\"fillmode\":\"overlay\",\"size\":10,\"solidity\":0.2}},\"type\":\"bar\"}],\"scattergeo\":[{\"type\":\"scattergeo\",\"marker\":{\"colorbar\":{\"outlinewidth\":0,\"ticks\":\"\"}}}],\"scatterpolar\":[{\"type\":\"scatterpolar\",\"marker\":{\"colorbar\":{\"outlinewidth\":0,\"ticks\":\"\"}}}],\"histogram\":[{\"marker\":{\"pattern\":{\"fillmode\":\"overlay\",\"size\":10,\"solidity\":0.2}},\"type\":\"histogram\"}],\"scattergl\":[{\"type\":\"scattergl\",\"marker\":{\"colorbar\":{\"outlinewidth\":0,\"ticks\":\"\"}}}],\"scatter3d\":[{\"type\":\"scatter3d\",\"line\":{\"colorbar\":{\"outlinewidth\":0,\"ticks\":\"\"}},\"marker\":{\"colorbar\":{\"outlinewidth\":0,\"ticks\":\"\"}}}],\"scattermapbox\":[{\"type\":\"scattermapbox\",\"marker\":{\"colorbar\":{\"outlinewidth\":0,\"ticks\":\"\"}}}],\"scatterternary\":[{\"type\":\"scatterternary\",\"marker\":{\"colorbar\":{\"outlinewidth\":0,\"ticks\":\"\"}}}],\"scattercarpet\":[{\"type\":\"scattercarpet\",\"marker\":{\"colorbar\":{\"outlinewidth\":0,\"ticks\":\"\"}}}],\"carpet\":[{\"aaxis\":{\"endlinecolor\":\"#2a3f5f\",\"gridcolor\":\"white\",\"linecolor\":\"white\",\"minorgridcolor\":\"white\",\"startlinecolor\":\"#2a3f5f\"},\"baxis\":{\"endlinecolor\":\"#2a3f5f\",\"gridcolor\":\"white\",\"linecolor\":\"white\",\"minorgridcolor\":\"white\",\"startlinecolor\":\"#2a3f5f\"},\"type\":\"carpet\"}],\"table\":[{\"cells\":{\"fill\":{\"color\":\"#EBF0F8\"},\"line\":{\"color\":\"white\"}},\"header\":{\"fill\":{\"color\":\"#C8D4E3\"},\"line\":{\"color\":\"white\"}},\"type\":\"table\"}],\"barpolar\":[{\"marker\":{\"line\":{\"color\":\"#E5ECF6\",\"width\":0.5},\"pattern\":{\"fillmode\":\"overlay\",\"size\":10,\"solidity\":0.2}},\"type\":\"barpolar\"}],\"pie\":[{\"automargin\":true,\"type\":\"pie\"}]},\"layout\":{\"autotypenumbers\":\"strict\",\"colorway\":[\"#636efa\",\"#EF553B\",\"#00cc96\",\"#ab63fa\",\"#FFA15A\",\"#19d3f3\",\"#FF6692\",\"#B6E880\",\"#FF97FF\",\"#FECB52\"],\"font\":{\"color\":\"#2a3f5f\"},\"hovermode\":\"closest\",\"hoverlabel\":{\"align\":\"left\"},\"paper_bgcolor\":\"white\",\"plot_bgcolor\":\"#E5ECF6\",\"polar\":{\"bgcolor\":\"#E5ECF6\",\"angularaxis\":{\"gridcolor\":\"white\",\"linecolor\":\"white\",\"ticks\":\"\"},\"radialaxis\":{\"gridcolor\":\"white\",\"linecolor\":\"white\",\"ticks\":\"\"}},\"ternary\":{\"bgcolor\":\"#E5ECF6\",\"aaxis\":{\"gridcolor\":\"white\",\"linecolor\":\"white\",\"ticks\":\"\"},\"baxis\":{\"gridcolor\":\"white\",\"linecolor\":\"white\",\"ticks\":\"\"},\"caxis\":{\"gridcolor\":\"white\",\"linecolor\":\"white\",\"ticks\":\"\"}},\"coloraxis\":{\"colorbar\":{\"outlinewidth\":0,\"ticks\":\"\"}},\"colorscale\":{\"sequential\":[[0.0,\"#0d0887\"],[0.1111111111111111,\"#46039f\"],[0.2222222222222222,\"#7201a8\"],[0.3333333333333333,\"#9c179e\"],[0.4444444444444444,\"#bd3786\"],[0.5555555555555556,\"#d8576b\"],[0.6666666666666666,\"#ed7953\"],[0.7777777777777778,\"#fb9f3a\"],[0.8888888888888888,\"#fdca26\"],[1.0,\"#f0f921\"]],\"sequentialminus\":[[0.0,\"#0d0887\"],[0.1111111111111111,\"#46039f\"],[0.2222222222222222,\"#7201a8\"],[0.3333333333333333,\"#9c179e\"],[0.4444444444444444,\"#bd3786\"],[0.5555555555555556,\"#d8576b\"],[0.6666666666666666,\"#ed7953\"],[0.7777777777777778,\"#fb9f3a\"],[0.8888888888888888,\"#fdca26\"],[1.0,\"#f0f921\"]],\"diverging\":[[0,\"#8e0152\"],[0.1,\"#c51b7d\"],[0.2,\"#de77ae\"],[0.3,\"#f1b6da\"],[0.4,\"#fde0ef\"],[0.5,\"#f7f7f7\"],[0.6,\"#e6f5d0\"],[0.7,\"#b8e186\"],[0.8,\"#7fbc41\"],[0.9,\"#4d9221\"],[1,\"#276419\"]]},\"xaxis\":{\"gridcolor\":\"white\",\"linecolor\":\"white\",\"ticks\":\"\",\"title\":{\"standoff\":15},\"zerolinecolor\":\"white\",\"automargin\":true,\"zerolinewidth\":2},\"yaxis\":{\"gridcolor\":\"white\",\"linecolor\":\"white\",\"ticks\":\"\",\"title\":{\"standoff\":15},\"zerolinecolor\":\"white\",\"automargin\":true,\"zerolinewidth\":2},\"scene\":{\"xaxis\":{\"backgroundcolor\":\"#E5ECF6\",\"gridcolor\":\"white\",\"linecolor\":\"white\",\"showbackground\":true,\"ticks\":\"\",\"zerolinecolor\":\"white\",\"gridwidth\":2},\"yaxis\":{\"backgroundcolor\":\"#E5ECF6\",\"gridcolor\":\"white\",\"linecolor\":\"white\",\"showbackground\":true,\"ticks\":\"\",\"zerolinecolor\":\"white\",\"gridwidth\":2},\"zaxis\":{\"backgroundcolor\":\"#E5ECF6\",\"gridcolor\":\"white\",\"linecolor\":\"white\",\"showbackground\":true,\"ticks\":\"\",\"zerolinecolor\":\"white\",\"gridwidth\":2}},\"shapedefaults\":{\"line\":{\"color\":\"#2a3f5f\"}},\"annotationdefaults\":{\"arrowcolor\":\"#2a3f5f\",\"arrowhead\":0,\"arrowwidth\":1},\"geo\":{\"bgcolor\":\"white\",\"landcolor\":\"#E5ECF6\",\"subunitcolor\":\"white\",\"showland\":true,\"showlakes\":true,\"lakecolor\":\"white\"},\"title\":{\"x\":0.05},\"mapbox\":{\"style\":\"light\"}}},\"xaxis\":{\"anchor\":\"y\",\"domain\":[0.0,1.0],\"title\":{\"text\":\"entry_date\"}},\"yaxis\":{\"anchor\":\"x\",\"domain\":[0.0,1.0],\"title\":{\"text\":\"value\"}},\"legend\":{\"title\":{\"text\":\"variable\"},\"tracegroupgap\":0},\"title\":{\"text\":\"\\u0421\\u0440\\u0435\\u0434\\u043d\\u0435\\u0435 \\u043a\\u043e\\u043b\\u0438\\u0447\\u0435\\u0441\\u0442\\u0432\\u043e \\u0437\\u0430\\u043a\\u0430\\u0437\\u043e\\u0432 \\u0438 \\u043a\\u043b\\u0438\\u0435\\u043d\\u0442\\u043e\\u0432 \\u0432 \\u0447\\u0430\\u0441\"}},                        {\"responsive\": true}                    ).then(function(){\n",
       "                            \n",
       "var gd = document.getElementById('cb7a20ac-beaa-4d5f-8367-82e88936fb27');\n",
       "var x = new MutationObserver(function (mutations, observer) {{\n",
       "        var display = window.getComputedStyle(gd).display;\n",
       "        if (!display || display === 'none') {{\n",
       "            console.log([gd, 'removed!']);\n",
       "            Plotly.purge(gd);\n",
       "            observer.disconnect();\n",
       "        }}\n",
       "}});\n",
       "\n",
       "// Listen for the removal of the full notebook cells\n",
       "var notebookContainer = gd.closest('#notebook-container');\n",
       "if (notebookContainer) {{\n",
       "    x.observe(notebookContainer, {childList: true});\n",
       "}}\n",
       "\n",
       "// Listen for the clearing of the current output cell\n",
       "var outputEl = gd.closest('.output');\n",
       "if (outputEl) {{\n",
       "    x.observe(outputEl, {childList: true});\n",
       "}}\n",
       "\n",
       "                        })                };                });            </script>        </div>"
      ]
     },
     "metadata": {},
     "output_type": "display_data"
    },
    {
     "data": {
      "application/vnd.plotly.v1+json": {
       "config": {
        "plotlyServerURL": "https://plot.ly"
       },
       "data": [
        {
         "hovertemplate": "variable=order_id<br>entry_date=%{x}<br>value=%{y}<extra></extra>",
         "legendgroup": "order_id",
         "line": {
          "color": "#636efa",
          "dash": "solid"
         },
         "marker": {
          "symbol": "circle"
         },
         "mode": "lines",
         "name": "order_id",
         "orientation": "v",
         "showlegend": true,
         "type": "scatter",
         "x": [
          "Понедельник",
          "Вторник",
          "Среда",
          "Четверг",
          "Пятница",
          "Суббота",
          "Воскресенье"
         ],
         "xaxis": "x",
         "y": [
          48.787234042553195,
          17.680851063829788,
          43.791666666666664,
          46.8125,
          54.458333333333336,
          49.5,
          62.06382978723404
         ],
         "yaxis": "y"
        },
        {
         "hovertemplate": "variable=customer_id<br>entry_date=%{x}<br>value=%{y}<extra></extra>",
         "legendgroup": "customer_id",
         "line": {
          "color": "#EF553B",
          "dash": "solid"
         },
         "marker": {
          "symbol": "circle"
         },
         "mode": "lines",
         "name": "customer_id",
         "orientation": "v",
         "showlegend": true,
         "type": "scatter",
         "x": [
          "Понедельник",
          "Вторник",
          "Среда",
          "Четверг",
          "Пятница",
          "Суббота",
          "Воскресенье"
         ],
         "xaxis": "x",
         "y": [
          45.297872340425535,
          16,
          40.645833333333336,
          43.375,
          50.666666666666664,
          45.729166666666664,
          57.659574468085104
         ],
         "yaxis": "y"
        }
       ],
       "layout": {
        "autosize": true,
        "legend": {
         "title": {
          "text": "variable"
         },
         "tracegroupgap": 0
        },
        "template": {
         "data": {
          "bar": [
           {
            "error_x": {
             "color": "#2a3f5f"
            },
            "error_y": {
             "color": "#2a3f5f"
            },
            "marker": {
             "line": {
              "color": "#E5ECF6",
              "width": 0.5
             },
             "pattern": {
              "fillmode": "overlay",
              "size": 10,
              "solidity": 0.2
             }
            },
            "type": "bar"
           }
          ],
          "barpolar": [
           {
            "marker": {
             "line": {
              "color": "#E5ECF6",
              "width": 0.5
             },
             "pattern": {
              "fillmode": "overlay",
              "size": 10,
              "solidity": 0.2
             }
            },
            "type": "barpolar"
           }
          ],
          "carpet": [
           {
            "aaxis": {
             "endlinecolor": "#2a3f5f",
             "gridcolor": "white",
             "linecolor": "white",
             "minorgridcolor": "white",
             "startlinecolor": "#2a3f5f"
            },
            "baxis": {
             "endlinecolor": "#2a3f5f",
             "gridcolor": "white",
             "linecolor": "white",
             "minorgridcolor": "white",
             "startlinecolor": "#2a3f5f"
            },
            "type": "carpet"
           }
          ],
          "choropleth": [
           {
            "colorbar": {
             "outlinewidth": 0,
             "ticks": ""
            },
            "type": "choropleth"
           }
          ],
          "contour": [
           {
            "colorbar": {
             "outlinewidth": 0,
             "ticks": ""
            },
            "colorscale": [
             [
              0,
              "#0d0887"
             ],
             [
              0.1111111111111111,
              "#46039f"
             ],
             [
              0.2222222222222222,
              "#7201a8"
             ],
             [
              0.3333333333333333,
              "#9c179e"
             ],
             [
              0.4444444444444444,
              "#bd3786"
             ],
             [
              0.5555555555555556,
              "#d8576b"
             ],
             [
              0.6666666666666666,
              "#ed7953"
             ],
             [
              0.7777777777777778,
              "#fb9f3a"
             ],
             [
              0.8888888888888888,
              "#fdca26"
             ],
             [
              1,
              "#f0f921"
             ]
            ],
            "type": "contour"
           }
          ],
          "contourcarpet": [
           {
            "colorbar": {
             "outlinewidth": 0,
             "ticks": ""
            },
            "type": "contourcarpet"
           }
          ],
          "heatmap": [
           {
            "colorbar": {
             "outlinewidth": 0,
             "ticks": ""
            },
            "colorscale": [
             [
              0,
              "#0d0887"
             ],
             [
              0.1111111111111111,
              "#46039f"
             ],
             [
              0.2222222222222222,
              "#7201a8"
             ],
             [
              0.3333333333333333,
              "#9c179e"
             ],
             [
              0.4444444444444444,
              "#bd3786"
             ],
             [
              0.5555555555555556,
              "#d8576b"
             ],
             [
              0.6666666666666666,
              "#ed7953"
             ],
             [
              0.7777777777777778,
              "#fb9f3a"
             ],
             [
              0.8888888888888888,
              "#fdca26"
             ],
             [
              1,
              "#f0f921"
             ]
            ],
            "type": "heatmap"
           }
          ],
          "heatmapgl": [
           {
            "colorbar": {
             "outlinewidth": 0,
             "ticks": ""
            },
            "colorscale": [
             [
              0,
              "#0d0887"
             ],
             [
              0.1111111111111111,
              "#46039f"
             ],
             [
              0.2222222222222222,
              "#7201a8"
             ],
             [
              0.3333333333333333,
              "#9c179e"
             ],
             [
              0.4444444444444444,
              "#bd3786"
             ],
             [
              0.5555555555555556,
              "#d8576b"
             ],
             [
              0.6666666666666666,
              "#ed7953"
             ],
             [
              0.7777777777777778,
              "#fb9f3a"
             ],
             [
              0.8888888888888888,
              "#fdca26"
             ],
             [
              1,
              "#f0f921"
             ]
            ],
            "type": "heatmapgl"
           }
          ],
          "histogram": [
           {
            "marker": {
             "pattern": {
              "fillmode": "overlay",
              "size": 10,
              "solidity": 0.2
             }
            },
            "type": "histogram"
           }
          ],
          "histogram2d": [
           {
            "colorbar": {
             "outlinewidth": 0,
             "ticks": ""
            },
            "colorscale": [
             [
              0,
              "#0d0887"
             ],
             [
              0.1111111111111111,
              "#46039f"
             ],
             [
              0.2222222222222222,
              "#7201a8"
             ],
             [
              0.3333333333333333,
              "#9c179e"
             ],
             [
              0.4444444444444444,
              "#bd3786"
             ],
             [
              0.5555555555555556,
              "#d8576b"
             ],
             [
              0.6666666666666666,
              "#ed7953"
             ],
             [
              0.7777777777777778,
              "#fb9f3a"
             ],
             [
              0.8888888888888888,
              "#fdca26"
             ],
             [
              1,
              "#f0f921"
             ]
            ],
            "type": "histogram2d"
           }
          ],
          "histogram2dcontour": [
           {
            "colorbar": {
             "outlinewidth": 0,
             "ticks": ""
            },
            "colorscale": [
             [
              0,
              "#0d0887"
             ],
             [
              0.1111111111111111,
              "#46039f"
             ],
             [
              0.2222222222222222,
              "#7201a8"
             ],
             [
              0.3333333333333333,
              "#9c179e"
             ],
             [
              0.4444444444444444,
              "#bd3786"
             ],
             [
              0.5555555555555556,
              "#d8576b"
             ],
             [
              0.6666666666666666,
              "#ed7953"
             ],
             [
              0.7777777777777778,
              "#fb9f3a"
             ],
             [
              0.8888888888888888,
              "#fdca26"
             ],
             [
              1,
              "#f0f921"
             ]
            ],
            "type": "histogram2dcontour"
           }
          ],
          "mesh3d": [
           {
            "colorbar": {
             "outlinewidth": 0,
             "ticks": ""
            },
            "type": "mesh3d"
           }
          ],
          "parcoords": [
           {
            "line": {
             "colorbar": {
              "outlinewidth": 0,
              "ticks": ""
             }
            },
            "type": "parcoords"
           }
          ],
          "pie": [
           {
            "automargin": true,
            "type": "pie"
           }
          ],
          "scatter": [
           {
            "fillpattern": {
             "fillmode": "overlay",
             "size": 10,
             "solidity": 0.2
            },
            "type": "scatter"
           }
          ],
          "scatter3d": [
           {
            "line": {
             "colorbar": {
              "outlinewidth": 0,
              "ticks": ""
             }
            },
            "marker": {
             "colorbar": {
              "outlinewidth": 0,
              "ticks": ""
             }
            },
            "type": "scatter3d"
           }
          ],
          "scattercarpet": [
           {
            "marker": {
             "colorbar": {
              "outlinewidth": 0,
              "ticks": ""
             }
            },
            "type": "scattercarpet"
           }
          ],
          "scattergeo": [
           {
            "marker": {
             "colorbar": {
              "outlinewidth": 0,
              "ticks": ""
             }
            },
            "type": "scattergeo"
           }
          ],
          "scattergl": [
           {
            "marker": {
             "colorbar": {
              "outlinewidth": 0,
              "ticks": ""
             }
            },
            "type": "scattergl"
           }
          ],
          "scattermapbox": [
           {
            "marker": {
             "colorbar": {
              "outlinewidth": 0,
              "ticks": ""
             }
            },
            "type": "scattermapbox"
           }
          ],
          "scatterpolar": [
           {
            "marker": {
             "colorbar": {
              "outlinewidth": 0,
              "ticks": ""
             }
            },
            "type": "scatterpolar"
           }
          ],
          "scatterpolargl": [
           {
            "marker": {
             "colorbar": {
              "outlinewidth": 0,
              "ticks": ""
             }
            },
            "type": "scatterpolargl"
           }
          ],
          "scatterternary": [
           {
            "marker": {
             "colorbar": {
              "outlinewidth": 0,
              "ticks": ""
             }
            },
            "type": "scatterternary"
           }
          ],
          "surface": [
           {
            "colorbar": {
             "outlinewidth": 0,
             "ticks": ""
            },
            "colorscale": [
             [
              0,
              "#0d0887"
             ],
             [
              0.1111111111111111,
              "#46039f"
             ],
             [
              0.2222222222222222,
              "#7201a8"
             ],
             [
              0.3333333333333333,
              "#9c179e"
             ],
             [
              0.4444444444444444,
              "#bd3786"
             ],
             [
              0.5555555555555556,
              "#d8576b"
             ],
             [
              0.6666666666666666,
              "#ed7953"
             ],
             [
              0.7777777777777778,
              "#fb9f3a"
             ],
             [
              0.8888888888888888,
              "#fdca26"
             ],
             [
              1,
              "#f0f921"
             ]
            ],
            "type": "surface"
           }
          ],
          "table": [
           {
            "cells": {
             "fill": {
              "color": "#EBF0F8"
             },
             "line": {
              "color": "white"
             }
            },
            "header": {
             "fill": {
              "color": "#C8D4E3"
             },
             "line": {
              "color": "white"
             }
            },
            "type": "table"
           }
          ]
         },
         "layout": {
          "annotationdefaults": {
           "arrowcolor": "#2a3f5f",
           "arrowhead": 0,
           "arrowwidth": 1
          },
          "autotypenumbers": "strict",
          "coloraxis": {
           "colorbar": {
            "outlinewidth": 0,
            "ticks": ""
           }
          },
          "colorscale": {
           "diverging": [
            [
             0,
             "#8e0152"
            ],
            [
             0.1,
             "#c51b7d"
            ],
            [
             0.2,
             "#de77ae"
            ],
            [
             0.3,
             "#f1b6da"
            ],
            [
             0.4,
             "#fde0ef"
            ],
            [
             0.5,
             "#f7f7f7"
            ],
            [
             0.6,
             "#e6f5d0"
            ],
            [
             0.7,
             "#b8e186"
            ],
            [
             0.8,
             "#7fbc41"
            ],
            [
             0.9,
             "#4d9221"
            ],
            [
             1,
             "#276419"
            ]
           ],
           "sequential": [
            [
             0,
             "#0d0887"
            ],
            [
             0.1111111111111111,
             "#46039f"
            ],
            [
             0.2222222222222222,
             "#7201a8"
            ],
            [
             0.3333333333333333,
             "#9c179e"
            ],
            [
             0.4444444444444444,
             "#bd3786"
            ],
            [
             0.5555555555555556,
             "#d8576b"
            ],
            [
             0.6666666666666666,
             "#ed7953"
            ],
            [
             0.7777777777777778,
             "#fb9f3a"
            ],
            [
             0.8888888888888888,
             "#fdca26"
            ],
            [
             1,
             "#f0f921"
            ]
           ],
           "sequentialminus": [
            [
             0,
             "#0d0887"
            ],
            [
             0.1111111111111111,
             "#46039f"
            ],
            [
             0.2222222222222222,
             "#7201a8"
            ],
            [
             0.3333333333333333,
             "#9c179e"
            ],
            [
             0.4444444444444444,
             "#bd3786"
            ],
            [
             0.5555555555555556,
             "#d8576b"
            ],
            [
             0.6666666666666666,
             "#ed7953"
            ],
            [
             0.7777777777777778,
             "#fb9f3a"
            ],
            [
             0.8888888888888888,
             "#fdca26"
            ],
            [
             1,
             "#f0f921"
            ]
           ]
          },
          "colorway": [
           "#636efa",
           "#EF553B",
           "#00cc96",
           "#ab63fa",
           "#FFA15A",
           "#19d3f3",
           "#FF6692",
           "#B6E880",
           "#FF97FF",
           "#FECB52"
          ],
          "font": {
           "color": "#2a3f5f"
          },
          "geo": {
           "bgcolor": "white",
           "lakecolor": "white",
           "landcolor": "#E5ECF6",
           "showlakes": true,
           "showland": true,
           "subunitcolor": "white"
          },
          "hoverlabel": {
           "align": "left"
          },
          "hovermode": "closest",
          "mapbox": {
           "style": "light"
          },
          "paper_bgcolor": "white",
          "plot_bgcolor": "#E5ECF6",
          "polar": {
           "angularaxis": {
            "gridcolor": "white",
            "linecolor": "white",
            "ticks": ""
           },
           "bgcolor": "#E5ECF6",
           "radialaxis": {
            "gridcolor": "white",
            "linecolor": "white",
            "ticks": ""
           }
          },
          "scene": {
           "xaxis": {
            "backgroundcolor": "#E5ECF6",
            "gridcolor": "white",
            "gridwidth": 2,
            "linecolor": "white",
            "showbackground": true,
            "ticks": "",
            "zerolinecolor": "white"
           },
           "yaxis": {
            "backgroundcolor": "#E5ECF6",
            "gridcolor": "white",
            "gridwidth": 2,
            "linecolor": "white",
            "showbackground": true,
            "ticks": "",
            "zerolinecolor": "white"
           },
           "zaxis": {
            "backgroundcolor": "#E5ECF6",
            "gridcolor": "white",
            "gridwidth": 2,
            "linecolor": "white",
            "showbackground": true,
            "ticks": "",
            "zerolinecolor": "white"
           }
          },
          "shapedefaults": {
           "line": {
            "color": "#2a3f5f"
           }
          },
          "ternary": {
           "aaxis": {
            "gridcolor": "white",
            "linecolor": "white",
            "ticks": ""
           },
           "baxis": {
            "gridcolor": "white",
            "linecolor": "white",
            "ticks": ""
           },
           "bgcolor": "#E5ECF6",
           "caxis": {
            "gridcolor": "white",
            "linecolor": "white",
            "ticks": ""
           }
          },
          "title": {
           "x": 0.05
          },
          "xaxis": {
           "automargin": true,
           "gridcolor": "white",
           "linecolor": "white",
           "ticks": "",
           "title": {
            "standoff": 15
           },
           "zerolinecolor": "white",
           "zerolinewidth": 2
          },
          "yaxis": {
           "automargin": true,
           "gridcolor": "white",
           "linecolor": "white",
           "ticks": "",
           "title": {
            "standoff": 15
           },
           "zerolinecolor": "white",
           "zerolinewidth": 2
          }
         }
        },
        "title": {
         "text": "Среднее количество заказов и клиентов по дням недели"
        },
        "xaxis": {
         "anchor": "y",
         "autorange": true,
         "domain": [
          0,
          1
         ],
         "range": [
          0,
          6
         ],
         "title": {
          "text": "entry_date"
         },
         "type": "category"
        },
        "yaxis": {
         "anchor": "x",
         "autorange": true,
         "domain": [
          0,
          1
         ],
         "range": [
          13.440898345153665,
          64.62293144208037
         ],
         "title": {
          "text": "value"
         },
         "type": "linear"
        }
       }
      },
      "text/html": [
       "<div>                            <div id=\"c486422c-5f1f-4559-9476-2d1df64127e4\" class=\"plotly-graph-div\" style=\"height:525px; width:100%;\"></div>            <script type=\"text/javascript\">                require([\"plotly\"], function(Plotly) {                    window.PLOTLYENV=window.PLOTLYENV || {};                                    if (document.getElementById(\"c486422c-5f1f-4559-9476-2d1df64127e4\")) {                    Plotly.newPlot(                        \"c486422c-5f1f-4559-9476-2d1df64127e4\",                        [{\"hovertemplate\":\"variable=order_id\\u003cbr\\u003eentry_date=%{x}\\u003cbr\\u003evalue=%{y}\\u003cextra\\u003e\\u003c\\u002fextra\\u003e\",\"legendgroup\":\"order_id\",\"line\":{\"color\":\"#636efa\",\"dash\":\"solid\"},\"marker\":{\"symbol\":\"circle\"},\"mode\":\"lines\",\"name\":\"order_id\",\"orientation\":\"v\",\"showlegend\":true,\"x\":[\"\\u041f\\u043e\\u043d\\u0435\\u0434\\u0435\\u043b\\u044c\\u043d\\u0438\\u043a\",\"\\u0412\\u0442\\u043e\\u0440\\u043d\\u0438\\u043a\",\"\\u0421\\u0440\\u0435\\u0434\\u0430\",\"\\u0427\\u0435\\u0442\\u0432\\u0435\\u0440\\u0433\",\"\\u041f\\u044f\\u0442\\u043d\\u0438\\u0446\\u0430\",\"\\u0421\\u0443\\u0431\\u0431\\u043e\\u0442\\u0430\",\"\\u0412\\u043e\\u0441\\u043a\\u0440\\u0435\\u0441\\u0435\\u043d\\u044c\\u0435\"],\"xaxis\":\"x\",\"y\":[48.787234042553195,17.680851063829788,43.791666666666664,46.8125,54.458333333333336,49.5,62.06382978723404],\"yaxis\":\"y\",\"type\":\"scatter\"},{\"hovertemplate\":\"variable=customer_id\\u003cbr\\u003eentry_date=%{x}\\u003cbr\\u003evalue=%{y}\\u003cextra\\u003e\\u003c\\u002fextra\\u003e\",\"legendgroup\":\"customer_id\",\"line\":{\"color\":\"#EF553B\",\"dash\":\"solid\"},\"marker\":{\"symbol\":\"circle\"},\"mode\":\"lines\",\"name\":\"customer_id\",\"orientation\":\"v\",\"showlegend\":true,\"x\":[\"\\u041f\\u043e\\u043d\\u0435\\u0434\\u0435\\u043b\\u044c\\u043d\\u0438\\u043a\",\"\\u0412\\u0442\\u043e\\u0440\\u043d\\u0438\\u043a\",\"\\u0421\\u0440\\u0435\\u0434\\u0430\",\"\\u0427\\u0435\\u0442\\u0432\\u0435\\u0440\\u0433\",\"\\u041f\\u044f\\u0442\\u043d\\u0438\\u0446\\u0430\",\"\\u0421\\u0443\\u0431\\u0431\\u043e\\u0442\\u0430\",\"\\u0412\\u043e\\u0441\\u043a\\u0440\\u0435\\u0441\\u0435\\u043d\\u044c\\u0435\"],\"xaxis\":\"x\",\"y\":[45.297872340425535,16.0,40.645833333333336,43.375,50.666666666666664,45.729166666666664,57.659574468085104],\"yaxis\":\"y\",\"type\":\"scatter\"}],                        {\"template\":{\"data\":{\"histogram2dcontour\":[{\"type\":\"histogram2dcontour\",\"colorbar\":{\"outlinewidth\":0,\"ticks\":\"\"},\"colorscale\":[[0.0,\"#0d0887\"],[0.1111111111111111,\"#46039f\"],[0.2222222222222222,\"#7201a8\"],[0.3333333333333333,\"#9c179e\"],[0.4444444444444444,\"#bd3786\"],[0.5555555555555556,\"#d8576b\"],[0.6666666666666666,\"#ed7953\"],[0.7777777777777778,\"#fb9f3a\"],[0.8888888888888888,\"#fdca26\"],[1.0,\"#f0f921\"]]}],\"choropleth\":[{\"type\":\"choropleth\",\"colorbar\":{\"outlinewidth\":0,\"ticks\":\"\"}}],\"histogram2d\":[{\"type\":\"histogram2d\",\"colorbar\":{\"outlinewidth\":0,\"ticks\":\"\"},\"colorscale\":[[0.0,\"#0d0887\"],[0.1111111111111111,\"#46039f\"],[0.2222222222222222,\"#7201a8\"],[0.3333333333333333,\"#9c179e\"],[0.4444444444444444,\"#bd3786\"],[0.5555555555555556,\"#d8576b\"],[0.6666666666666666,\"#ed7953\"],[0.7777777777777778,\"#fb9f3a\"],[0.8888888888888888,\"#fdca26\"],[1.0,\"#f0f921\"]]}],\"heatmap\":[{\"type\":\"heatmap\",\"colorbar\":{\"outlinewidth\":0,\"ticks\":\"\"},\"colorscale\":[[0.0,\"#0d0887\"],[0.1111111111111111,\"#46039f\"],[0.2222222222222222,\"#7201a8\"],[0.3333333333333333,\"#9c179e\"],[0.4444444444444444,\"#bd3786\"],[0.5555555555555556,\"#d8576b\"],[0.6666666666666666,\"#ed7953\"],[0.7777777777777778,\"#fb9f3a\"],[0.8888888888888888,\"#fdca26\"],[1.0,\"#f0f921\"]]}],\"heatmapgl\":[{\"type\":\"heatmapgl\",\"colorbar\":{\"outlinewidth\":0,\"ticks\":\"\"},\"colorscale\":[[0.0,\"#0d0887\"],[0.1111111111111111,\"#46039f\"],[0.2222222222222222,\"#7201a8\"],[0.3333333333333333,\"#9c179e\"],[0.4444444444444444,\"#bd3786\"],[0.5555555555555556,\"#d8576b\"],[0.6666666666666666,\"#ed7953\"],[0.7777777777777778,\"#fb9f3a\"],[0.8888888888888888,\"#fdca26\"],[1.0,\"#f0f921\"]]}],\"contourcarpet\":[{\"type\":\"contourcarpet\",\"colorbar\":{\"outlinewidth\":0,\"ticks\":\"\"}}],\"contour\":[{\"type\":\"contour\",\"colorbar\":{\"outlinewidth\":0,\"ticks\":\"\"},\"colorscale\":[[0.0,\"#0d0887\"],[0.1111111111111111,\"#46039f\"],[0.2222222222222222,\"#7201a8\"],[0.3333333333333333,\"#9c179e\"],[0.4444444444444444,\"#bd3786\"],[0.5555555555555556,\"#d8576b\"],[0.6666666666666666,\"#ed7953\"],[0.7777777777777778,\"#fb9f3a\"],[0.8888888888888888,\"#fdca26\"],[1.0,\"#f0f921\"]]}],\"surface\":[{\"type\":\"surface\",\"colorbar\":{\"outlinewidth\":0,\"ticks\":\"\"},\"colorscale\":[[0.0,\"#0d0887\"],[0.1111111111111111,\"#46039f\"],[0.2222222222222222,\"#7201a8\"],[0.3333333333333333,\"#9c179e\"],[0.4444444444444444,\"#bd3786\"],[0.5555555555555556,\"#d8576b\"],[0.6666666666666666,\"#ed7953\"],[0.7777777777777778,\"#fb9f3a\"],[0.8888888888888888,\"#fdca26\"],[1.0,\"#f0f921\"]]}],\"mesh3d\":[{\"type\":\"mesh3d\",\"colorbar\":{\"outlinewidth\":0,\"ticks\":\"\"}}],\"scatter\":[{\"fillpattern\":{\"fillmode\":\"overlay\",\"size\":10,\"solidity\":0.2},\"type\":\"scatter\"}],\"parcoords\":[{\"type\":\"parcoords\",\"line\":{\"colorbar\":{\"outlinewidth\":0,\"ticks\":\"\"}}}],\"scatterpolargl\":[{\"type\":\"scatterpolargl\",\"marker\":{\"colorbar\":{\"outlinewidth\":0,\"ticks\":\"\"}}}],\"bar\":[{\"error_x\":{\"color\":\"#2a3f5f\"},\"error_y\":{\"color\":\"#2a3f5f\"},\"marker\":{\"line\":{\"color\":\"#E5ECF6\",\"width\":0.5},\"pattern\":{\"fillmode\":\"overlay\",\"size\":10,\"solidity\":0.2}},\"type\":\"bar\"}],\"scattergeo\":[{\"type\":\"scattergeo\",\"marker\":{\"colorbar\":{\"outlinewidth\":0,\"ticks\":\"\"}}}],\"scatterpolar\":[{\"type\":\"scatterpolar\",\"marker\":{\"colorbar\":{\"outlinewidth\":0,\"ticks\":\"\"}}}],\"histogram\":[{\"marker\":{\"pattern\":{\"fillmode\":\"overlay\",\"size\":10,\"solidity\":0.2}},\"type\":\"histogram\"}],\"scattergl\":[{\"type\":\"scattergl\",\"marker\":{\"colorbar\":{\"outlinewidth\":0,\"ticks\":\"\"}}}],\"scatter3d\":[{\"type\":\"scatter3d\",\"line\":{\"colorbar\":{\"outlinewidth\":0,\"ticks\":\"\"}},\"marker\":{\"colorbar\":{\"outlinewidth\":0,\"ticks\":\"\"}}}],\"scattermapbox\":[{\"type\":\"scattermapbox\",\"marker\":{\"colorbar\":{\"outlinewidth\":0,\"ticks\":\"\"}}}],\"scatterternary\":[{\"type\":\"scatterternary\",\"marker\":{\"colorbar\":{\"outlinewidth\":0,\"ticks\":\"\"}}}],\"scattercarpet\":[{\"type\":\"scattercarpet\",\"marker\":{\"colorbar\":{\"outlinewidth\":0,\"ticks\":\"\"}}}],\"carpet\":[{\"aaxis\":{\"endlinecolor\":\"#2a3f5f\",\"gridcolor\":\"white\",\"linecolor\":\"white\",\"minorgridcolor\":\"white\",\"startlinecolor\":\"#2a3f5f\"},\"baxis\":{\"endlinecolor\":\"#2a3f5f\",\"gridcolor\":\"white\",\"linecolor\":\"white\",\"minorgridcolor\":\"white\",\"startlinecolor\":\"#2a3f5f\"},\"type\":\"carpet\"}],\"table\":[{\"cells\":{\"fill\":{\"color\":\"#EBF0F8\"},\"line\":{\"color\":\"white\"}},\"header\":{\"fill\":{\"color\":\"#C8D4E3\"},\"line\":{\"color\":\"white\"}},\"type\":\"table\"}],\"barpolar\":[{\"marker\":{\"line\":{\"color\":\"#E5ECF6\",\"width\":0.5},\"pattern\":{\"fillmode\":\"overlay\",\"size\":10,\"solidity\":0.2}},\"type\":\"barpolar\"}],\"pie\":[{\"automargin\":true,\"type\":\"pie\"}]},\"layout\":{\"autotypenumbers\":\"strict\",\"colorway\":[\"#636efa\",\"#EF553B\",\"#00cc96\",\"#ab63fa\",\"#FFA15A\",\"#19d3f3\",\"#FF6692\",\"#B6E880\",\"#FF97FF\",\"#FECB52\"],\"font\":{\"color\":\"#2a3f5f\"},\"hovermode\":\"closest\",\"hoverlabel\":{\"align\":\"left\"},\"paper_bgcolor\":\"white\",\"plot_bgcolor\":\"#E5ECF6\",\"polar\":{\"bgcolor\":\"#E5ECF6\",\"angularaxis\":{\"gridcolor\":\"white\",\"linecolor\":\"white\",\"ticks\":\"\"},\"radialaxis\":{\"gridcolor\":\"white\",\"linecolor\":\"white\",\"ticks\":\"\"}},\"ternary\":{\"bgcolor\":\"#E5ECF6\",\"aaxis\":{\"gridcolor\":\"white\",\"linecolor\":\"white\",\"ticks\":\"\"},\"baxis\":{\"gridcolor\":\"white\",\"linecolor\":\"white\",\"ticks\":\"\"},\"caxis\":{\"gridcolor\":\"white\",\"linecolor\":\"white\",\"ticks\":\"\"}},\"coloraxis\":{\"colorbar\":{\"outlinewidth\":0,\"ticks\":\"\"}},\"colorscale\":{\"sequential\":[[0.0,\"#0d0887\"],[0.1111111111111111,\"#46039f\"],[0.2222222222222222,\"#7201a8\"],[0.3333333333333333,\"#9c179e\"],[0.4444444444444444,\"#bd3786\"],[0.5555555555555556,\"#d8576b\"],[0.6666666666666666,\"#ed7953\"],[0.7777777777777778,\"#fb9f3a\"],[0.8888888888888888,\"#fdca26\"],[1.0,\"#f0f921\"]],\"sequentialminus\":[[0.0,\"#0d0887\"],[0.1111111111111111,\"#46039f\"],[0.2222222222222222,\"#7201a8\"],[0.3333333333333333,\"#9c179e\"],[0.4444444444444444,\"#bd3786\"],[0.5555555555555556,\"#d8576b\"],[0.6666666666666666,\"#ed7953\"],[0.7777777777777778,\"#fb9f3a\"],[0.8888888888888888,\"#fdca26\"],[1.0,\"#f0f921\"]],\"diverging\":[[0,\"#8e0152\"],[0.1,\"#c51b7d\"],[0.2,\"#de77ae\"],[0.3,\"#f1b6da\"],[0.4,\"#fde0ef\"],[0.5,\"#f7f7f7\"],[0.6,\"#e6f5d0\"],[0.7,\"#b8e186\"],[0.8,\"#7fbc41\"],[0.9,\"#4d9221\"],[1,\"#276419\"]]},\"xaxis\":{\"gridcolor\":\"white\",\"linecolor\":\"white\",\"ticks\":\"\",\"title\":{\"standoff\":15},\"zerolinecolor\":\"white\",\"automargin\":true,\"zerolinewidth\":2},\"yaxis\":{\"gridcolor\":\"white\",\"linecolor\":\"white\",\"ticks\":\"\",\"title\":{\"standoff\":15},\"zerolinecolor\":\"white\",\"automargin\":true,\"zerolinewidth\":2},\"scene\":{\"xaxis\":{\"backgroundcolor\":\"#E5ECF6\",\"gridcolor\":\"white\",\"linecolor\":\"white\",\"showbackground\":true,\"ticks\":\"\",\"zerolinecolor\":\"white\",\"gridwidth\":2},\"yaxis\":{\"backgroundcolor\":\"#E5ECF6\",\"gridcolor\":\"white\",\"linecolor\":\"white\",\"showbackground\":true,\"ticks\":\"\",\"zerolinecolor\":\"white\",\"gridwidth\":2},\"zaxis\":{\"backgroundcolor\":\"#E5ECF6\",\"gridcolor\":\"white\",\"linecolor\":\"white\",\"showbackground\":true,\"ticks\":\"\",\"zerolinecolor\":\"white\",\"gridwidth\":2}},\"shapedefaults\":{\"line\":{\"color\":\"#2a3f5f\"}},\"annotationdefaults\":{\"arrowcolor\":\"#2a3f5f\",\"arrowhead\":0,\"arrowwidth\":1},\"geo\":{\"bgcolor\":\"white\",\"landcolor\":\"#E5ECF6\",\"subunitcolor\":\"white\",\"showland\":true,\"showlakes\":true,\"lakecolor\":\"white\"},\"title\":{\"x\":0.05},\"mapbox\":{\"style\":\"light\"}}},\"xaxis\":{\"anchor\":\"y\",\"domain\":[0.0,1.0],\"title\":{\"text\":\"entry_date\"}},\"yaxis\":{\"anchor\":\"x\",\"domain\":[0.0,1.0],\"title\":{\"text\":\"value\"}},\"legend\":{\"title\":{\"text\":\"variable\"},\"tracegroupgap\":0},\"title\":{\"text\":\"\\u0421\\u0440\\u0435\\u0434\\u043d\\u0435\\u0435 \\u043a\\u043e\\u043b\\u0438\\u0447\\u0435\\u0441\\u0442\\u0432\\u043e \\u0437\\u0430\\u043a\\u0430\\u0437\\u043e\\u0432 \\u0438 \\u043a\\u043b\\u0438\\u0435\\u043d\\u0442\\u043e\\u0432 \\u043f\\u043e \\u0434\\u043d\\u044f\\u043c \\u043d\\u0435\\u0434\\u0435\\u043b\\u0438\"}},                        {\"responsive\": true}                    ).then(function(){\n",
       "                            \n",
       "var gd = document.getElementById('c486422c-5f1f-4559-9476-2d1df64127e4');\n",
       "var x = new MutationObserver(function (mutations, observer) {{\n",
       "        var display = window.getComputedStyle(gd).display;\n",
       "        if (!display || display === 'none') {{\n",
       "            console.log([gd, 'removed!']);\n",
       "            Plotly.purge(gd);\n",
       "            observer.disconnect();\n",
       "        }}\n",
       "}});\n",
       "\n",
       "// Listen for the removal of the full notebook cells\n",
       "var notebookContainer = gd.closest('#notebook-container');\n",
       "if (notebookContainer) {{\n",
       "    x.observe(notebookContainer, {childList: true});\n",
       "}}\n",
       "\n",
       "// Listen for the clearing of the current output cell\n",
       "var outputEl = gd.closest('.output');\n",
       "if (outputEl) {{\n",
       "    x.observe(outputEl, {childList: true});\n",
       "}}\n",
       "\n",
       "                        })                };                });            </script>        </div>"
      ]
     },
     "metadata": {},
     "output_type": "display_data"
    }
   ],
   "source": [
    "# График по часам\n",
    "fig = px.line(df_hour_order, x='entry_date',\n",
    "              y=['order_id', 'customer_id'],\n",
    "              title='Среднее количество заказов и клиентов в час')\n",
    "fig.show() \n",
    "# График по дням недели\n",
    "fig = px.line(df_day_week_order, x='entry_date',\n",
    "              y=['order_id', 'customer_id'],\n",
    "              title='Среднее количество заказов и клиентов по дням недели')\n",
    "fig.show() "
   ]
  },
  {
   "cell_type": "markdown",
   "id": "cc88df3f-ae69-49db-87a9-824f6ac16fbe",
   "metadata": {},
   "source": [
    "В течение дня в среднем количество клиентов больше всего в 12 часов дня, самые активные часы покупок это период с 10 утра до 15 часов дня.  \n",
    "В течении недели покупательская активность растет со среды по понедельник, во вторник меньше всего клиентов и заказов. Так же виден разрыв между количеством заказов и коилчеством уникальных клиентов, что свидетельствует о наличии постоянных клиентов."
   ]
  },
  {
   "cell_type": "markdown",
   "id": "6f76328c-8724-4995-9843-42949c48d401",
   "metadata": {},
   "source": [
    "#### 3.2 Расчет средней выручки с клиента в день и количество уникальных клиентов.\n",
    "Рассчитаем среднюю выручку по месяцам с одного клиента в день и количество уникальных покупателей."
   ]
  },
  {
   "cell_type": "code",
   "execution_count": 650,
   "id": "31420f0f-beed-4442-bc17-bffc02d140a8",
   "metadata": {},
   "outputs": [
    {
     "data": {
      "text/html": [
       "<div>\n",
       "<style scoped>\n",
       "    .dataframe tbody tr th:only-of-type {\n",
       "        vertical-align: middle;\n",
       "    }\n",
       "\n",
       "    .dataframe tbody tr th {\n",
       "        vertical-align: top;\n",
       "    }\n",
       "\n",
       "    .dataframe thead th {\n",
       "        text-align: right;\n",
       "    }\n",
       "</style>\n",
       "<table border=\"1\" class=\"dataframe\">\n",
       "  <thead>\n",
       "    <tr style=\"text-align: right;\">\n",
       "      <th></th>\n",
       "      <th>entry_date</th>\n",
       "      <th>uniq_customer</th>\n",
       "      <th>total_revenue</th>\n",
       "      <th>days_in_month</th>\n",
       "      <th>avg_revenue</th>\n",
       "    </tr>\n",
       "  </thead>\n",
       "  <tbody>\n",
       "    <tr>\n",
       "      <th>0</th>\n",
       "      <td>Январь</td>\n",
       "      <td>835</td>\n",
       "      <td>29086538</td>\n",
       "      <td>26</td>\n",
       "      <td>1339.776048</td>\n",
       "    </tr>\n",
       "    <tr>\n",
       "      <th>1</th>\n",
       "      <td>Февраль</td>\n",
       "      <td>771</td>\n",
       "      <td>26523171</td>\n",
       "      <td>22</td>\n",
       "      <td>1563.681818</td>\n",
       "    </tr>\n",
       "    <tr>\n",
       "      <th>2</th>\n",
       "      <td>Март</td>\n",
       "      <td>908</td>\n",
       "      <td>30812009</td>\n",
       "      <td>26</td>\n",
       "      <td>1305.151178</td>\n",
       "    </tr>\n",
       "    <tr>\n",
       "      <th>3</th>\n",
       "      <td>Апрель</td>\n",
       "      <td>856</td>\n",
       "      <td>30620799</td>\n",
       "      <td>22</td>\n",
       "      <td>1625.998248</td>\n",
       "    </tr>\n",
       "    <tr>\n",
       "      <th>4</th>\n",
       "      <td>Май</td>\n",
       "      <td>968</td>\n",
       "      <td>35580412</td>\n",
       "      <td>24</td>\n",
       "      <td>1531.525999</td>\n",
       "    </tr>\n",
       "    <tr>\n",
       "      <th>5</th>\n",
       "      <td>Июнь</td>\n",
       "      <td>995</td>\n",
       "      <td>35291131</td>\n",
       "      <td>27</td>\n",
       "      <td>1313.647162</td>\n",
       "    </tr>\n",
       "    <tr>\n",
       "      <th>6</th>\n",
       "      <td>Июль</td>\n",
       "      <td>1025</td>\n",
       "      <td>36253892</td>\n",
       "      <td>27</td>\n",
       "      <td>1309.987064</td>\n",
       "    </tr>\n",
       "    <tr>\n",
       "      <th>7</th>\n",
       "      <td>Август</td>\n",
       "      <td>922</td>\n",
       "      <td>33350678</td>\n",
       "      <td>25</td>\n",
       "      <td>1446.884078</td>\n",
       "    </tr>\n",
       "    <tr>\n",
       "      <th>8</th>\n",
       "      <td>Сентябрь</td>\n",
       "      <td>1147</td>\n",
       "      <td>44870677</td>\n",
       "      <td>26</td>\n",
       "      <td>1504.616625</td>\n",
       "    </tr>\n",
       "    <tr>\n",
       "      <th>9</th>\n",
       "      <td>Октябрь</td>\n",
       "      <td>1202</td>\n",
       "      <td>45450037</td>\n",
       "      <td>26</td>\n",
       "      <td>1454.308108</td>\n",
       "    </tr>\n",
       "    <tr>\n",
       "      <th>10</th>\n",
       "      <td>Ноябрь</td>\n",
       "      <td>1420</td>\n",
       "      <td>53682917</td>\n",
       "      <td>26</td>\n",
       "      <td>1454.033505</td>\n",
       "    </tr>\n",
       "  </tbody>\n",
       "</table>\n",
       "</div>"
      ],
      "text/plain": [
       "   entry_date  uniq_customer  total_revenue  days_in_month  avg_revenue\n",
       "0      Январь            835       29086538             26  1339.776048\n",
       "1     Февраль            771       26523171             22  1563.681818\n",
       "2        Март            908       30812009             26  1305.151178\n",
       "3      Апрель            856       30620799             22  1625.998248\n",
       "4         Май            968       35580412             24  1531.525999\n",
       "5        Июнь            995       35291131             27  1313.647162\n",
       "6        Июль           1025       36253892             27  1309.987064\n",
       "7      Август            922       33350678             25  1446.884078\n",
       "8    Сентябрь           1147       44870677             26  1504.616625\n",
       "9     Октябрь           1202       45450037             26  1454.308108\n",
       "10     Ноябрь           1420       53682917             26  1454.033505"
      ]
     },
     "metadata": {},
     "output_type": "display_data"
    }
   ],
   "source": [
    "month_names = {\n",
    "    1: 'Январь', 2: 'Февраль', 3: 'Март', 4: 'Апрель', 5: 'Май',\n",
    "    6: 'Июнь', 7: 'Июль', 8: 'Август', 9: 'Сентябрь', \n",
    "    10: 'Октябрь', 11: 'Ноябрь', 12: 'Декабрь'\n",
    "}\n",
    "df_monthly = (df_actual_2.groupby(df_actual_2['entry_date'].dt.month)\n",
    "              .agg(uniq_customer=('customer_id', 'nunique'),\n",
    "                   total_revenue=('total_price', 'sum'),\n",
    "                   days_in_month=('entry_date', lambda x: x.dt.date.nunique()))\n",
    "             .reset_index())\n",
    "df_monthly['avg_revenue'] = df_monthly['total_revenue'] / df_monthly['days_in_month'] / df_monthly['uniq_customer']\n",
    "df_monthly['entry_date'] = df_monthly['entry_date'].map(month_names)\n",
    "display(df_monthly)"
   ]
  },
  {
   "cell_type": "code",
   "execution_count": 651,
   "id": "3a076ba7-49a2-4c6c-a65b-21ffab49e99f",
   "metadata": {},
   "outputs": [
    {
     "data": {
      "application/vnd.plotly.v1+json": {
       "config": {
        "plotlyServerURL": "https://plot.ly"
       },
       "data": [
        {
         "hovertemplate": "Месяц=%{x}<br>Средняя выручка (руб)=%{y}<extra></extra>",
         "legendgroup": "",
         "line": {
          "color": "#636efa",
          "dash": "solid"
         },
         "marker": {
          "symbol": "circle"
         },
         "mode": "lines",
         "name": "",
         "orientation": "v",
         "showlegend": false,
         "type": "scatter",
         "x": [
          "Январь",
          "Февраль",
          "Март",
          "Апрель",
          "Май",
          "Июнь",
          "Июль",
          "Август",
          "Сентябрь",
          "Октябрь",
          "Ноябрь"
         ],
         "xaxis": "x",
         "y": [
          1339.7760479041917,
          1563.6818181818182,
          1305.1511775669264,
          1625.9982476635514,
          1531.5259986225897,
          1313.6471617345987,
          1309.987064137308,
          1446.8840780911064,
          1504.6166253101737,
          1454.3081082810702,
          1454.0335048754064
         ],
         "yaxis": "y"
        }
       ],
       "layout": {
        "autosize": true,
        "legend": {
         "tracegroupgap": 0
        },
        "template": {
         "data": {
          "bar": [
           {
            "error_x": {
             "color": "#2a3f5f"
            },
            "error_y": {
             "color": "#2a3f5f"
            },
            "marker": {
             "line": {
              "color": "#E5ECF6",
              "width": 0.5
             },
             "pattern": {
              "fillmode": "overlay",
              "size": 10,
              "solidity": 0.2
             }
            },
            "type": "bar"
           }
          ],
          "barpolar": [
           {
            "marker": {
             "line": {
              "color": "#E5ECF6",
              "width": 0.5
             },
             "pattern": {
              "fillmode": "overlay",
              "size": 10,
              "solidity": 0.2
             }
            },
            "type": "barpolar"
           }
          ],
          "carpet": [
           {
            "aaxis": {
             "endlinecolor": "#2a3f5f",
             "gridcolor": "white",
             "linecolor": "white",
             "minorgridcolor": "white",
             "startlinecolor": "#2a3f5f"
            },
            "baxis": {
             "endlinecolor": "#2a3f5f",
             "gridcolor": "white",
             "linecolor": "white",
             "minorgridcolor": "white",
             "startlinecolor": "#2a3f5f"
            },
            "type": "carpet"
           }
          ],
          "choropleth": [
           {
            "colorbar": {
             "outlinewidth": 0,
             "ticks": ""
            },
            "type": "choropleth"
           }
          ],
          "contour": [
           {
            "colorbar": {
             "outlinewidth": 0,
             "ticks": ""
            },
            "colorscale": [
             [
              0,
              "#0d0887"
             ],
             [
              0.1111111111111111,
              "#46039f"
             ],
             [
              0.2222222222222222,
              "#7201a8"
             ],
             [
              0.3333333333333333,
              "#9c179e"
             ],
             [
              0.4444444444444444,
              "#bd3786"
             ],
             [
              0.5555555555555556,
              "#d8576b"
             ],
             [
              0.6666666666666666,
              "#ed7953"
             ],
             [
              0.7777777777777778,
              "#fb9f3a"
             ],
             [
              0.8888888888888888,
              "#fdca26"
             ],
             [
              1,
              "#f0f921"
             ]
            ],
            "type": "contour"
           }
          ],
          "contourcarpet": [
           {
            "colorbar": {
             "outlinewidth": 0,
             "ticks": ""
            },
            "type": "contourcarpet"
           }
          ],
          "heatmap": [
           {
            "colorbar": {
             "outlinewidth": 0,
             "ticks": ""
            },
            "colorscale": [
             [
              0,
              "#0d0887"
             ],
             [
              0.1111111111111111,
              "#46039f"
             ],
             [
              0.2222222222222222,
              "#7201a8"
             ],
             [
              0.3333333333333333,
              "#9c179e"
             ],
             [
              0.4444444444444444,
              "#bd3786"
             ],
             [
              0.5555555555555556,
              "#d8576b"
             ],
             [
              0.6666666666666666,
              "#ed7953"
             ],
             [
              0.7777777777777778,
              "#fb9f3a"
             ],
             [
              0.8888888888888888,
              "#fdca26"
             ],
             [
              1,
              "#f0f921"
             ]
            ],
            "type": "heatmap"
           }
          ],
          "heatmapgl": [
           {
            "colorbar": {
             "outlinewidth": 0,
             "ticks": ""
            },
            "colorscale": [
             [
              0,
              "#0d0887"
             ],
             [
              0.1111111111111111,
              "#46039f"
             ],
             [
              0.2222222222222222,
              "#7201a8"
             ],
             [
              0.3333333333333333,
              "#9c179e"
             ],
             [
              0.4444444444444444,
              "#bd3786"
             ],
             [
              0.5555555555555556,
              "#d8576b"
             ],
             [
              0.6666666666666666,
              "#ed7953"
             ],
             [
              0.7777777777777778,
              "#fb9f3a"
             ],
             [
              0.8888888888888888,
              "#fdca26"
             ],
             [
              1,
              "#f0f921"
             ]
            ],
            "type": "heatmapgl"
           }
          ],
          "histogram": [
           {
            "marker": {
             "pattern": {
              "fillmode": "overlay",
              "size": 10,
              "solidity": 0.2
             }
            },
            "type": "histogram"
           }
          ],
          "histogram2d": [
           {
            "colorbar": {
             "outlinewidth": 0,
             "ticks": ""
            },
            "colorscale": [
             [
              0,
              "#0d0887"
             ],
             [
              0.1111111111111111,
              "#46039f"
             ],
             [
              0.2222222222222222,
              "#7201a8"
             ],
             [
              0.3333333333333333,
              "#9c179e"
             ],
             [
              0.4444444444444444,
              "#bd3786"
             ],
             [
              0.5555555555555556,
              "#d8576b"
             ],
             [
              0.6666666666666666,
              "#ed7953"
             ],
             [
              0.7777777777777778,
              "#fb9f3a"
             ],
             [
              0.8888888888888888,
              "#fdca26"
             ],
             [
              1,
              "#f0f921"
             ]
            ],
            "type": "histogram2d"
           }
          ],
          "histogram2dcontour": [
           {
            "colorbar": {
             "outlinewidth": 0,
             "ticks": ""
            },
            "colorscale": [
             [
              0,
              "#0d0887"
             ],
             [
              0.1111111111111111,
              "#46039f"
             ],
             [
              0.2222222222222222,
              "#7201a8"
             ],
             [
              0.3333333333333333,
              "#9c179e"
             ],
             [
              0.4444444444444444,
              "#bd3786"
             ],
             [
              0.5555555555555556,
              "#d8576b"
             ],
             [
              0.6666666666666666,
              "#ed7953"
             ],
             [
              0.7777777777777778,
              "#fb9f3a"
             ],
             [
              0.8888888888888888,
              "#fdca26"
             ],
             [
              1,
              "#f0f921"
             ]
            ],
            "type": "histogram2dcontour"
           }
          ],
          "mesh3d": [
           {
            "colorbar": {
             "outlinewidth": 0,
             "ticks": ""
            },
            "type": "mesh3d"
           }
          ],
          "parcoords": [
           {
            "line": {
             "colorbar": {
              "outlinewidth": 0,
              "ticks": ""
             }
            },
            "type": "parcoords"
           }
          ],
          "pie": [
           {
            "automargin": true,
            "type": "pie"
           }
          ],
          "scatter": [
           {
            "fillpattern": {
             "fillmode": "overlay",
             "size": 10,
             "solidity": 0.2
            },
            "type": "scatter"
           }
          ],
          "scatter3d": [
           {
            "line": {
             "colorbar": {
              "outlinewidth": 0,
              "ticks": ""
             }
            },
            "marker": {
             "colorbar": {
              "outlinewidth": 0,
              "ticks": ""
             }
            },
            "type": "scatter3d"
           }
          ],
          "scattercarpet": [
           {
            "marker": {
             "colorbar": {
              "outlinewidth": 0,
              "ticks": ""
             }
            },
            "type": "scattercarpet"
           }
          ],
          "scattergeo": [
           {
            "marker": {
             "colorbar": {
              "outlinewidth": 0,
              "ticks": ""
             }
            },
            "type": "scattergeo"
           }
          ],
          "scattergl": [
           {
            "marker": {
             "colorbar": {
              "outlinewidth": 0,
              "ticks": ""
             }
            },
            "type": "scattergl"
           }
          ],
          "scattermapbox": [
           {
            "marker": {
             "colorbar": {
              "outlinewidth": 0,
              "ticks": ""
             }
            },
            "type": "scattermapbox"
           }
          ],
          "scatterpolar": [
           {
            "marker": {
             "colorbar": {
              "outlinewidth": 0,
              "ticks": ""
             }
            },
            "type": "scatterpolar"
           }
          ],
          "scatterpolargl": [
           {
            "marker": {
             "colorbar": {
              "outlinewidth": 0,
              "ticks": ""
             }
            },
            "type": "scatterpolargl"
           }
          ],
          "scatterternary": [
           {
            "marker": {
             "colorbar": {
              "outlinewidth": 0,
              "ticks": ""
             }
            },
            "type": "scatterternary"
           }
          ],
          "surface": [
           {
            "colorbar": {
             "outlinewidth": 0,
             "ticks": ""
            },
            "colorscale": [
             [
              0,
              "#0d0887"
             ],
             [
              0.1111111111111111,
              "#46039f"
             ],
             [
              0.2222222222222222,
              "#7201a8"
             ],
             [
              0.3333333333333333,
              "#9c179e"
             ],
             [
              0.4444444444444444,
              "#bd3786"
             ],
             [
              0.5555555555555556,
              "#d8576b"
             ],
             [
              0.6666666666666666,
              "#ed7953"
             ],
             [
              0.7777777777777778,
              "#fb9f3a"
             ],
             [
              0.8888888888888888,
              "#fdca26"
             ],
             [
              1,
              "#f0f921"
             ]
            ],
            "type": "surface"
           }
          ],
          "table": [
           {
            "cells": {
             "fill": {
              "color": "#EBF0F8"
             },
             "line": {
              "color": "white"
             }
            },
            "header": {
             "fill": {
              "color": "#C8D4E3"
             },
             "line": {
              "color": "white"
             }
            },
            "type": "table"
           }
          ]
         },
         "layout": {
          "annotationdefaults": {
           "arrowcolor": "#2a3f5f",
           "arrowhead": 0,
           "arrowwidth": 1
          },
          "autotypenumbers": "strict",
          "coloraxis": {
           "colorbar": {
            "outlinewidth": 0,
            "ticks": ""
           }
          },
          "colorscale": {
           "diverging": [
            [
             0,
             "#8e0152"
            ],
            [
             0.1,
             "#c51b7d"
            ],
            [
             0.2,
             "#de77ae"
            ],
            [
             0.3,
             "#f1b6da"
            ],
            [
             0.4,
             "#fde0ef"
            ],
            [
             0.5,
             "#f7f7f7"
            ],
            [
             0.6,
             "#e6f5d0"
            ],
            [
             0.7,
             "#b8e186"
            ],
            [
             0.8,
             "#7fbc41"
            ],
            [
             0.9,
             "#4d9221"
            ],
            [
             1,
             "#276419"
            ]
           ],
           "sequential": [
            [
             0,
             "#0d0887"
            ],
            [
             0.1111111111111111,
             "#46039f"
            ],
            [
             0.2222222222222222,
             "#7201a8"
            ],
            [
             0.3333333333333333,
             "#9c179e"
            ],
            [
             0.4444444444444444,
             "#bd3786"
            ],
            [
             0.5555555555555556,
             "#d8576b"
            ],
            [
             0.6666666666666666,
             "#ed7953"
            ],
            [
             0.7777777777777778,
             "#fb9f3a"
            ],
            [
             0.8888888888888888,
             "#fdca26"
            ],
            [
             1,
             "#f0f921"
            ]
           ],
           "sequentialminus": [
            [
             0,
             "#0d0887"
            ],
            [
             0.1111111111111111,
             "#46039f"
            ],
            [
             0.2222222222222222,
             "#7201a8"
            ],
            [
             0.3333333333333333,
             "#9c179e"
            ],
            [
             0.4444444444444444,
             "#bd3786"
            ],
            [
             0.5555555555555556,
             "#d8576b"
            ],
            [
             0.6666666666666666,
             "#ed7953"
            ],
            [
             0.7777777777777778,
             "#fb9f3a"
            ],
            [
             0.8888888888888888,
             "#fdca26"
            ],
            [
             1,
             "#f0f921"
            ]
           ]
          },
          "colorway": [
           "#636efa",
           "#EF553B",
           "#00cc96",
           "#ab63fa",
           "#FFA15A",
           "#19d3f3",
           "#FF6692",
           "#B6E880",
           "#FF97FF",
           "#FECB52"
          ],
          "font": {
           "color": "#2a3f5f"
          },
          "geo": {
           "bgcolor": "white",
           "lakecolor": "white",
           "landcolor": "#E5ECF6",
           "showlakes": true,
           "showland": true,
           "subunitcolor": "white"
          },
          "hoverlabel": {
           "align": "left"
          },
          "hovermode": "closest",
          "mapbox": {
           "style": "light"
          },
          "paper_bgcolor": "white",
          "plot_bgcolor": "#E5ECF6",
          "polar": {
           "angularaxis": {
            "gridcolor": "white",
            "linecolor": "white",
            "ticks": ""
           },
           "bgcolor": "#E5ECF6",
           "radialaxis": {
            "gridcolor": "white",
            "linecolor": "white",
            "ticks": ""
           }
          },
          "scene": {
           "xaxis": {
            "backgroundcolor": "#E5ECF6",
            "gridcolor": "white",
            "gridwidth": 2,
            "linecolor": "white",
            "showbackground": true,
            "ticks": "",
            "zerolinecolor": "white"
           },
           "yaxis": {
            "backgroundcolor": "#E5ECF6",
            "gridcolor": "white",
            "gridwidth": 2,
            "linecolor": "white",
            "showbackground": true,
            "ticks": "",
            "zerolinecolor": "white"
           },
           "zaxis": {
            "backgroundcolor": "#E5ECF6",
            "gridcolor": "white",
            "gridwidth": 2,
            "linecolor": "white",
            "showbackground": true,
            "ticks": "",
            "zerolinecolor": "white"
           }
          },
          "shapedefaults": {
           "line": {
            "color": "#2a3f5f"
           }
          },
          "ternary": {
           "aaxis": {
            "gridcolor": "white",
            "linecolor": "white",
            "ticks": ""
           },
           "baxis": {
            "gridcolor": "white",
            "linecolor": "white",
            "ticks": ""
           },
           "bgcolor": "#E5ECF6",
           "caxis": {
            "gridcolor": "white",
            "linecolor": "white",
            "ticks": ""
           }
          },
          "title": {
           "x": 0.05
          },
          "xaxis": {
           "automargin": true,
           "gridcolor": "white",
           "linecolor": "white",
           "ticks": "",
           "title": {
            "standoff": 15
           },
           "zerolinecolor": "white",
           "zerolinewidth": 2
          },
          "yaxis": {
           "automargin": true,
           "gridcolor": "white",
           "linecolor": "white",
           "ticks": "",
           "title": {
            "standoff": 15
           },
           "zerolinecolor": "white",
           "zerolinewidth": 2
          }
         }
        },
        "title": {
         "text": "Средняя выручка с клиента в месяц"
        },
        "xaxis": {
         "anchor": "y",
         "autorange": true,
         "domain": [
          0,
          1
         ],
         "range": [
          0,
          10
         ],
         "title": {
          "text": "Месяц"
         },
         "type": "category"
        },
        "yaxis": {
         "anchor": "x",
         "autorange": true,
         "domain": [
          0,
          1
         ],
         "range": [
          1287.3263403393362,
          1643.8230848911417
         ],
         "title": {
          "text": "Средняя выручка (руб)"
         },
         "type": "linear"
        }
       }
      },
      "text/html": [
       "<div>                            <div id=\"a85cf731-dd25-45e3-9f6e-bb450ee39dfc\" class=\"plotly-graph-div\" style=\"height:525px; width:100%;\"></div>            <script type=\"text/javascript\">                require([\"plotly\"], function(Plotly) {                    window.PLOTLYENV=window.PLOTLYENV || {};                                    if (document.getElementById(\"a85cf731-dd25-45e3-9f6e-bb450ee39dfc\")) {                    Plotly.newPlot(                        \"a85cf731-dd25-45e3-9f6e-bb450ee39dfc\",                        [{\"hovertemplate\":\"\\u041c\\u0435\\u0441\\u044f\\u0446=%{x}\\u003cbr\\u003e\\u0421\\u0440\\u0435\\u0434\\u043d\\u044f\\u044f \\u0432\\u044b\\u0440\\u0443\\u0447\\u043a\\u0430 (\\u0440\\u0443\\u0431)=%{y}\\u003cextra\\u003e\\u003c\\u002fextra\\u003e\",\"legendgroup\":\"\",\"line\":{\"color\":\"#636efa\",\"dash\":\"solid\"},\"marker\":{\"symbol\":\"circle\"},\"mode\":\"lines\",\"name\":\"\",\"orientation\":\"v\",\"showlegend\":false,\"x\":[\"\\u042f\\u043d\\u0432\\u0430\\u0440\\u044c\",\"\\u0424\\u0435\\u0432\\u0440\\u0430\\u043b\\u044c\",\"\\u041c\\u0430\\u0440\\u0442\",\"\\u0410\\u043f\\u0440\\u0435\\u043b\\u044c\",\"\\u041c\\u0430\\u0439\",\"\\u0418\\u044e\\u043d\\u044c\",\"\\u0418\\u044e\\u043b\\u044c\",\"\\u0410\\u0432\\u0433\\u0443\\u0441\\u0442\",\"\\u0421\\u0435\\u043d\\u0442\\u044f\\u0431\\u0440\\u044c\",\"\\u041e\\u043a\\u0442\\u044f\\u0431\\u0440\\u044c\",\"\\u041d\\u043e\\u044f\\u0431\\u0440\\u044c\"],\"xaxis\":\"x\",\"y\":[1339.7760479041917,1563.6818181818182,1305.1511775669264,1625.9982476635514,1531.5259986225897,1313.6471617345987,1309.987064137308,1446.8840780911064,1504.6166253101737,1454.3081082810702,1454.0335048754064],\"yaxis\":\"y\",\"type\":\"scatter\"}],                        {\"template\":{\"data\":{\"histogram2dcontour\":[{\"type\":\"histogram2dcontour\",\"colorbar\":{\"outlinewidth\":0,\"ticks\":\"\"},\"colorscale\":[[0.0,\"#0d0887\"],[0.1111111111111111,\"#46039f\"],[0.2222222222222222,\"#7201a8\"],[0.3333333333333333,\"#9c179e\"],[0.4444444444444444,\"#bd3786\"],[0.5555555555555556,\"#d8576b\"],[0.6666666666666666,\"#ed7953\"],[0.7777777777777778,\"#fb9f3a\"],[0.8888888888888888,\"#fdca26\"],[1.0,\"#f0f921\"]]}],\"choropleth\":[{\"type\":\"choropleth\",\"colorbar\":{\"outlinewidth\":0,\"ticks\":\"\"}}],\"histogram2d\":[{\"type\":\"histogram2d\",\"colorbar\":{\"outlinewidth\":0,\"ticks\":\"\"},\"colorscale\":[[0.0,\"#0d0887\"],[0.1111111111111111,\"#46039f\"],[0.2222222222222222,\"#7201a8\"],[0.3333333333333333,\"#9c179e\"],[0.4444444444444444,\"#bd3786\"],[0.5555555555555556,\"#d8576b\"],[0.6666666666666666,\"#ed7953\"],[0.7777777777777778,\"#fb9f3a\"],[0.8888888888888888,\"#fdca26\"],[1.0,\"#f0f921\"]]}],\"heatmap\":[{\"type\":\"heatmap\",\"colorbar\":{\"outlinewidth\":0,\"ticks\":\"\"},\"colorscale\":[[0.0,\"#0d0887\"],[0.1111111111111111,\"#46039f\"],[0.2222222222222222,\"#7201a8\"],[0.3333333333333333,\"#9c179e\"],[0.4444444444444444,\"#bd3786\"],[0.5555555555555556,\"#d8576b\"],[0.6666666666666666,\"#ed7953\"],[0.7777777777777778,\"#fb9f3a\"],[0.8888888888888888,\"#fdca26\"],[1.0,\"#f0f921\"]]}],\"heatmapgl\":[{\"type\":\"heatmapgl\",\"colorbar\":{\"outlinewidth\":0,\"ticks\":\"\"},\"colorscale\":[[0.0,\"#0d0887\"],[0.1111111111111111,\"#46039f\"],[0.2222222222222222,\"#7201a8\"],[0.3333333333333333,\"#9c179e\"],[0.4444444444444444,\"#bd3786\"],[0.5555555555555556,\"#d8576b\"],[0.6666666666666666,\"#ed7953\"],[0.7777777777777778,\"#fb9f3a\"],[0.8888888888888888,\"#fdca26\"],[1.0,\"#f0f921\"]]}],\"contourcarpet\":[{\"type\":\"contourcarpet\",\"colorbar\":{\"outlinewidth\":0,\"ticks\":\"\"}}],\"contour\":[{\"type\":\"contour\",\"colorbar\":{\"outlinewidth\":0,\"ticks\":\"\"},\"colorscale\":[[0.0,\"#0d0887\"],[0.1111111111111111,\"#46039f\"],[0.2222222222222222,\"#7201a8\"],[0.3333333333333333,\"#9c179e\"],[0.4444444444444444,\"#bd3786\"],[0.5555555555555556,\"#d8576b\"],[0.6666666666666666,\"#ed7953\"],[0.7777777777777778,\"#fb9f3a\"],[0.8888888888888888,\"#fdca26\"],[1.0,\"#f0f921\"]]}],\"surface\":[{\"type\":\"surface\",\"colorbar\":{\"outlinewidth\":0,\"ticks\":\"\"},\"colorscale\":[[0.0,\"#0d0887\"],[0.1111111111111111,\"#46039f\"],[0.2222222222222222,\"#7201a8\"],[0.3333333333333333,\"#9c179e\"],[0.4444444444444444,\"#bd3786\"],[0.5555555555555556,\"#d8576b\"],[0.6666666666666666,\"#ed7953\"],[0.7777777777777778,\"#fb9f3a\"],[0.8888888888888888,\"#fdca26\"],[1.0,\"#f0f921\"]]}],\"mesh3d\":[{\"type\":\"mesh3d\",\"colorbar\":{\"outlinewidth\":0,\"ticks\":\"\"}}],\"scatter\":[{\"fillpattern\":{\"fillmode\":\"overlay\",\"size\":10,\"solidity\":0.2},\"type\":\"scatter\"}],\"parcoords\":[{\"type\":\"parcoords\",\"line\":{\"colorbar\":{\"outlinewidth\":0,\"ticks\":\"\"}}}],\"scatterpolargl\":[{\"type\":\"scatterpolargl\",\"marker\":{\"colorbar\":{\"outlinewidth\":0,\"ticks\":\"\"}}}],\"bar\":[{\"error_x\":{\"color\":\"#2a3f5f\"},\"error_y\":{\"color\":\"#2a3f5f\"},\"marker\":{\"line\":{\"color\":\"#E5ECF6\",\"width\":0.5},\"pattern\":{\"fillmode\":\"overlay\",\"size\":10,\"solidity\":0.2}},\"type\":\"bar\"}],\"scattergeo\":[{\"type\":\"scattergeo\",\"marker\":{\"colorbar\":{\"outlinewidth\":0,\"ticks\":\"\"}}}],\"scatterpolar\":[{\"type\":\"scatterpolar\",\"marker\":{\"colorbar\":{\"outlinewidth\":0,\"ticks\":\"\"}}}],\"histogram\":[{\"marker\":{\"pattern\":{\"fillmode\":\"overlay\",\"size\":10,\"solidity\":0.2}},\"type\":\"histogram\"}],\"scattergl\":[{\"type\":\"scattergl\",\"marker\":{\"colorbar\":{\"outlinewidth\":0,\"ticks\":\"\"}}}],\"scatter3d\":[{\"type\":\"scatter3d\",\"line\":{\"colorbar\":{\"outlinewidth\":0,\"ticks\":\"\"}},\"marker\":{\"colorbar\":{\"outlinewidth\":0,\"ticks\":\"\"}}}],\"scattermapbox\":[{\"type\":\"scattermapbox\",\"marker\":{\"colorbar\":{\"outlinewidth\":0,\"ticks\":\"\"}}}],\"scatterternary\":[{\"type\":\"scatterternary\",\"marker\":{\"colorbar\":{\"outlinewidth\":0,\"ticks\":\"\"}}}],\"scattercarpet\":[{\"type\":\"scattercarpet\",\"marker\":{\"colorbar\":{\"outlinewidth\":0,\"ticks\":\"\"}}}],\"carpet\":[{\"aaxis\":{\"endlinecolor\":\"#2a3f5f\",\"gridcolor\":\"white\",\"linecolor\":\"white\",\"minorgridcolor\":\"white\",\"startlinecolor\":\"#2a3f5f\"},\"baxis\":{\"endlinecolor\":\"#2a3f5f\",\"gridcolor\":\"white\",\"linecolor\":\"white\",\"minorgridcolor\":\"white\",\"startlinecolor\":\"#2a3f5f\"},\"type\":\"carpet\"}],\"table\":[{\"cells\":{\"fill\":{\"color\":\"#EBF0F8\"},\"line\":{\"color\":\"white\"}},\"header\":{\"fill\":{\"color\":\"#C8D4E3\"},\"line\":{\"color\":\"white\"}},\"type\":\"table\"}],\"barpolar\":[{\"marker\":{\"line\":{\"color\":\"#E5ECF6\",\"width\":0.5},\"pattern\":{\"fillmode\":\"overlay\",\"size\":10,\"solidity\":0.2}},\"type\":\"barpolar\"}],\"pie\":[{\"automargin\":true,\"type\":\"pie\"}]},\"layout\":{\"autotypenumbers\":\"strict\",\"colorway\":[\"#636efa\",\"#EF553B\",\"#00cc96\",\"#ab63fa\",\"#FFA15A\",\"#19d3f3\",\"#FF6692\",\"#B6E880\",\"#FF97FF\",\"#FECB52\"],\"font\":{\"color\":\"#2a3f5f\"},\"hovermode\":\"closest\",\"hoverlabel\":{\"align\":\"left\"},\"paper_bgcolor\":\"white\",\"plot_bgcolor\":\"#E5ECF6\",\"polar\":{\"bgcolor\":\"#E5ECF6\",\"angularaxis\":{\"gridcolor\":\"white\",\"linecolor\":\"white\",\"ticks\":\"\"},\"radialaxis\":{\"gridcolor\":\"white\",\"linecolor\":\"white\",\"ticks\":\"\"}},\"ternary\":{\"bgcolor\":\"#E5ECF6\",\"aaxis\":{\"gridcolor\":\"white\",\"linecolor\":\"white\",\"ticks\":\"\"},\"baxis\":{\"gridcolor\":\"white\",\"linecolor\":\"white\",\"ticks\":\"\"},\"caxis\":{\"gridcolor\":\"white\",\"linecolor\":\"white\",\"ticks\":\"\"}},\"coloraxis\":{\"colorbar\":{\"outlinewidth\":0,\"ticks\":\"\"}},\"colorscale\":{\"sequential\":[[0.0,\"#0d0887\"],[0.1111111111111111,\"#46039f\"],[0.2222222222222222,\"#7201a8\"],[0.3333333333333333,\"#9c179e\"],[0.4444444444444444,\"#bd3786\"],[0.5555555555555556,\"#d8576b\"],[0.6666666666666666,\"#ed7953\"],[0.7777777777777778,\"#fb9f3a\"],[0.8888888888888888,\"#fdca26\"],[1.0,\"#f0f921\"]],\"sequentialminus\":[[0.0,\"#0d0887\"],[0.1111111111111111,\"#46039f\"],[0.2222222222222222,\"#7201a8\"],[0.3333333333333333,\"#9c179e\"],[0.4444444444444444,\"#bd3786\"],[0.5555555555555556,\"#d8576b\"],[0.6666666666666666,\"#ed7953\"],[0.7777777777777778,\"#fb9f3a\"],[0.8888888888888888,\"#fdca26\"],[1.0,\"#f0f921\"]],\"diverging\":[[0,\"#8e0152\"],[0.1,\"#c51b7d\"],[0.2,\"#de77ae\"],[0.3,\"#f1b6da\"],[0.4,\"#fde0ef\"],[0.5,\"#f7f7f7\"],[0.6,\"#e6f5d0\"],[0.7,\"#b8e186\"],[0.8,\"#7fbc41\"],[0.9,\"#4d9221\"],[1,\"#276419\"]]},\"xaxis\":{\"gridcolor\":\"white\",\"linecolor\":\"white\",\"ticks\":\"\",\"title\":{\"standoff\":15},\"zerolinecolor\":\"white\",\"automargin\":true,\"zerolinewidth\":2},\"yaxis\":{\"gridcolor\":\"white\",\"linecolor\":\"white\",\"ticks\":\"\",\"title\":{\"standoff\":15},\"zerolinecolor\":\"white\",\"automargin\":true,\"zerolinewidth\":2},\"scene\":{\"xaxis\":{\"backgroundcolor\":\"#E5ECF6\",\"gridcolor\":\"white\",\"linecolor\":\"white\",\"showbackground\":true,\"ticks\":\"\",\"zerolinecolor\":\"white\",\"gridwidth\":2},\"yaxis\":{\"backgroundcolor\":\"#E5ECF6\",\"gridcolor\":\"white\",\"linecolor\":\"white\",\"showbackground\":true,\"ticks\":\"\",\"zerolinecolor\":\"white\",\"gridwidth\":2},\"zaxis\":{\"backgroundcolor\":\"#E5ECF6\",\"gridcolor\":\"white\",\"linecolor\":\"white\",\"showbackground\":true,\"ticks\":\"\",\"zerolinecolor\":\"white\",\"gridwidth\":2}},\"shapedefaults\":{\"line\":{\"color\":\"#2a3f5f\"}},\"annotationdefaults\":{\"arrowcolor\":\"#2a3f5f\",\"arrowhead\":0,\"arrowwidth\":1},\"geo\":{\"bgcolor\":\"white\",\"landcolor\":\"#E5ECF6\",\"subunitcolor\":\"white\",\"showland\":true,\"showlakes\":true,\"lakecolor\":\"white\"},\"title\":{\"x\":0.05},\"mapbox\":{\"style\":\"light\"}}},\"xaxis\":{\"anchor\":\"y\",\"domain\":[0.0,1.0],\"title\":{\"text\":\"\\u041c\\u0435\\u0441\\u044f\\u0446\"}},\"yaxis\":{\"anchor\":\"x\",\"domain\":[0.0,1.0],\"title\":{\"text\":\"\\u0421\\u0440\\u0435\\u0434\\u043d\\u044f\\u044f \\u0432\\u044b\\u0440\\u0443\\u0447\\u043a\\u0430 (\\u0440\\u0443\\u0431)\"}},\"legend\":{\"tracegroupgap\":0},\"title\":{\"text\":\"\\u0421\\u0440\\u0435\\u0434\\u043d\\u044f\\u044f \\u0432\\u044b\\u0440\\u0443\\u0447\\u043a\\u0430 \\u0441 \\u043a\\u043b\\u0438\\u0435\\u043d\\u0442\\u0430 \\u0432 \\u043c\\u0435\\u0441\\u044f\\u0446\"}},                        {\"responsive\": true}                    ).then(function(){\n",
       "                            \n",
       "var gd = document.getElementById('a85cf731-dd25-45e3-9f6e-bb450ee39dfc');\n",
       "var x = new MutationObserver(function (mutations, observer) {{\n",
       "        var display = window.getComputedStyle(gd).display;\n",
       "        if (!display || display === 'none') {{\n",
       "            console.log([gd, 'removed!']);\n",
       "            Plotly.purge(gd);\n",
       "            observer.disconnect();\n",
       "        }}\n",
       "}});\n",
       "\n",
       "// Listen for the removal of the full notebook cells\n",
       "var notebookContainer = gd.closest('#notebook-container');\n",
       "if (notebookContainer) {{\n",
       "    x.observe(notebookContainer, {childList: true});\n",
       "}}\n",
       "\n",
       "// Listen for the clearing of the current output cell\n",
       "var outputEl = gd.closest('.output');\n",
       "if (outputEl) {{\n",
       "    x.observe(outputEl, {childList: true});\n",
       "}}\n",
       "\n",
       "                        })                };                });            </script>        </div>"
      ]
     },
     "metadata": {},
     "output_type": "display_data"
    },
    {
     "data": {
      "application/vnd.plotly.v1+json": {
       "config": {
        "plotlyServerURL": "https://plot.ly"
       },
       "data": [
        {
         "hovertemplate": "Месяц=%{x}<br>Количество уникальных покупателей=%{y}<extra></extra>",
         "legendgroup": "",
         "line": {
          "color": "#636efa",
          "dash": "solid"
         },
         "marker": {
          "symbol": "circle"
         },
         "mode": "lines",
         "name": "",
         "orientation": "v",
         "showlegend": false,
         "type": "scatter",
         "x": [
          "Январь",
          "Февраль",
          "Март",
          "Апрель",
          "Май",
          "Июнь",
          "Июль",
          "Август",
          "Сентябрь",
          "Октябрь",
          "Ноябрь"
         ],
         "xaxis": "x",
         "y": [
          835,
          771,
          908,
          856,
          968,
          995,
          1025,
          922,
          1147,
          1202,
          1420
         ],
         "yaxis": "y"
        }
       ],
       "layout": {
        "autosize": true,
        "legend": {
         "tracegroupgap": 0
        },
        "template": {
         "data": {
          "bar": [
           {
            "error_x": {
             "color": "#2a3f5f"
            },
            "error_y": {
             "color": "#2a3f5f"
            },
            "marker": {
             "line": {
              "color": "#E5ECF6",
              "width": 0.5
             },
             "pattern": {
              "fillmode": "overlay",
              "size": 10,
              "solidity": 0.2
             }
            },
            "type": "bar"
           }
          ],
          "barpolar": [
           {
            "marker": {
             "line": {
              "color": "#E5ECF6",
              "width": 0.5
             },
             "pattern": {
              "fillmode": "overlay",
              "size": 10,
              "solidity": 0.2
             }
            },
            "type": "barpolar"
           }
          ],
          "carpet": [
           {
            "aaxis": {
             "endlinecolor": "#2a3f5f",
             "gridcolor": "white",
             "linecolor": "white",
             "minorgridcolor": "white",
             "startlinecolor": "#2a3f5f"
            },
            "baxis": {
             "endlinecolor": "#2a3f5f",
             "gridcolor": "white",
             "linecolor": "white",
             "minorgridcolor": "white",
             "startlinecolor": "#2a3f5f"
            },
            "type": "carpet"
           }
          ],
          "choropleth": [
           {
            "colorbar": {
             "outlinewidth": 0,
             "ticks": ""
            },
            "type": "choropleth"
           }
          ],
          "contour": [
           {
            "colorbar": {
             "outlinewidth": 0,
             "ticks": ""
            },
            "colorscale": [
             [
              0,
              "#0d0887"
             ],
             [
              0.1111111111111111,
              "#46039f"
             ],
             [
              0.2222222222222222,
              "#7201a8"
             ],
             [
              0.3333333333333333,
              "#9c179e"
             ],
             [
              0.4444444444444444,
              "#bd3786"
             ],
             [
              0.5555555555555556,
              "#d8576b"
             ],
             [
              0.6666666666666666,
              "#ed7953"
             ],
             [
              0.7777777777777778,
              "#fb9f3a"
             ],
             [
              0.8888888888888888,
              "#fdca26"
             ],
             [
              1,
              "#f0f921"
             ]
            ],
            "type": "contour"
           }
          ],
          "contourcarpet": [
           {
            "colorbar": {
             "outlinewidth": 0,
             "ticks": ""
            },
            "type": "contourcarpet"
           }
          ],
          "heatmap": [
           {
            "colorbar": {
             "outlinewidth": 0,
             "ticks": ""
            },
            "colorscale": [
             [
              0,
              "#0d0887"
             ],
             [
              0.1111111111111111,
              "#46039f"
             ],
             [
              0.2222222222222222,
              "#7201a8"
             ],
             [
              0.3333333333333333,
              "#9c179e"
             ],
             [
              0.4444444444444444,
              "#bd3786"
             ],
             [
              0.5555555555555556,
              "#d8576b"
             ],
             [
              0.6666666666666666,
              "#ed7953"
             ],
             [
              0.7777777777777778,
              "#fb9f3a"
             ],
             [
              0.8888888888888888,
              "#fdca26"
             ],
             [
              1,
              "#f0f921"
             ]
            ],
            "type": "heatmap"
           }
          ],
          "heatmapgl": [
           {
            "colorbar": {
             "outlinewidth": 0,
             "ticks": ""
            },
            "colorscale": [
             [
              0,
              "#0d0887"
             ],
             [
              0.1111111111111111,
              "#46039f"
             ],
             [
              0.2222222222222222,
              "#7201a8"
             ],
             [
              0.3333333333333333,
              "#9c179e"
             ],
             [
              0.4444444444444444,
              "#bd3786"
             ],
             [
              0.5555555555555556,
              "#d8576b"
             ],
             [
              0.6666666666666666,
              "#ed7953"
             ],
             [
              0.7777777777777778,
              "#fb9f3a"
             ],
             [
              0.8888888888888888,
              "#fdca26"
             ],
             [
              1,
              "#f0f921"
             ]
            ],
            "type": "heatmapgl"
           }
          ],
          "histogram": [
           {
            "marker": {
             "pattern": {
              "fillmode": "overlay",
              "size": 10,
              "solidity": 0.2
             }
            },
            "type": "histogram"
           }
          ],
          "histogram2d": [
           {
            "colorbar": {
             "outlinewidth": 0,
             "ticks": ""
            },
            "colorscale": [
             [
              0,
              "#0d0887"
             ],
             [
              0.1111111111111111,
              "#46039f"
             ],
             [
              0.2222222222222222,
              "#7201a8"
             ],
             [
              0.3333333333333333,
              "#9c179e"
             ],
             [
              0.4444444444444444,
              "#bd3786"
             ],
             [
              0.5555555555555556,
              "#d8576b"
             ],
             [
              0.6666666666666666,
              "#ed7953"
             ],
             [
              0.7777777777777778,
              "#fb9f3a"
             ],
             [
              0.8888888888888888,
              "#fdca26"
             ],
             [
              1,
              "#f0f921"
             ]
            ],
            "type": "histogram2d"
           }
          ],
          "histogram2dcontour": [
           {
            "colorbar": {
             "outlinewidth": 0,
             "ticks": ""
            },
            "colorscale": [
             [
              0,
              "#0d0887"
             ],
             [
              0.1111111111111111,
              "#46039f"
             ],
             [
              0.2222222222222222,
              "#7201a8"
             ],
             [
              0.3333333333333333,
              "#9c179e"
             ],
             [
              0.4444444444444444,
              "#bd3786"
             ],
             [
              0.5555555555555556,
              "#d8576b"
             ],
             [
              0.6666666666666666,
              "#ed7953"
             ],
             [
              0.7777777777777778,
              "#fb9f3a"
             ],
             [
              0.8888888888888888,
              "#fdca26"
             ],
             [
              1,
              "#f0f921"
             ]
            ],
            "type": "histogram2dcontour"
           }
          ],
          "mesh3d": [
           {
            "colorbar": {
             "outlinewidth": 0,
             "ticks": ""
            },
            "type": "mesh3d"
           }
          ],
          "parcoords": [
           {
            "line": {
             "colorbar": {
              "outlinewidth": 0,
              "ticks": ""
             }
            },
            "type": "parcoords"
           }
          ],
          "pie": [
           {
            "automargin": true,
            "type": "pie"
           }
          ],
          "scatter": [
           {
            "fillpattern": {
             "fillmode": "overlay",
             "size": 10,
             "solidity": 0.2
            },
            "type": "scatter"
           }
          ],
          "scatter3d": [
           {
            "line": {
             "colorbar": {
              "outlinewidth": 0,
              "ticks": ""
             }
            },
            "marker": {
             "colorbar": {
              "outlinewidth": 0,
              "ticks": ""
             }
            },
            "type": "scatter3d"
           }
          ],
          "scattercarpet": [
           {
            "marker": {
             "colorbar": {
              "outlinewidth": 0,
              "ticks": ""
             }
            },
            "type": "scattercarpet"
           }
          ],
          "scattergeo": [
           {
            "marker": {
             "colorbar": {
              "outlinewidth": 0,
              "ticks": ""
             }
            },
            "type": "scattergeo"
           }
          ],
          "scattergl": [
           {
            "marker": {
             "colorbar": {
              "outlinewidth": 0,
              "ticks": ""
             }
            },
            "type": "scattergl"
           }
          ],
          "scattermapbox": [
           {
            "marker": {
             "colorbar": {
              "outlinewidth": 0,
              "ticks": ""
             }
            },
            "type": "scattermapbox"
           }
          ],
          "scatterpolar": [
           {
            "marker": {
             "colorbar": {
              "outlinewidth": 0,
              "ticks": ""
             }
            },
            "type": "scatterpolar"
           }
          ],
          "scatterpolargl": [
           {
            "marker": {
             "colorbar": {
              "outlinewidth": 0,
              "ticks": ""
             }
            },
            "type": "scatterpolargl"
           }
          ],
          "scatterternary": [
           {
            "marker": {
             "colorbar": {
              "outlinewidth": 0,
              "ticks": ""
             }
            },
            "type": "scatterternary"
           }
          ],
          "surface": [
           {
            "colorbar": {
             "outlinewidth": 0,
             "ticks": ""
            },
            "colorscale": [
             [
              0,
              "#0d0887"
             ],
             [
              0.1111111111111111,
              "#46039f"
             ],
             [
              0.2222222222222222,
              "#7201a8"
             ],
             [
              0.3333333333333333,
              "#9c179e"
             ],
             [
              0.4444444444444444,
              "#bd3786"
             ],
             [
              0.5555555555555556,
              "#d8576b"
             ],
             [
              0.6666666666666666,
              "#ed7953"
             ],
             [
              0.7777777777777778,
              "#fb9f3a"
             ],
             [
              0.8888888888888888,
              "#fdca26"
             ],
             [
              1,
              "#f0f921"
             ]
            ],
            "type": "surface"
           }
          ],
          "table": [
           {
            "cells": {
             "fill": {
              "color": "#EBF0F8"
             },
             "line": {
              "color": "white"
             }
            },
            "header": {
             "fill": {
              "color": "#C8D4E3"
             },
             "line": {
              "color": "white"
             }
            },
            "type": "table"
           }
          ]
         },
         "layout": {
          "annotationdefaults": {
           "arrowcolor": "#2a3f5f",
           "arrowhead": 0,
           "arrowwidth": 1
          },
          "autotypenumbers": "strict",
          "coloraxis": {
           "colorbar": {
            "outlinewidth": 0,
            "ticks": ""
           }
          },
          "colorscale": {
           "diverging": [
            [
             0,
             "#8e0152"
            ],
            [
             0.1,
             "#c51b7d"
            ],
            [
             0.2,
             "#de77ae"
            ],
            [
             0.3,
             "#f1b6da"
            ],
            [
             0.4,
             "#fde0ef"
            ],
            [
             0.5,
             "#f7f7f7"
            ],
            [
             0.6,
             "#e6f5d0"
            ],
            [
             0.7,
             "#b8e186"
            ],
            [
             0.8,
             "#7fbc41"
            ],
            [
             0.9,
             "#4d9221"
            ],
            [
             1,
             "#276419"
            ]
           ],
           "sequential": [
            [
             0,
             "#0d0887"
            ],
            [
             0.1111111111111111,
             "#46039f"
            ],
            [
             0.2222222222222222,
             "#7201a8"
            ],
            [
             0.3333333333333333,
             "#9c179e"
            ],
            [
             0.4444444444444444,
             "#bd3786"
            ],
            [
             0.5555555555555556,
             "#d8576b"
            ],
            [
             0.6666666666666666,
             "#ed7953"
            ],
            [
             0.7777777777777778,
             "#fb9f3a"
            ],
            [
             0.8888888888888888,
             "#fdca26"
            ],
            [
             1,
             "#f0f921"
            ]
           ],
           "sequentialminus": [
            [
             0,
             "#0d0887"
            ],
            [
             0.1111111111111111,
             "#46039f"
            ],
            [
             0.2222222222222222,
             "#7201a8"
            ],
            [
             0.3333333333333333,
             "#9c179e"
            ],
            [
             0.4444444444444444,
             "#bd3786"
            ],
            [
             0.5555555555555556,
             "#d8576b"
            ],
            [
             0.6666666666666666,
             "#ed7953"
            ],
            [
             0.7777777777777778,
             "#fb9f3a"
            ],
            [
             0.8888888888888888,
             "#fdca26"
            ],
            [
             1,
             "#f0f921"
            ]
           ]
          },
          "colorway": [
           "#636efa",
           "#EF553B",
           "#00cc96",
           "#ab63fa",
           "#FFA15A",
           "#19d3f3",
           "#FF6692",
           "#B6E880",
           "#FF97FF",
           "#FECB52"
          ],
          "font": {
           "color": "#2a3f5f"
          },
          "geo": {
           "bgcolor": "white",
           "lakecolor": "white",
           "landcolor": "#E5ECF6",
           "showlakes": true,
           "showland": true,
           "subunitcolor": "white"
          },
          "hoverlabel": {
           "align": "left"
          },
          "hovermode": "closest",
          "mapbox": {
           "style": "light"
          },
          "paper_bgcolor": "white",
          "plot_bgcolor": "#E5ECF6",
          "polar": {
           "angularaxis": {
            "gridcolor": "white",
            "linecolor": "white",
            "ticks": ""
           },
           "bgcolor": "#E5ECF6",
           "radialaxis": {
            "gridcolor": "white",
            "linecolor": "white",
            "ticks": ""
           }
          },
          "scene": {
           "xaxis": {
            "backgroundcolor": "#E5ECF6",
            "gridcolor": "white",
            "gridwidth": 2,
            "linecolor": "white",
            "showbackground": true,
            "ticks": "",
            "zerolinecolor": "white"
           },
           "yaxis": {
            "backgroundcolor": "#E5ECF6",
            "gridcolor": "white",
            "gridwidth": 2,
            "linecolor": "white",
            "showbackground": true,
            "ticks": "",
            "zerolinecolor": "white"
           },
           "zaxis": {
            "backgroundcolor": "#E5ECF6",
            "gridcolor": "white",
            "gridwidth": 2,
            "linecolor": "white",
            "showbackground": true,
            "ticks": "",
            "zerolinecolor": "white"
           }
          },
          "shapedefaults": {
           "line": {
            "color": "#2a3f5f"
           }
          },
          "ternary": {
           "aaxis": {
            "gridcolor": "white",
            "linecolor": "white",
            "ticks": ""
           },
           "baxis": {
            "gridcolor": "white",
            "linecolor": "white",
            "ticks": ""
           },
           "bgcolor": "#E5ECF6",
           "caxis": {
            "gridcolor": "white",
            "linecolor": "white",
            "ticks": ""
           }
          },
          "title": {
           "x": 0.05
          },
          "xaxis": {
           "automargin": true,
           "gridcolor": "white",
           "linecolor": "white",
           "ticks": "",
           "title": {
            "standoff": 15
           },
           "zerolinecolor": "white",
           "zerolinewidth": 2
          },
          "yaxis": {
           "automargin": true,
           "gridcolor": "white",
           "linecolor": "white",
           "ticks": "",
           "title": {
            "standoff": 15
           },
           "zerolinecolor": "white",
           "zerolinewidth": 2
          }
         }
        },
        "title": {
         "text": "Количество уникальных покупателей по месяцам"
        },
        "xaxis": {
         "anchor": "y",
         "autorange": true,
         "domain": [
          0,
          1
         ],
         "range": [
          0,
          10
         ],
         "title": {
          "text": "Месяц"
         },
         "type": "category"
        },
        "yaxis": {
         "anchor": "x",
         "autorange": true,
         "domain": [
          0,
          1
         ],
         "range": [
          734.9444444444445,
          1456.0555555555557
         ],
         "title": {
          "text": "Количество уникальных покупателей"
         },
         "type": "linear"
        }
       }
      },
      "text/html": [
       "<div>                            <div id=\"d4236fa7-987e-4465-81ae-e288f4768103\" class=\"plotly-graph-div\" style=\"height:525px; width:100%;\"></div>            <script type=\"text/javascript\">                require([\"plotly\"], function(Plotly) {                    window.PLOTLYENV=window.PLOTLYENV || {};                                    if (document.getElementById(\"d4236fa7-987e-4465-81ae-e288f4768103\")) {                    Plotly.newPlot(                        \"d4236fa7-987e-4465-81ae-e288f4768103\",                        [{\"hovertemplate\":\"\\u041c\\u0435\\u0441\\u044f\\u0446=%{x}\\u003cbr\\u003e\\u041a\\u043e\\u043b\\u0438\\u0447\\u0435\\u0441\\u0442\\u0432\\u043e \\u0443\\u043d\\u0438\\u043a\\u0430\\u043b\\u044c\\u043d\\u044b\\u0445 \\u043f\\u043e\\u043a\\u0443\\u043f\\u0430\\u0442\\u0435\\u043b\\u0435\\u0439=%{y}\\u003cextra\\u003e\\u003c\\u002fextra\\u003e\",\"legendgroup\":\"\",\"line\":{\"color\":\"#636efa\",\"dash\":\"solid\"},\"marker\":{\"symbol\":\"circle\"},\"mode\":\"lines\",\"name\":\"\",\"orientation\":\"v\",\"showlegend\":false,\"x\":[\"\\u042f\\u043d\\u0432\\u0430\\u0440\\u044c\",\"\\u0424\\u0435\\u0432\\u0440\\u0430\\u043b\\u044c\",\"\\u041c\\u0430\\u0440\\u0442\",\"\\u0410\\u043f\\u0440\\u0435\\u043b\\u044c\",\"\\u041c\\u0430\\u0439\",\"\\u0418\\u044e\\u043d\\u044c\",\"\\u0418\\u044e\\u043b\\u044c\",\"\\u0410\\u0432\\u0433\\u0443\\u0441\\u0442\",\"\\u0421\\u0435\\u043d\\u0442\\u044f\\u0431\\u0440\\u044c\",\"\\u041e\\u043a\\u0442\\u044f\\u0431\\u0440\\u044c\",\"\\u041d\\u043e\\u044f\\u0431\\u0440\\u044c\"],\"xaxis\":\"x\",\"y\":[835,771,908,856,968,995,1025,922,1147,1202,1420],\"yaxis\":\"y\",\"type\":\"scatter\"}],                        {\"template\":{\"data\":{\"histogram2dcontour\":[{\"type\":\"histogram2dcontour\",\"colorbar\":{\"outlinewidth\":0,\"ticks\":\"\"},\"colorscale\":[[0.0,\"#0d0887\"],[0.1111111111111111,\"#46039f\"],[0.2222222222222222,\"#7201a8\"],[0.3333333333333333,\"#9c179e\"],[0.4444444444444444,\"#bd3786\"],[0.5555555555555556,\"#d8576b\"],[0.6666666666666666,\"#ed7953\"],[0.7777777777777778,\"#fb9f3a\"],[0.8888888888888888,\"#fdca26\"],[1.0,\"#f0f921\"]]}],\"choropleth\":[{\"type\":\"choropleth\",\"colorbar\":{\"outlinewidth\":0,\"ticks\":\"\"}}],\"histogram2d\":[{\"type\":\"histogram2d\",\"colorbar\":{\"outlinewidth\":0,\"ticks\":\"\"},\"colorscale\":[[0.0,\"#0d0887\"],[0.1111111111111111,\"#46039f\"],[0.2222222222222222,\"#7201a8\"],[0.3333333333333333,\"#9c179e\"],[0.4444444444444444,\"#bd3786\"],[0.5555555555555556,\"#d8576b\"],[0.6666666666666666,\"#ed7953\"],[0.7777777777777778,\"#fb9f3a\"],[0.8888888888888888,\"#fdca26\"],[1.0,\"#f0f921\"]]}],\"heatmap\":[{\"type\":\"heatmap\",\"colorbar\":{\"outlinewidth\":0,\"ticks\":\"\"},\"colorscale\":[[0.0,\"#0d0887\"],[0.1111111111111111,\"#46039f\"],[0.2222222222222222,\"#7201a8\"],[0.3333333333333333,\"#9c179e\"],[0.4444444444444444,\"#bd3786\"],[0.5555555555555556,\"#d8576b\"],[0.6666666666666666,\"#ed7953\"],[0.7777777777777778,\"#fb9f3a\"],[0.8888888888888888,\"#fdca26\"],[1.0,\"#f0f921\"]]}],\"heatmapgl\":[{\"type\":\"heatmapgl\",\"colorbar\":{\"outlinewidth\":0,\"ticks\":\"\"},\"colorscale\":[[0.0,\"#0d0887\"],[0.1111111111111111,\"#46039f\"],[0.2222222222222222,\"#7201a8\"],[0.3333333333333333,\"#9c179e\"],[0.4444444444444444,\"#bd3786\"],[0.5555555555555556,\"#d8576b\"],[0.6666666666666666,\"#ed7953\"],[0.7777777777777778,\"#fb9f3a\"],[0.8888888888888888,\"#fdca26\"],[1.0,\"#f0f921\"]]}],\"contourcarpet\":[{\"type\":\"contourcarpet\",\"colorbar\":{\"outlinewidth\":0,\"ticks\":\"\"}}],\"contour\":[{\"type\":\"contour\",\"colorbar\":{\"outlinewidth\":0,\"ticks\":\"\"},\"colorscale\":[[0.0,\"#0d0887\"],[0.1111111111111111,\"#46039f\"],[0.2222222222222222,\"#7201a8\"],[0.3333333333333333,\"#9c179e\"],[0.4444444444444444,\"#bd3786\"],[0.5555555555555556,\"#d8576b\"],[0.6666666666666666,\"#ed7953\"],[0.7777777777777778,\"#fb9f3a\"],[0.8888888888888888,\"#fdca26\"],[1.0,\"#f0f921\"]]}],\"surface\":[{\"type\":\"surface\",\"colorbar\":{\"outlinewidth\":0,\"ticks\":\"\"},\"colorscale\":[[0.0,\"#0d0887\"],[0.1111111111111111,\"#46039f\"],[0.2222222222222222,\"#7201a8\"],[0.3333333333333333,\"#9c179e\"],[0.4444444444444444,\"#bd3786\"],[0.5555555555555556,\"#d8576b\"],[0.6666666666666666,\"#ed7953\"],[0.7777777777777778,\"#fb9f3a\"],[0.8888888888888888,\"#fdca26\"],[1.0,\"#f0f921\"]]}],\"mesh3d\":[{\"type\":\"mesh3d\",\"colorbar\":{\"outlinewidth\":0,\"ticks\":\"\"}}],\"scatter\":[{\"fillpattern\":{\"fillmode\":\"overlay\",\"size\":10,\"solidity\":0.2},\"type\":\"scatter\"}],\"parcoords\":[{\"type\":\"parcoords\",\"line\":{\"colorbar\":{\"outlinewidth\":0,\"ticks\":\"\"}}}],\"scatterpolargl\":[{\"type\":\"scatterpolargl\",\"marker\":{\"colorbar\":{\"outlinewidth\":0,\"ticks\":\"\"}}}],\"bar\":[{\"error_x\":{\"color\":\"#2a3f5f\"},\"error_y\":{\"color\":\"#2a3f5f\"},\"marker\":{\"line\":{\"color\":\"#E5ECF6\",\"width\":0.5},\"pattern\":{\"fillmode\":\"overlay\",\"size\":10,\"solidity\":0.2}},\"type\":\"bar\"}],\"scattergeo\":[{\"type\":\"scattergeo\",\"marker\":{\"colorbar\":{\"outlinewidth\":0,\"ticks\":\"\"}}}],\"scatterpolar\":[{\"type\":\"scatterpolar\",\"marker\":{\"colorbar\":{\"outlinewidth\":0,\"ticks\":\"\"}}}],\"histogram\":[{\"marker\":{\"pattern\":{\"fillmode\":\"overlay\",\"size\":10,\"solidity\":0.2}},\"type\":\"histogram\"}],\"scattergl\":[{\"type\":\"scattergl\",\"marker\":{\"colorbar\":{\"outlinewidth\":0,\"ticks\":\"\"}}}],\"scatter3d\":[{\"type\":\"scatter3d\",\"line\":{\"colorbar\":{\"outlinewidth\":0,\"ticks\":\"\"}},\"marker\":{\"colorbar\":{\"outlinewidth\":0,\"ticks\":\"\"}}}],\"scattermapbox\":[{\"type\":\"scattermapbox\",\"marker\":{\"colorbar\":{\"outlinewidth\":0,\"ticks\":\"\"}}}],\"scatterternary\":[{\"type\":\"scatterternary\",\"marker\":{\"colorbar\":{\"outlinewidth\":0,\"ticks\":\"\"}}}],\"scattercarpet\":[{\"type\":\"scattercarpet\",\"marker\":{\"colorbar\":{\"outlinewidth\":0,\"ticks\":\"\"}}}],\"carpet\":[{\"aaxis\":{\"endlinecolor\":\"#2a3f5f\",\"gridcolor\":\"white\",\"linecolor\":\"white\",\"minorgridcolor\":\"white\",\"startlinecolor\":\"#2a3f5f\"},\"baxis\":{\"endlinecolor\":\"#2a3f5f\",\"gridcolor\":\"white\",\"linecolor\":\"white\",\"minorgridcolor\":\"white\",\"startlinecolor\":\"#2a3f5f\"},\"type\":\"carpet\"}],\"table\":[{\"cells\":{\"fill\":{\"color\":\"#EBF0F8\"},\"line\":{\"color\":\"white\"}},\"header\":{\"fill\":{\"color\":\"#C8D4E3\"},\"line\":{\"color\":\"white\"}},\"type\":\"table\"}],\"barpolar\":[{\"marker\":{\"line\":{\"color\":\"#E5ECF6\",\"width\":0.5},\"pattern\":{\"fillmode\":\"overlay\",\"size\":10,\"solidity\":0.2}},\"type\":\"barpolar\"}],\"pie\":[{\"automargin\":true,\"type\":\"pie\"}]},\"layout\":{\"autotypenumbers\":\"strict\",\"colorway\":[\"#636efa\",\"#EF553B\",\"#00cc96\",\"#ab63fa\",\"#FFA15A\",\"#19d3f3\",\"#FF6692\",\"#B6E880\",\"#FF97FF\",\"#FECB52\"],\"font\":{\"color\":\"#2a3f5f\"},\"hovermode\":\"closest\",\"hoverlabel\":{\"align\":\"left\"},\"paper_bgcolor\":\"white\",\"plot_bgcolor\":\"#E5ECF6\",\"polar\":{\"bgcolor\":\"#E5ECF6\",\"angularaxis\":{\"gridcolor\":\"white\",\"linecolor\":\"white\",\"ticks\":\"\"},\"radialaxis\":{\"gridcolor\":\"white\",\"linecolor\":\"white\",\"ticks\":\"\"}},\"ternary\":{\"bgcolor\":\"#E5ECF6\",\"aaxis\":{\"gridcolor\":\"white\",\"linecolor\":\"white\",\"ticks\":\"\"},\"baxis\":{\"gridcolor\":\"white\",\"linecolor\":\"white\",\"ticks\":\"\"},\"caxis\":{\"gridcolor\":\"white\",\"linecolor\":\"white\",\"ticks\":\"\"}},\"coloraxis\":{\"colorbar\":{\"outlinewidth\":0,\"ticks\":\"\"}},\"colorscale\":{\"sequential\":[[0.0,\"#0d0887\"],[0.1111111111111111,\"#46039f\"],[0.2222222222222222,\"#7201a8\"],[0.3333333333333333,\"#9c179e\"],[0.4444444444444444,\"#bd3786\"],[0.5555555555555556,\"#d8576b\"],[0.6666666666666666,\"#ed7953\"],[0.7777777777777778,\"#fb9f3a\"],[0.8888888888888888,\"#fdca26\"],[1.0,\"#f0f921\"]],\"sequentialminus\":[[0.0,\"#0d0887\"],[0.1111111111111111,\"#46039f\"],[0.2222222222222222,\"#7201a8\"],[0.3333333333333333,\"#9c179e\"],[0.4444444444444444,\"#bd3786\"],[0.5555555555555556,\"#d8576b\"],[0.6666666666666666,\"#ed7953\"],[0.7777777777777778,\"#fb9f3a\"],[0.8888888888888888,\"#fdca26\"],[1.0,\"#f0f921\"]],\"diverging\":[[0,\"#8e0152\"],[0.1,\"#c51b7d\"],[0.2,\"#de77ae\"],[0.3,\"#f1b6da\"],[0.4,\"#fde0ef\"],[0.5,\"#f7f7f7\"],[0.6,\"#e6f5d0\"],[0.7,\"#b8e186\"],[0.8,\"#7fbc41\"],[0.9,\"#4d9221\"],[1,\"#276419\"]]},\"xaxis\":{\"gridcolor\":\"white\",\"linecolor\":\"white\",\"ticks\":\"\",\"title\":{\"standoff\":15},\"zerolinecolor\":\"white\",\"automargin\":true,\"zerolinewidth\":2},\"yaxis\":{\"gridcolor\":\"white\",\"linecolor\":\"white\",\"ticks\":\"\",\"title\":{\"standoff\":15},\"zerolinecolor\":\"white\",\"automargin\":true,\"zerolinewidth\":2},\"scene\":{\"xaxis\":{\"backgroundcolor\":\"#E5ECF6\",\"gridcolor\":\"white\",\"linecolor\":\"white\",\"showbackground\":true,\"ticks\":\"\",\"zerolinecolor\":\"white\",\"gridwidth\":2},\"yaxis\":{\"backgroundcolor\":\"#E5ECF6\",\"gridcolor\":\"white\",\"linecolor\":\"white\",\"showbackground\":true,\"ticks\":\"\",\"zerolinecolor\":\"white\",\"gridwidth\":2},\"zaxis\":{\"backgroundcolor\":\"#E5ECF6\",\"gridcolor\":\"white\",\"linecolor\":\"white\",\"showbackground\":true,\"ticks\":\"\",\"zerolinecolor\":\"white\",\"gridwidth\":2}},\"shapedefaults\":{\"line\":{\"color\":\"#2a3f5f\"}},\"annotationdefaults\":{\"arrowcolor\":\"#2a3f5f\",\"arrowhead\":0,\"arrowwidth\":1},\"geo\":{\"bgcolor\":\"white\",\"landcolor\":\"#E5ECF6\",\"subunitcolor\":\"white\",\"showland\":true,\"showlakes\":true,\"lakecolor\":\"white\"},\"title\":{\"x\":0.05},\"mapbox\":{\"style\":\"light\"}}},\"xaxis\":{\"anchor\":\"y\",\"domain\":[0.0,1.0],\"title\":{\"text\":\"\\u041c\\u0435\\u0441\\u044f\\u0446\"}},\"yaxis\":{\"anchor\":\"x\",\"domain\":[0.0,1.0],\"title\":{\"text\":\"\\u041a\\u043e\\u043b\\u0438\\u0447\\u0435\\u0441\\u0442\\u0432\\u043e \\u0443\\u043d\\u0438\\u043a\\u0430\\u043b\\u044c\\u043d\\u044b\\u0445 \\u043f\\u043e\\u043a\\u0443\\u043f\\u0430\\u0442\\u0435\\u043b\\u0435\\u0439\"}},\"legend\":{\"tracegroupgap\":0},\"title\":{\"text\":\"\\u041a\\u043e\\u043b\\u0438\\u0447\\u0435\\u0441\\u0442\\u0432\\u043e \\u0443\\u043d\\u0438\\u043a\\u0430\\u043b\\u044c\\u043d\\u044b\\u0445 \\u043f\\u043e\\u043a\\u0443\\u043f\\u0430\\u0442\\u0435\\u043b\\u0435\\u0439 \\u043f\\u043e \\u043c\\u0435\\u0441\\u044f\\u0446\\u0430\\u043c\"}},                        {\"responsive\": true}                    ).then(function(){\n",
       "                            \n",
       "var gd = document.getElementById('d4236fa7-987e-4465-81ae-e288f4768103');\n",
       "var x = new MutationObserver(function (mutations, observer) {{\n",
       "        var display = window.getComputedStyle(gd).display;\n",
       "        if (!display || display === 'none') {{\n",
       "            console.log([gd, 'removed!']);\n",
       "            Plotly.purge(gd);\n",
       "            observer.disconnect();\n",
       "        }}\n",
       "}});\n",
       "\n",
       "// Listen for the removal of the full notebook cells\n",
       "var notebookContainer = gd.closest('#notebook-container');\n",
       "if (notebookContainer) {{\n",
       "    x.observe(notebookContainer, {childList: true});\n",
       "}}\n",
       "\n",
       "// Listen for the clearing of the current output cell\n",
       "var outputEl = gd.closest('.output');\n",
       "if (outputEl) {{\n",
       "    x.observe(outputEl, {childList: true});\n",
       "}}\n",
       "\n",
       "                        })                };                });            </script>        </div>"
      ]
     },
     "metadata": {},
     "output_type": "display_data"
    }
   ],
   "source": [
    "# График средней выручки на клиента в день по месяцам\n",
    "fig1 = px.line(df_monthly, x='entry_date', y='avg_revenue',\n",
    "               title='Средняя выручка с клиента в месяц',\n",
    "               labels={'entry_date': 'Месяц', 'avg_revenue': 'Средняя выручка (руб)'})\n",
    "fig1.show()\n",
    "\n",
    "# График количества уникальных покупателей по месяцам\n",
    "fig2 = px.line(df_monthly, x='entry_date', y='uniq_customer',\n",
    "               title='Количество уникальных покупателей по месяцам',\n",
    "               labels={'entry_date': 'Месяц', 'uniq_customer': 'Количество уникальных покупателей'})\n",
    "fig2.show()\n"
   ]
  },
  {
   "cell_type": "markdown",
   "id": "31b8e7c9-6570-4c1f-be6a-307ee9c10290",
   "metadata": {},
   "source": [
    "На графике средней выручки с клиента в месяц видна сезонная активность, перед праздниками повышение выручки и значение во время отпускного периода. По Количеству уникальных клиентов можно наблюдать их рост, возможно магазин провел акцию или купил рекламу, но в месяцы, когда были больише значения средней выручки с клиента в день, можно сделать вывод что количество уникальных клиентов меньше, а значит это постоянные клиенты."
   ]
  },
  {
   "cell_type": "markdown",
   "id": "a6468d70-7f67-427d-88b6-2ef9e47307eb",
   "metadata": {},
   "source": [
    "#### 3.3 Расчет стики-фактора за второй и третий квартал 2019 года"
   ]
  },
  {
   "cell_type": "code",
   "execution_count": 654,
   "id": "c2137910-bb6e-4c66-93ca-bf634fc749bf",
   "metadata": {},
   "outputs": [
    {
     "name": "stdout",
     "output_type": "stream",
     "text": [
      "Среднее количество уникальных пользователей в день: 50.788079470198674\n",
      "Среднее количество уникальных пользователей в месяц: 985.5\n",
      "Стики-фактор за 2 и 3 квартал 2019 года: 5.15%\n"
     ]
    }
   ],
   "source": [
    "df_quarter = df_actual_2[df_actual_2['entry_date'].dt.quarter.isin([2,3])]\n",
    "\n",
    "daily_customers = (df_quarter\n",
    "                   .groupby(df_quarter['entry_date'].dt.date)\n",
    "                   .agg(uniq_customers=('customer_id', 'nunique')))\n",
    "avg_daily_customers = daily_customers['uniq_customers'].mean()\n",
    "print(f'Среднее количество уникальных пользователей в день: {avg_daily_customers}')\n",
    "\n",
    "monthly_customers = (df_quarter\n",
    "                   .groupby(df_quarter['entry_date'].dt.month)\n",
    "                   .agg(uniq_customers=('customer_id', 'nunique')))\n",
    "avg_monthly_customers = monthly_customers['uniq_customers'].mean()\n",
    "print(f'Среднее количество уникальных пользователей в месяц: {avg_monthly_customers}')\n",
    "\n",
    "sticky_factor = avg_daily_customers / avg_monthly_customers\n",
    "print(f'Стики-фактор за 2 и 3 квартал 2019 года: {sticky_factor:.2%}')"
   ]
  },
  {
   "cell_type": "markdown",
   "id": "8c264efe-ae49-49dc-a03a-4993388abc39",
   "metadata": {},
   "source": [
    "Стики фактор довольно низкий, значит большая часть клиентов у магазина это не постоянные клиенты. Гипотеза, которая была озвучена изначально о том, что магазин не имеет постоянных клиентов подветрждена."
   ]
  },
  {
   "cell_type": "markdown",
   "id": "2133ef57-bcf6-468c-b0f5-f2979c173e9a",
   "metadata": {},
   "source": [
    "#### 3.4 Составление профиля пользователя\n",
    "Составим профиль пользователя, где будет информация о его первой и последней покупке, общей сумме заказов, средняя цена заказа, страна, насколько разнообразные товары приобретает (кол-во уникальных позиций в заказах), возвратный клиент или нет (1 - да, 0 - нет)."
   ]
  },
  {
   "cell_type": "code",
   "execution_count": 657,
   "id": "1509a9e0-0343-47fb-aa32-3c27f86e2d0c",
   "metadata": {},
   "outputs": [
    {
     "data": {
      "text/html": [
       "<div>\n",
       "<style scoped>\n",
       "    .dataframe tbody tr th:only-of-type {\n",
       "        vertical-align: middle;\n",
       "    }\n",
       "\n",
       "    .dataframe tbody tr th {\n",
       "        vertical-align: top;\n",
       "    }\n",
       "\n",
       "    .dataframe thead th {\n",
       "        text-align: right;\n",
       "    }\n",
       "</style>\n",
       "<table border=\"1\" class=\"dataframe\">\n",
       "  <thead>\n",
       "    <tr style=\"text-align: right;\">\n",
       "      <th></th>\n",
       "      <th>country_id</th>\n",
       "      <th>total_purchase</th>\n",
       "      <th>nunique_order</th>\n",
       "      <th>count_orders</th>\n",
       "      <th>mean_price_order</th>\n",
       "      <th>return_customer</th>\n",
       "      <th>order_recency</th>\n",
       "    </tr>\n",
       "  </thead>\n",
       "  <tbody>\n",
       "    <tr>\n",
       "      <th>count</th>\n",
       "      <td>4059.000000</td>\n",
       "      <td>4.059000e+03</td>\n",
       "      <td>4059.000000</td>\n",
       "      <td>4059.000000</td>\n",
       "      <td>4059.000000</td>\n",
       "      <td>4059.000000</td>\n",
       "      <td>4059.000000</td>\n",
       "    </tr>\n",
       "    <tr>\n",
       "      <th>mean</th>\n",
       "      <td>26.499138</td>\n",
       "      <td>9.892147e+04</td>\n",
       "      <td>40.934467</td>\n",
       "      <td>3.789111</td>\n",
       "      <td>23837.072761</td>\n",
       "      <td>0.631436</td>\n",
       "      <td>121.996551</td>\n",
       "    </tr>\n",
       "    <tr>\n",
       "      <th>std</th>\n",
       "      <td>5.399486</td>\n",
       "      <td>2.806494e+05</td>\n",
       "      <td>54.220100</td>\n",
       "      <td>5.920940</td>\n",
       "      <td>22979.506310</td>\n",
       "      <td>0.482475</td>\n",
       "      <td>90.461055</td>\n",
       "    </tr>\n",
       "    <tr>\n",
       "      <th>min</th>\n",
       "      <td>1.000000</td>\n",
       "      <td>2.900000e+02</td>\n",
       "      <td>1.000000</td>\n",
       "      <td>1.000000</td>\n",
       "      <td>290.000000</td>\n",
       "      <td>0.000000</td>\n",
       "      <td>32.000000</td>\n",
       "    </tr>\n",
       "    <tr>\n",
       "      <th>25%</th>\n",
       "      <td>28.000000</td>\n",
       "      <td>1.884300e+04</td>\n",
       "      <td>11.000000</td>\n",
       "      <td>1.000000</td>\n",
       "      <td>11465.875000</td>\n",
       "      <td>0.000000</td>\n",
       "      <td>47.000000</td>\n",
       "    </tr>\n",
       "    <tr>\n",
       "      <th>50%</th>\n",
       "      <td>28.000000</td>\n",
       "      <td>4.144200e+04</td>\n",
       "      <td>24.000000</td>\n",
       "      <td>2.000000</td>\n",
       "      <td>18675.000000</td>\n",
       "      <td>1.000000</td>\n",
       "      <td>88.000000</td>\n",
       "    </tr>\n",
       "    <tr>\n",
       "      <th>75%</th>\n",
       "      <td>28.000000</td>\n",
       "      <td>1.000120e+05</td>\n",
       "      <td>52.000000</td>\n",
       "      <td>4.000000</td>\n",
       "      <td>28987.700000</td>\n",
       "      <td>1.000000</td>\n",
       "      <td>179.000000</td>\n",
       "    </tr>\n",
       "    <tr>\n",
       "      <th>max</th>\n",
       "      <td>29.000000</td>\n",
       "      <td>1.218799e+07</td>\n",
       "      <td>1118.000000</td>\n",
       "      <td>162.000000</td>\n",
       "      <td>375346.000000</td>\n",
       "      <td>1.000000</td>\n",
       "      <td>364.000000</td>\n",
       "    </tr>\n",
       "  </tbody>\n",
       "</table>\n",
       "</div>"
      ],
      "text/plain": [
       "        country_id  total_purchase  nunique_order  count_orders  \\\n",
       "count  4059.000000    4.059000e+03    4059.000000   4059.000000   \n",
       "mean     26.499138    9.892147e+04      40.934467      3.789111   \n",
       "std       5.399486    2.806494e+05      54.220100      5.920940   \n",
       "min       1.000000    2.900000e+02       1.000000      1.000000   \n",
       "25%      28.000000    1.884300e+04      11.000000      1.000000   \n",
       "50%      28.000000    4.144200e+04      24.000000      2.000000   \n",
       "75%      28.000000    1.000120e+05      52.000000      4.000000   \n",
       "max      29.000000    1.218799e+07    1118.000000    162.000000   \n",
       "\n",
       "       mean_price_order  return_customer  order_recency  \n",
       "count       4059.000000      4059.000000    4059.000000  \n",
       "mean       23837.072761         0.631436     121.996551  \n",
       "std        22979.506310         0.482475      90.461055  \n",
       "min          290.000000         0.000000      32.000000  \n",
       "25%        11465.875000         0.000000      47.000000  \n",
       "50%        18675.000000         1.000000      88.000000  \n",
       "75%        28987.700000         1.000000     179.000000  \n",
       "max       375346.000000         1.000000     364.000000  "
      ]
     },
     "metadata": {},
     "output_type": "display_data"
    },
    {
     "data": {
      "text/html": [
       "<div>\n",
       "<style scoped>\n",
       "    .dataframe tbody tr th:only-of-type {\n",
       "        vertical-align: middle;\n",
       "    }\n",
       "\n",
       "    .dataframe tbody tr th {\n",
       "        vertical-align: top;\n",
       "    }\n",
       "\n",
       "    .dataframe thead th {\n",
       "        text-align: right;\n",
       "    }\n",
       "</style>\n",
       "<table border=\"1\" class=\"dataframe\">\n",
       "  <thead>\n",
       "    <tr style=\"text-align: right;\">\n",
       "      <th></th>\n",
       "      <th>first_order</th>\n",
       "      <th>last_order</th>\n",
       "      <th>country_id</th>\n",
       "      <th>total_purchase</th>\n",
       "      <th>nunique_order</th>\n",
       "      <th>count_orders</th>\n",
       "      <th>mean_price_order</th>\n",
       "      <th>return_customer</th>\n",
       "      <th>order_recency</th>\n",
       "    </tr>\n",
       "    <tr>\n",
       "      <th>customer_id</th>\n",
       "      <th></th>\n",
       "      <th></th>\n",
       "      <th></th>\n",
       "      <th></th>\n",
       "      <th></th>\n",
       "      <th></th>\n",
       "      <th></th>\n",
       "      <th></th>\n",
       "      <th></th>\n",
       "    </tr>\n",
       "  </thead>\n",
       "  <tbody>\n",
       "    <tr>\n",
       "      <th>1713</th>\n",
       "      <td>2019-05-22</td>\n",
       "      <td>2019-10-28</td>\n",
       "      <td>28</td>\n",
       "      <td>61114</td>\n",
       "      <td>25</td>\n",
       "      <td>2</td>\n",
       "      <td>30557.000000</td>\n",
       "      <td>1</td>\n",
       "      <td>65</td>\n",
       "    </tr>\n",
       "    <tr>\n",
       "      <th>1717</th>\n",
       "      <td>2019-01-23</td>\n",
       "      <td>2019-11-30</td>\n",
       "      <td>28</td>\n",
       "      <td>148035</td>\n",
       "      <td>200</td>\n",
       "      <td>14</td>\n",
       "      <td>10573.928571</td>\n",
       "      <td>1</td>\n",
       "      <td>32</td>\n",
       "    </tr>\n",
       "    <tr>\n",
       "      <th>1718</th>\n",
       "      <td>2019-02-12</td>\n",
       "      <td>2019-05-08</td>\n",
       "      <td>28</td>\n",
       "      <td>11886</td>\n",
       "      <td>8</td>\n",
       "      <td>2</td>\n",
       "      <td>5943.000000</td>\n",
       "      <td>1</td>\n",
       "      <td>238</td>\n",
       "    </tr>\n",
       "    <tr>\n",
       "      <th>1720</th>\n",
       "      <td>2019-07-03</td>\n",
       "      <td>2019-07-03</td>\n",
       "      <td>28</td>\n",
       "      <td>13290</td>\n",
       "      <td>7</td>\n",
       "      <td>1</td>\n",
       "      <td>13290.000000</td>\n",
       "      <td>0</td>\n",
       "      <td>182</td>\n",
       "    </tr>\n",
       "    <tr>\n",
       "      <th>1722</th>\n",
       "      <td>2019-09-27</td>\n",
       "      <td>2019-09-27</td>\n",
       "      <td>28</td>\n",
       "      <td>12690</td>\n",
       "      <td>6</td>\n",
       "      <td>1</td>\n",
       "      <td>12690.000000</td>\n",
       "      <td>0</td>\n",
       "      <td>96</td>\n",
       "    </tr>\n",
       "  </tbody>\n",
       "</table>\n",
       "</div>"
      ],
      "text/plain": [
       "            first_order  last_order  country_id  total_purchase  \\\n",
       "customer_id                                                       \n",
       "1713         2019-05-22  2019-10-28          28           61114   \n",
       "1717         2019-01-23  2019-11-30          28          148035   \n",
       "1718         2019-02-12  2019-05-08          28           11886   \n",
       "1720         2019-07-03  2019-07-03          28           13290   \n",
       "1722         2019-09-27  2019-09-27          28           12690   \n",
       "\n",
       "             nunique_order  count_orders  mean_price_order  return_customer  \\\n",
       "customer_id                                                                   \n",
       "1713                    25             2      30557.000000                1   \n",
       "1717                   200            14      10573.928571                1   \n",
       "1718                     8             2       5943.000000                1   \n",
       "1720                     7             1      13290.000000                0   \n",
       "1722                     6             1      12690.000000                0   \n",
       "\n",
       "             order_recency  \n",
       "customer_id                 \n",
       "1713                    65  \n",
       "1717                    32  \n",
       "1718                   238  \n",
       "1720                   182  \n",
       "1722                    96  "
      ]
     },
     "metadata": {},
     "output_type": "display_data"
    }
   ],
   "source": [
    "profiles_customers = (df_actual_2.groupby('customer_id')\n",
    "                      .agg(first_order=('entry_date', 'min'),\n",
    "                           last_order=('entry_date', 'max'),\n",
    "                           country_id=('country_id', 'first'),\n",
    "                           total_purchase=('total_price', 'sum'),\n",
    "                           nunique_order=('entry_id', 'nunique'),\n",
    "                           count_orders=('order_id', 'nunique')))\n",
    "profiles_customers['first_order'] = profiles_customers['first_order'].dt.date\n",
    "profiles_customers['last_order'] = profiles_customers['last_order'].dt.date\n",
    "profiles_customers['mean_price_order'] = profiles_customers['total_purchase'] / profiles_customers['count_orders']\n",
    "profiles_customers['return_customer'] = np.where(profiles_customers['count_orders'] > 1, 1, 0)\n",
    "profiles_customers['order_recency'] = (pd.to_datetime('2020-01-01') -\n",
    "                                       pd.to_datetime(profiles_customers['last_order'])).dt.days\n",
    "display(profiles_customers.describe())\n",
    "display(profiles_customers.head())"
   ]
  },
  {
   "cell_type": "markdown",
   "id": "3f9830cc-d41b-4e54-a081-84693cbcb484",
   "metadata": {},
   "source": [
    "Расчитаем для каждой группы средние показатели, основываясь на данных из профиля пользователя:"
   ]
  },
  {
   "cell_type": "code",
   "execution_count": 659,
   "id": "5e77256a-e2da-42be-a0fa-890056dee7b5",
   "metadata": {},
   "outputs": [
    {
     "data": {
      "text/html": [
       "<div>\n",
       "<style scoped>\n",
       "    .dataframe tbody tr th:only-of-type {\n",
       "        vertical-align: middle;\n",
       "    }\n",
       "\n",
       "    .dataframe tbody tr th {\n",
       "        vertical-align: top;\n",
       "    }\n",
       "\n",
       "    .dataframe thead tr th {\n",
       "        text-align: left;\n",
       "    }\n",
       "\n",
       "    .dataframe thead tr:last-of-type th {\n",
       "        text-align: right;\n",
       "    }\n",
       "</style>\n",
       "<table border=\"1\" class=\"dataframe\">\n",
       "  <thead>\n",
       "    <tr>\n",
       "      <th></th>\n",
       "      <th colspan=\"2\" halign=\"left\">total_purchase</th>\n",
       "      <th colspan=\"2\" halign=\"left\">nunique_order</th>\n",
       "      <th colspan=\"2\" halign=\"left\">mean_price_order</th>\n",
       "      <th>customer_id</th>\n",
       "    </tr>\n",
       "    <tr>\n",
       "      <th></th>\n",
       "      <th>mean</th>\n",
       "      <th>median</th>\n",
       "      <th>mean</th>\n",
       "      <th>median</th>\n",
       "      <th>mean</th>\n",
       "      <th>median</th>\n",
       "      <th>count</th>\n",
       "    </tr>\n",
       "    <tr>\n",
       "      <th>return_customer</th>\n",
       "      <th></th>\n",
       "      <th></th>\n",
       "      <th></th>\n",
       "      <th></th>\n",
       "      <th></th>\n",
       "      <th></th>\n",
       "      <th></th>\n",
       "    </tr>\n",
       "  </thead>\n",
       "  <tbody>\n",
       "    <tr>\n",
       "      <th>0</th>\n",
       "      <td>23323.03008</td>\n",
       "      <td>16582.0</td>\n",
       "      <td>15.471257</td>\n",
       "      <td>11.0</td>\n",
       "      <td>23323.030080</td>\n",
       "      <td>16582.0</td>\n",
       "      <td>1496</td>\n",
       "    </tr>\n",
       "    <tr>\n",
       "      <th>1</th>\n",
       "      <td>143047.60359</td>\n",
       "      <td>73655.0</td>\n",
       "      <td>55.797113</td>\n",
       "      <td>38.0</td>\n",
       "      <td>24137.114841</td>\n",
       "      <td>19700.0</td>\n",
       "      <td>2563</td>\n",
       "    </tr>\n",
       "  </tbody>\n",
       "</table>\n",
       "</div>"
      ],
      "text/plain": [
       "                total_purchase          nunique_order        mean_price_order  \\\n",
       "                          mean   median          mean median             mean   \n",
       "return_customer                                                                 \n",
       "0                  23323.03008  16582.0     15.471257   11.0     23323.030080   \n",
       "1                 143047.60359  73655.0     55.797113   38.0     24137.114841   \n",
       "\n",
       "                         customer_id  \n",
       "                  median       count  \n",
       "return_customer                       \n",
       "0                16582.0        1496  \n",
       "1                19700.0        2563  "
      ]
     },
     "metadata": {},
     "output_type": "display_data"
    }
   ],
   "source": [
    "group_profile = (profiles_customers.reset_index()\n",
    "                    .groupby('return_customer')\n",
    "                    .agg({'total_purchase': ['mean', 'median'],\n",
    "                         'nunique_order': ['mean', 'median'],\n",
    "                         'mean_price_order': ['mean', 'median'],\n",
    "                         'customer_id': 'count'}))\n",
    "display(group_profile)"
   ]
  },
  {
   "cell_type": "code",
   "execution_count": 660,
   "id": "d9880ecb-49c0-4e0b-81f1-457ad2cdea7c",
   "metadata": {},
   "outputs": [
    {
     "name": "stdout",
     "output_type": "stream",
     "text": [
      "Общие показатели возвратных клиентов\n"
     ]
    },
    {
     "data": {
      "text/html": [
       "<div>\n",
       "<style scoped>\n",
       "    .dataframe tbody tr th:only-of-type {\n",
       "        vertical-align: middle;\n",
       "    }\n",
       "\n",
       "    .dataframe tbody tr th {\n",
       "        vertical-align: top;\n",
       "    }\n",
       "\n",
       "    .dataframe thead th {\n",
       "        text-align: right;\n",
       "    }\n",
       "</style>\n",
       "<table border=\"1\" class=\"dataframe\">\n",
       "  <thead>\n",
       "    <tr style=\"text-align: right;\">\n",
       "      <th></th>\n",
       "      <th>total_purchase</th>\n",
       "      <th>nunique_order</th>\n",
       "      <th>count_orders</th>\n",
       "      <th>mean_price_order</th>\n",
       "    </tr>\n",
       "  </thead>\n",
       "  <tbody>\n",
       "    <tr>\n",
       "      <th>count</th>\n",
       "      <td>2.563000e+03</td>\n",
       "      <td>2563.000000</td>\n",
       "      <td>2563.000000</td>\n",
       "      <td>2563.000000</td>\n",
       "    </tr>\n",
       "    <tr>\n",
       "      <th>mean</th>\n",
       "      <td>1.430476e+05</td>\n",
       "      <td>55.797113</td>\n",
       "      <td>5.417089</td>\n",
       "      <td>24137.114841</td>\n",
       "    </tr>\n",
       "    <tr>\n",
       "      <th>std</th>\n",
       "      <td>3.449938e+05</td>\n",
       "      <td>62.471053</td>\n",
       "      <td>6.952306</td>\n",
       "      <td>19645.253558</td>\n",
       "    </tr>\n",
       "    <tr>\n",
       "      <th>min</th>\n",
       "      <td>1.342000e+03</td>\n",
       "      <td>1.000000</td>\n",
       "      <td>2.000000</td>\n",
       "      <td>366.500000</td>\n",
       "    </tr>\n",
       "    <tr>\n",
       "      <th>25%</th>\n",
       "      <td>3.950050e+04</td>\n",
       "      <td>20.000000</td>\n",
       "      <td>2.000000</td>\n",
       "      <td>12631.000000</td>\n",
       "    </tr>\n",
       "    <tr>\n",
       "      <th>50%</th>\n",
       "      <td>7.365500e+04</td>\n",
       "      <td>38.000000</td>\n",
       "      <td>4.000000</td>\n",
       "      <td>19700.000000</td>\n",
       "    </tr>\n",
       "    <tr>\n",
       "      <th>75%</th>\n",
       "      <td>1.495470e+05</td>\n",
       "      <td>71.000000</td>\n",
       "      <td>6.000000</td>\n",
       "      <td>29609.000000</td>\n",
       "    </tr>\n",
       "    <tr>\n",
       "      <th>max</th>\n",
       "      <td>1.218799e+07</td>\n",
       "      <td>1118.000000</td>\n",
       "      <td>162.000000</td>\n",
       "      <td>265907.083333</td>\n",
       "    </tr>\n",
       "  </tbody>\n",
       "</table>\n",
       "</div>"
      ],
      "text/plain": [
       "       total_purchase  nunique_order  count_orders  mean_price_order\n",
       "count    2.563000e+03    2563.000000   2563.000000       2563.000000\n",
       "mean     1.430476e+05      55.797113      5.417089      24137.114841\n",
       "std      3.449938e+05      62.471053      6.952306      19645.253558\n",
       "min      1.342000e+03       1.000000      2.000000        366.500000\n",
       "25%      3.950050e+04      20.000000      2.000000      12631.000000\n",
       "50%      7.365500e+04      38.000000      4.000000      19700.000000\n",
       "75%      1.495470e+05      71.000000      6.000000      29609.000000\n",
       "max      1.218799e+07    1118.000000    162.000000     265907.083333"
      ]
     },
     "metadata": {},
     "output_type": "display_data"
    },
    {
     "name": "stdout",
     "output_type": "stream",
     "text": [
      "Общие показатели невозвратных клиентов\n"
     ]
    },
    {
     "data": {
      "text/html": [
       "<div>\n",
       "<style scoped>\n",
       "    .dataframe tbody tr th:only-of-type {\n",
       "        vertical-align: middle;\n",
       "    }\n",
       "\n",
       "    .dataframe tbody tr th {\n",
       "        vertical-align: top;\n",
       "    }\n",
       "\n",
       "    .dataframe thead th {\n",
       "        text-align: right;\n",
       "    }\n",
       "</style>\n",
       "<table border=\"1\" class=\"dataframe\">\n",
       "  <thead>\n",
       "    <tr style=\"text-align: right;\">\n",
       "      <th></th>\n",
       "      <th>total_purchase</th>\n",
       "      <th>nunique_order</th>\n",
       "      <th>mean_price_order</th>\n",
       "    </tr>\n",
       "  </thead>\n",
       "  <tbody>\n",
       "    <tr>\n",
       "      <th>count</th>\n",
       "      <td>1496.000000</td>\n",
       "      <td>1496.000000</td>\n",
       "      <td>1496.000000</td>\n",
       "    </tr>\n",
       "    <tr>\n",
       "      <th>mean</th>\n",
       "      <td>23323.030080</td>\n",
       "      <td>15.471257</td>\n",
       "      <td>23323.030080</td>\n",
       "    </tr>\n",
       "    <tr>\n",
       "      <th>std</th>\n",
       "      <td>27776.751557</td>\n",
       "      <td>16.256941</td>\n",
       "      <td>27776.751557</td>\n",
       "    </tr>\n",
       "    <tr>\n",
       "      <th>min</th>\n",
       "      <td>290.000000</td>\n",
       "      <td>1.000000</td>\n",
       "      <td>290.000000</td>\n",
       "    </tr>\n",
       "    <tr>\n",
       "      <th>25%</th>\n",
       "      <td>9523.000000</td>\n",
       "      <td>6.000000</td>\n",
       "      <td>9523.000000</td>\n",
       "    </tr>\n",
       "    <tr>\n",
       "      <th>50%</th>\n",
       "      <td>16582.000000</td>\n",
       "      <td>11.000000</td>\n",
       "      <td>16582.000000</td>\n",
       "    </tr>\n",
       "    <tr>\n",
       "      <th>75%</th>\n",
       "      <td>27523.000000</td>\n",
       "      <td>19.000000</td>\n",
       "      <td>27523.000000</td>\n",
       "    </tr>\n",
       "    <tr>\n",
       "      <th>max</th>\n",
       "      <td>375346.000000</td>\n",
       "      <td>179.000000</td>\n",
       "      <td>375346.000000</td>\n",
       "    </tr>\n",
       "  </tbody>\n",
       "</table>\n",
       "</div>"
      ],
      "text/plain": [
       "       total_purchase  nunique_order  mean_price_order\n",
       "count     1496.000000    1496.000000       1496.000000\n",
       "mean     23323.030080      15.471257      23323.030080\n",
       "std      27776.751557      16.256941      27776.751557\n",
       "min        290.000000       1.000000        290.000000\n",
       "25%       9523.000000       6.000000       9523.000000\n",
       "50%      16582.000000      11.000000      16582.000000\n",
       "75%      27523.000000      19.000000      27523.000000\n",
       "max     375346.000000     179.000000     375346.000000"
      ]
     },
     "metadata": {},
     "output_type": "display_data"
    }
   ],
   "source": [
    "print('Общие показатели возвратных клиентов')\n",
    "display(profiles_customers.query('return_customer == 1')[\n",
    "        ['total_purchase', 'nunique_order', 'count_orders', 'mean_price_order']\n",
    "        ].describe())\n",
    "print('Общие показатели невозвратных клиентов')\n",
    "display(profiles_customers.query('return_customer == 0')[\n",
    "        ['total_purchase', 'nunique_order', 'mean_price_order']\n",
    "        ].describe())"
   ]
  },
  {
   "cell_type": "markdown",
   "id": "e7247e4c-6261-413f-bd31-55865f906d03",
   "metadata": {},
   "source": [
    "Смущает, что среди возвратных клиентов очень высокое значение количества заказов, посмотрим распределение данных:"
   ]
  },
  {
   "cell_type": "code",
   "execution_count": 662,
   "id": "dc9bf2d5-2ead-439d-8b7b-8659bc2db065",
   "metadata": {},
   "outputs": [
    {
     "data": {
      "text/plain": [
       "count    2563.000000\n",
       "mean        5.417089\n",
       "std         6.952306\n",
       "min         2.000000\n",
       "25%         2.000000\n",
       "50%         4.000000\n",
       "75%         6.000000\n",
       "max       162.000000\n",
       "Name: count_orders, dtype: float64"
      ]
     },
     "metadata": {},
     "output_type": "display_data"
    },
    {
     "data": {
      "image/png": "[encoded data removed]",
      "text/plain": [
       "<Figure size 1200x400 with 1 Axes>"
      ]
     },
     "metadata": {},
     "output_type": "display_data"
    }
   ],
   "source": [
    "grid_boxplot(profiles_customers.query('return_customer == 1'), 'count_orders',\n",
    "             'Диаграмма размаха кол-ва заказов возвратных клиентов',\n",
    "             'Количество заказов у клиента')\n",
    "display(profiles_customers.query('return_customer == 1')['count_orders'].describe())"
   ]
  },
  {
   "cell_type": "markdown",
   "id": "09770392-f2d3-4fca-94ed-9db5978c6824",
   "metadata": {},
   "source": [
    "#### Вывод по группам возвратных и невозвратных клиентов\n",
    "Вовзратные клиенты в среднем обеспечили выручку в 4-5 раз больше чем невозвратные клиенты, заказы у них содержат больше разных позиций, средний чек покупок у разных групп не сильно отличается.  \n",
    "Возвратные клиенты в среднем возвращаются в магазин в течении 11 месяцев 4 раза, если судить по графику уникальных посетителей, то он просядает в сезонную активность, а значит эти клиенты чаще возвращаются к нам перед праздниками. Можно выбрать стратегию по привлечению постоянных покупателей и в другие дни, а для невозвратных принять стратегию привлечения в предпраздничные периоды."
   ]
  },
  {
   "cell_type": "markdown",
   "id": "4c169e9e-8809-4d61-b9ca-dd2e6a50875b",
   "metadata": {},
   "source": [
    "### 4. RFM-сегментация клиентов\n",
    "Проведем разделение клиентов на группы по методике RFM для отображения полной картины о клиентах и формулирвоании рекомендаций. Для расчета частоты покупки товаров возьмем границы основываясь на диаграмму размаха кол-ва заказов у возвратных клиентов, чтобы количество лояльных клиентов не было завышено за счет аномальных значений."
   ]
  },
  {
   "cell_type": "code",
   "execution_count": 665,
   "id": "fda5f90b-a66f-47c0-a271-512e65bec3a7",
   "metadata": {},
   "outputs": [
    {
     "data": {
      "text/html": [
       "<div>\n",
       "<style scoped>\n",
       "    .dataframe tbody tr th:only-of-type {\n",
       "        vertical-align: middle;\n",
       "    }\n",
       "\n",
       "    .dataframe tbody tr th {\n",
       "        vertical-align: top;\n",
       "    }\n",
       "\n",
       "    .dataframe thead th {\n",
       "        text-align: right;\n",
       "    }\n",
       "</style>\n",
       "<table border=\"1\" class=\"dataframe\">\n",
       "  <thead>\n",
       "    <tr style=\"text-align: right;\">\n",
       "      <th></th>\n",
       "      <th>customer_id</th>\n",
       "      <th>order_recency</th>\n",
       "      <th>count_orders</th>\n",
       "      <th>total_purchase</th>\n",
       "      <th>r</th>\n",
       "      <th>f</th>\n",
       "      <th>m</th>\n",
       "      <th>rfm_group</th>\n",
       "      <th>rfm_sum</th>\n",
       "    </tr>\n",
       "  </thead>\n",
       "  <tbody>\n",
       "    <tr>\n",
       "      <th>0</th>\n",
       "      <td>1713</td>\n",
       "      <td>65</td>\n",
       "      <td>2</td>\n",
       "      <td>61114</td>\n",
       "      <td>2</td>\n",
       "      <td>1</td>\n",
       "      <td>2</td>\n",
       "      <td>212</td>\n",
       "      <td>5</td>\n",
       "    </tr>\n",
       "    <tr>\n",
       "      <th>1</th>\n",
       "      <td>1717</td>\n",
       "      <td>32</td>\n",
       "      <td>14</td>\n",
       "      <td>148035</td>\n",
       "      <td>3</td>\n",
       "      <td>3</td>\n",
       "      <td>3</td>\n",
       "      <td>333</td>\n",
       "      <td>9</td>\n",
       "    </tr>\n",
       "    <tr>\n",
       "      <th>2</th>\n",
       "      <td>1718</td>\n",
       "      <td>238</td>\n",
       "      <td>2</td>\n",
       "      <td>11886</td>\n",
       "      <td>1</td>\n",
       "      <td>1</td>\n",
       "      <td>1</td>\n",
       "      <td>111</td>\n",
       "      <td>3</td>\n",
       "    </tr>\n",
       "    <tr>\n",
       "      <th>3</th>\n",
       "      <td>1720</td>\n",
       "      <td>182</td>\n",
       "      <td>1</td>\n",
       "      <td>13290</td>\n",
       "      <td>1</td>\n",
       "      <td>1</td>\n",
       "      <td>1</td>\n",
       "      <td>111</td>\n",
       "      <td>3</td>\n",
       "    </tr>\n",
       "    <tr>\n",
       "      <th>4</th>\n",
       "      <td>1722</td>\n",
       "      <td>96</td>\n",
       "      <td>1</td>\n",
       "      <td>12690</td>\n",
       "      <td>2</td>\n",
       "      <td>1</td>\n",
       "      <td>1</td>\n",
       "      <td>211</td>\n",
       "      <td>4</td>\n",
       "    </tr>\n",
       "  </tbody>\n",
       "</table>\n",
       "</div>"
      ],
      "text/plain": [
       "   customer_id  order_recency  count_orders  total_purchase  r  f  m  \\\n",
       "0         1713             65             2           61114  2  1  2   \n",
       "1         1717             32            14          148035  3  3  3   \n",
       "2         1718            238             2           11886  1  1  1   \n",
       "3         1720            182             1           13290  1  1  1   \n",
       "4         1722             96             1           12690  2  1  1   \n",
       "\n",
       "  rfm_group  rfm_sum  \n",
       "0       212        5  \n",
       "1       333        9  \n",
       "2       111        3  \n",
       "3       111        3  \n",
       "4       211        4  "
      ]
     },
     "metadata": {},
     "output_type": "display_data"
    }
   ],
   "source": [
    "rfm = profiles_customers.reset_index()[['customer_id', 'order_recency', 'count_orders', 'total_purchase']]\n",
    "\n",
    "rfm['r'] = pd.qcut(rfm['order_recency'], q=3, labels=[3,2,1])\n",
    "rfm['f'] = pd.cut(rfm['count_orders'], [0, 2, 10, 163], labels=[1,2,3])\n",
    "rfm['m'] = pd.qcut(rfm['total_purchase'], q=3, labels=[1,2,3])\n",
    "rfm[['r','f','m']] = rfm[['r','f','m']].astype('str')\n",
    "rfm['rfm_group'] = rfm['r'] + rfm['f'] + rfm['m'] \n",
    "rfm[['r','f','m']] = rfm[['r','f','m']].astype('int')\n",
    "rfm['rfm_sum'] = rfm[['r','f','m']].sum(axis=1)\n",
    "display(rfm.head())"
   ]
  },
  {
   "cell_type": "markdown",
   "id": "b2c7286c-5191-46cf-be97-69d9447628c8",
   "metadata": {},
   "source": [
    "Сгруппируем пользователей по группам:"
   ]
  },
  {
   "cell_type": "code",
   "execution_count": 667,
   "id": "ae0507c7-c667-4a34-9c8e-2ff75274e29a",
   "metadata": {},
   "outputs": [
    {
     "data": {
      "text/html": [
       "<div>\n",
       "<style scoped>\n",
       "    .dataframe tbody tr th:only-of-type {\n",
       "        vertical-align: middle;\n",
       "    }\n",
       "\n",
       "    .dataframe tbody tr th {\n",
       "        vertical-align: top;\n",
       "    }\n",
       "\n",
       "    .dataframe thead th {\n",
       "        text-align: right;\n",
       "    }\n",
       "</style>\n",
       "<table border=\"1\" class=\"dataframe\">\n",
       "  <thead>\n",
       "    <tr style=\"text-align: right;\">\n",
       "      <th></th>\n",
       "      <th>rfm_group</th>\n",
       "      <th>customer_id</th>\n",
       "      <th>rfm_sum</th>\n",
       "    </tr>\n",
       "  </thead>\n",
       "  <tbody>\n",
       "    <tr>\n",
       "      <th>0</th>\n",
       "      <td>111</td>\n",
       "      <td>711</td>\n",
       "      <td>3.0</td>\n",
       "    </tr>\n",
       "    <tr>\n",
       "      <th>19</th>\n",
       "      <td>323</td>\n",
       "      <td>497</td>\n",
       "      <td>8.0</td>\n",
       "    </tr>\n",
       "    <tr>\n",
       "      <th>1</th>\n",
       "      <td>112</td>\n",
       "      <td>366</td>\n",
       "      <td>4.0</td>\n",
       "    </tr>\n",
       "    <tr>\n",
       "      <th>12</th>\n",
       "      <td>223</td>\n",
       "      <td>364</td>\n",
       "      <td>7.0</td>\n",
       "    </tr>\n",
       "    <tr>\n",
       "      <th>7</th>\n",
       "      <td>211</td>\n",
       "      <td>356</td>\n",
       "      <td>4.0</td>\n",
       "    </tr>\n",
       "    <tr>\n",
       "      <th>8</th>\n",
       "      <td>212</td>\n",
       "      <td>303</td>\n",
       "      <td>5.0</td>\n",
       "    </tr>\n",
       "    <tr>\n",
       "      <th>18</th>\n",
       "      <td>322</td>\n",
       "      <td>220</td>\n",
       "      <td>7.0</td>\n",
       "    </tr>\n",
       "    <tr>\n",
       "      <th>14</th>\n",
       "      <td>311</td>\n",
       "      <td>216</td>\n",
       "      <td>5.0</td>\n",
       "    </tr>\n",
       "    <tr>\n",
       "      <th>21</th>\n",
       "      <td>333</td>\n",
       "      <td>204</td>\n",
       "      <td>9.0</td>\n",
       "    </tr>\n",
       "    <tr>\n",
       "      <th>11</th>\n",
       "      <td>222</td>\n",
       "      <td>198</td>\n",
       "      <td>6.0</td>\n",
       "    </tr>\n",
       "    <tr>\n",
       "      <th>15</th>\n",
       "      <td>312</td>\n",
       "      <td>169</td>\n",
       "      <td>6.0</td>\n",
       "    </tr>\n",
       "    <tr>\n",
       "      <th>4</th>\n",
       "      <td>122</td>\n",
       "      <td>96</td>\n",
       "      <td>5.0</td>\n",
       "    </tr>\n",
       "    <tr>\n",
       "      <th>5</th>\n",
       "      <td>123</td>\n",
       "      <td>85</td>\n",
       "      <td>6.0</td>\n",
       "    </tr>\n",
       "    <tr>\n",
       "      <th>2</th>\n",
       "      <td>113</td>\n",
       "      <td>68</td>\n",
       "      <td>5.0</td>\n",
       "    </tr>\n",
       "    <tr>\n",
       "      <th>9</th>\n",
       "      <td>213</td>\n",
       "      <td>55</td>\n",
       "      <td>6.0</td>\n",
       "    </tr>\n",
       "    <tr>\n",
       "      <th>13</th>\n",
       "      <td>233</td>\n",
       "      <td>43</td>\n",
       "      <td>8.0</td>\n",
       "    </tr>\n",
       "    <tr>\n",
       "      <th>16</th>\n",
       "      <td>313</td>\n",
       "      <td>36</td>\n",
       "      <td>7.0</td>\n",
       "    </tr>\n",
       "    <tr>\n",
       "      <th>10</th>\n",
       "      <td>221</td>\n",
       "      <td>26</td>\n",
       "      <td>5.0</td>\n",
       "    </tr>\n",
       "    <tr>\n",
       "      <th>3</th>\n",
       "      <td>121</td>\n",
       "      <td>24</td>\n",
       "      <td>4.0</td>\n",
       "    </tr>\n",
       "    <tr>\n",
       "      <th>17</th>\n",
       "      <td>321</td>\n",
       "      <td>20</td>\n",
       "      <td>6.0</td>\n",
       "    </tr>\n",
       "    <tr>\n",
       "      <th>6</th>\n",
       "      <td>133</td>\n",
       "      <td>1</td>\n",
       "      <td>7.0</td>\n",
       "    </tr>\n",
       "    <tr>\n",
       "      <th>20</th>\n",
       "      <td>332</td>\n",
       "      <td>1</td>\n",
       "      <td>8.0</td>\n",
       "    </tr>\n",
       "  </tbody>\n",
       "</table>\n",
       "</div>"
      ],
      "text/plain": [
       "   rfm_group  customer_id  rfm_sum\n",
       "0        111          711      3.0\n",
       "19       323          497      8.0\n",
       "1        112          366      4.0\n",
       "12       223          364      7.0\n",
       "7        211          356      4.0\n",
       "8        212          303      5.0\n",
       "18       322          220      7.0\n",
       "14       311          216      5.0\n",
       "21       333          204      9.0\n",
       "11       222          198      6.0\n",
       "15       312          169      6.0\n",
       "4        122           96      5.0\n",
       "5        123           85      6.0\n",
       "2        113           68      5.0\n",
       "9        213           55      6.0\n",
       "13       233           43      8.0\n",
       "16       313           36      7.0\n",
       "10       221           26      5.0\n",
       "3        121           24      4.0\n",
       "17       321           20      6.0\n",
       "6        133            1      7.0\n",
       "20       332            1      8.0"
      ]
     },
     "metadata": {},
     "output_type": "display_data"
    },
    {
     "data": {
      "application/vnd.plotly.v1+json": {
       "config": {
        "plotlyServerURL": "https://plot.ly"
       },
       "data": [
        {
         "branchvalues": "total",
         "customdata": [
          [
           3
          ],
          [
           4
          ],
          [
           5
          ],
          [
           4
          ],
          [
           5
          ],
          [
           6
          ],
          [
           7
          ],
          [
           4
          ],
          [
           5
          ],
          [
           6
          ],
          [
           5
          ],
          [
           6
          ],
          [
           7
          ],
          [
           8
          ],
          [
           5
          ],
          [
           6
          ],
          [
           7
          ],
          [
           6
          ],
          [
           7
          ],
          [
           8
          ],
          [
           8
          ],
          [
           9
          ]
         ],
         "domain": {
          "x": [
           0,
           1
          ],
          "y": [
           0,
           1
          ]
         },
         "hovertemplate": "labels=%{label}<br>customer_id=%{value}<br>parent=%{parent}<br>id=%{id}<br>rfm_sum=%{color}<extra></extra>",
         "ids": [
          "111",
          "112",
          "113",
          "121",
          "122",
          "123",
          "133",
          "211",
          "212",
          "213",
          "221",
          "222",
          "223",
          "233",
          "311",
          "312",
          "313",
          "321",
          "322",
          "323",
          "332",
          "333"
         ],
         "labels": [
          "111",
          "112",
          "113",
          "121",
          "122",
          "123",
          "133",
          "211",
          "212",
          "213",
          "221",
          "222",
          "223",
          "233",
          "311",
          "312",
          "313",
          "321",
          "322",
          "323",
          "332",
          "333"
         ],
         "marker": {
          "coloraxis": "coloraxis",
          "colors": [
           3,
           4,
           5,
           4,
           5,
           6,
           7,
           4,
           5,
           6,
           5,
           6,
           7,
           8,
           5,
           6,
           7,
           6,
           7,
           8,
           8,
           9
          ]
         },
         "name": "",
         "parents": [
          "",
          "",
          "",
          "",
          "",
          "",
          "",
          "",
          "",
          "",
          "",
          "",
          "",
          "",
          "",
          "",
          "",
          "",
          "",
          "",
          "",
          ""
         ],
         "type": "treemap",
         "values": [
          711,
          366,
          68,
          24,
          96,
          85,
          1,
          356,
          303,
          55,
          26,
          198,
          364,
          43,
          216,
          169,
          36,
          20,
          220,
          497,
          1,
          204
         ]
        }
       ],
       "layout": {
        "autosize": true,
        "coloraxis": {
         "colorbar": {
          "title": {
           "text": "rfm_sum"
          }
         },
         "colorscale": [
          [
           0,
           "rgb(243, 231, 155)"
          ],
          [
           0.16666666666666666,
           "rgb(250, 196, 132)"
          ],
          [
           0.3333333333333333,
           "rgb(248, 160, 126)"
          ],
          [
           0.5,
           "rgb(235, 127, 134)"
          ],
          [
           0.6666666666666666,
           "rgb(206, 102, 147)"
          ],
          [
           0.8333333333333334,
           "rgb(160, 89, 160)"
          ],
          [
           1,
           "rgb(92, 83, 165)"
          ]
         ]
        },
        "legend": {
         "tracegroupgap": 0
        },
        "template": {
         "data": {
          "bar": [
           {
            "error_x": {
             "color": "#2a3f5f"
            },
            "error_y": {
             "color": "#2a3f5f"
            },
            "marker": {
             "line": {
              "color": "#E5ECF6",
              "width": 0.5
             },
             "pattern": {
              "fillmode": "overlay",
              "size": 10,
              "solidity": 0.2
             }
            },
            "type": "bar"
           }
          ],
          "barpolar": [
           {
            "marker": {
             "line": {
              "color": "#E5ECF6",
              "width": 0.5
             },
             "pattern": {
              "fillmode": "overlay",
              "size": 10,
              "solidity": 0.2
             }
            },
            "type": "barpolar"
           }
          ],
          "carpet": [
           {
            "aaxis": {
             "endlinecolor": "#2a3f5f",
             "gridcolor": "white",
             "linecolor": "white",
             "minorgridcolor": "white",
             "startlinecolor": "#2a3f5f"
            },
            "baxis": {
             "endlinecolor": "#2a3f5f",
             "gridcolor": "white",
             "linecolor": "white",
             "minorgridcolor": "white",
             "startlinecolor": "#2a3f5f"
            },
            "type": "carpet"
           }
          ],
          "choropleth": [
           {
            "colorbar": {
             "outlinewidth": 0,
             "ticks": ""
            },
            "type": "choropleth"
           }
          ],
          "contour": [
           {
            "colorbar": {
             "outlinewidth": 0,
             "ticks": ""
            },
            "colorscale": [
             [
              0,
              "#0d0887"
             ],
             [
              0.1111111111111111,
              "#46039f"
             ],
             [
              0.2222222222222222,
              "#7201a8"
             ],
             [
              0.3333333333333333,
              "#9c179e"
             ],
             [
              0.4444444444444444,
              "#bd3786"
             ],
             [
              0.5555555555555556,
              "#d8576b"
             ],
             [
              0.6666666666666666,
              "#ed7953"
             ],
             [
              0.7777777777777778,
              "#fb9f3a"
             ],
             [
              0.8888888888888888,
              "#fdca26"
             ],
             [
              1,
              "#f0f921"
             ]
            ],
            "type": "contour"
           }
          ],
          "contourcarpet": [
           {
            "colorbar": {
             "outlinewidth": 0,
             "ticks": ""
            },
            "type": "contourcarpet"
           }
          ],
          "heatmap": [
           {
            "colorbar": {
             "outlinewidth": 0,
             "ticks": ""
            },
            "colorscale": [
             [
              0,
              "#0d0887"
             ],
             [
              0.1111111111111111,
              "#46039f"
             ],
             [
              0.2222222222222222,
              "#7201a8"
             ],
             [
              0.3333333333333333,
              "#9c179e"
             ],
             [
              0.4444444444444444,
              "#bd3786"
             ],
             [
              0.5555555555555556,
              "#d8576b"
             ],
             [
              0.6666666666666666,
              "#ed7953"
             ],
             [
              0.7777777777777778,
              "#fb9f3a"
             ],
             [
              0.8888888888888888,
              "#fdca26"
             ],
             [
              1,
              "#f0f921"
             ]
            ],
            "type": "heatmap"
           }
          ],
          "heatmapgl": [
           {
            "colorbar": {
             "outlinewidth": 0,
             "ticks": ""
            },
            "colorscale": [
             [
              0,
              "#0d0887"
             ],
             [
              0.1111111111111111,
              "#46039f"
             ],
             [
              0.2222222222222222,
              "#7201a8"
             ],
             [
              0.3333333333333333,
              "#9c179e"
             ],
             [
              0.4444444444444444,
              "#bd3786"
             ],
             [
              0.5555555555555556,
              "#d8576b"
             ],
             [
              0.6666666666666666,
              "#ed7953"
             ],
             [
              0.7777777777777778,
              "#fb9f3a"
             ],
             [
              0.8888888888888888,
              "#fdca26"
             ],
             [
              1,
              "#f0f921"
             ]
            ],
            "type": "heatmapgl"
           }
          ],
          "histogram": [
           {
            "marker": {
             "pattern": {
              "fillmode": "overlay",
              "size": 10,
              "solidity": 0.2
             }
            },
            "type": "histogram"
           }
          ],
          "histogram2d": [
           {
            "colorbar": {
             "outlinewidth": 0,
             "ticks": ""
            },
            "colorscale": [
             [
              0,
              "#0d0887"
             ],
             [
              0.1111111111111111,
              "#46039f"
             ],
             [
              0.2222222222222222,
              "#7201a8"
             ],
             [
              0.3333333333333333,
              "#9c179e"
             ],
             [
              0.4444444444444444,
              "#bd3786"
             ],
             [
              0.5555555555555556,
              "#d8576b"
             ],
             [
              0.6666666666666666,
              "#ed7953"
             ],
             [
              0.7777777777777778,
              "#fb9f3a"
             ],
             [
              0.8888888888888888,
              "#fdca26"
             ],
             [
              1,
              "#f0f921"
             ]
            ],
            "type": "histogram2d"
           }
          ],
          "histogram2dcontour": [
           {
            "colorbar": {
             "outlinewidth": 0,
             "ticks": ""
            },
            "colorscale": [
             [
              0,
              "#0d0887"
             ],
             [
              0.1111111111111111,
              "#46039f"
             ],
             [
              0.2222222222222222,
              "#7201a8"
             ],
             [
              0.3333333333333333,
              "#9c179e"
             ],
             [
              0.4444444444444444,
              "#bd3786"
             ],
             [
              0.5555555555555556,
              "#d8576b"
             ],
             [
              0.6666666666666666,
              "#ed7953"
             ],
             [
              0.7777777777777778,
              "#fb9f3a"
             ],
             [
              0.8888888888888888,
              "#fdca26"
             ],
             [
              1,
              "#f0f921"
             ]
            ],
            "type": "histogram2dcontour"
           }
          ],
          "mesh3d": [
           {
            "colorbar": {
             "outlinewidth": 0,
             "ticks": ""
            },
            "type": "mesh3d"
           }
          ],
          "parcoords": [
           {
            "line": {
             "colorbar": {
              "outlinewidth": 0,
              "ticks": ""
             }
            },
            "type": "parcoords"
           }
          ],
          "pie": [
           {
            "automargin": true,
            "type": "pie"
           }
          ],
          "scatter": [
           {
            "fillpattern": {
             "fillmode": "overlay",
             "size": 10,
             "solidity": 0.2
            },
            "type": "scatter"
           }
          ],
          "scatter3d": [
           {
            "line": {
             "colorbar": {
              "outlinewidth": 0,
              "ticks": ""
             }
            },
            "marker": {
             "colorbar": {
              "outlinewidth": 0,
              "ticks": ""
             }
            },
            "type": "scatter3d"
           }
          ],
          "scattercarpet": [
           {
            "marker": {
             "colorbar": {
              "outlinewidth": 0,
              "ticks": ""
             }
            },
            "type": "scattercarpet"
           }
          ],
          "scattergeo": [
           {
            "marker": {
             "colorbar": {
              "outlinewidth": 0,
              "ticks": ""
             }
            },
            "type": "scattergeo"
           }
          ],
          "scattergl": [
           {
            "marker": {
             "colorbar": {
              "outlinewidth": 0,
              "ticks": ""
             }
            },
            "type": "scattergl"
           }
          ],
          "scattermapbox": [
           {
            "marker": {
             "colorbar": {
              "outlinewidth": 0,
              "ticks": ""
             }
            },
            "type": "scattermapbox"
           }
          ],
          "scatterpolar": [
           {
            "marker": {
             "colorbar": {
              "outlinewidth": 0,
              "ticks": ""
             }
            },
            "type": "scatterpolar"
           }
          ],
          "scatterpolargl": [
           {
            "marker": {
             "colorbar": {
              "outlinewidth": 0,
              "ticks": ""
             }
            },
            "type": "scatterpolargl"
           }
          ],
          "scatterternary": [
           {
            "marker": {
             "colorbar": {
              "outlinewidth": 0,
              "ticks": ""
             }
            },
            "type": "scatterternary"
           }
          ],
          "surface": [
           {
            "colorbar": {
             "outlinewidth": 0,
             "ticks": ""
            },
            "colorscale": [
             [
              0,
              "#0d0887"
             ],
             [
              0.1111111111111111,
              "#46039f"
             ],
             [
              0.2222222222222222,
              "#7201a8"
             ],
             [
              0.3333333333333333,
              "#9c179e"
             ],
             [
              0.4444444444444444,
              "#bd3786"
             ],
             [
              0.5555555555555556,
              "#d8576b"
             ],
             [
              0.6666666666666666,
              "#ed7953"
             ],
             [
              0.7777777777777778,
              "#fb9f3a"
             ],
             [
              0.8888888888888888,
              "#fdca26"
             ],
             [
              1,
              "#f0f921"
             ]
            ],
            "type": "surface"
           }
          ],
          "table": [
           {
            "cells": {
             "fill": {
              "color": "#EBF0F8"
             },
             "line": {
              "color": "white"
             }
            },
            "header": {
             "fill": {
              "color": "#C8D4E3"
             },
             "line": {
              "color": "white"
             }
            },
            "type": "table"
           }
          ]
         },
         "layout": {
          "annotationdefaults": {
           "arrowcolor": "#2a3f5f",
           "arrowhead": 0,
           "arrowwidth": 1
          },
          "autotypenumbers": "strict",
          "coloraxis": {
           "colorbar": {
            "outlinewidth": 0,
            "ticks": ""
           }
          },
          "colorscale": {
           "diverging": [
            [
             0,
             "#8e0152"
            ],
            [
             0.1,
             "#c51b7d"
            ],
            [
             0.2,
             "#de77ae"
            ],
            [
             0.3,
             "#f1b6da"
            ],
            [
             0.4,
             "#fde0ef"
            ],
            [
             0.5,
             "#f7f7f7"
            ],
            [
             0.6,
             "#e6f5d0"
            ],
            [
             0.7,
             "#b8e186"
            ],
            [
             0.8,
             "#7fbc41"
            ],
            [
             0.9,
             "#4d9221"
            ],
            [
             1,
             "#276419"
            ]
           ],
           "sequential": [
            [
             0,
             "#0d0887"
            ],
            [
             0.1111111111111111,
             "#46039f"
            ],
            [
             0.2222222222222222,
             "#7201a8"
            ],
            [
             0.3333333333333333,
             "#9c179e"
            ],
            [
             0.4444444444444444,
             "#bd3786"
            ],
            [
             0.5555555555555556,
             "#d8576b"
            ],
            [
             0.6666666666666666,
             "#ed7953"
            ],
            [
             0.7777777777777778,
             "#fb9f3a"
            ],
            [
             0.8888888888888888,
             "#fdca26"
            ],
            [
             1,
             "#f0f921"
            ]
           ],
           "sequentialminus": [
            [
             0,
             "#0d0887"
            ],
            [
             0.1111111111111111,
             "#46039f"
            ],
            [
             0.2222222222222222,
             "#7201a8"
            ],
            [
             0.3333333333333333,
             "#9c179e"
            ],
            [
             0.4444444444444444,
             "#bd3786"
            ],
            [
             0.5555555555555556,
             "#d8576b"
            ],
            [
             0.6666666666666666,
             "#ed7953"
            ],
            [
             0.7777777777777778,
             "#fb9f3a"
            ],
            [
             0.8888888888888888,
             "#fdca26"
            ],
            [
             1,
             "#f0f921"
            ]
           ]
          },
          "colorway": [
           "#636efa",
           "#EF553B",
           "#00cc96",
           "#ab63fa",
           "#FFA15A",
           "#19d3f3",
           "#FF6692",
           "#B6E880",
           "#FF97FF",
           "#FECB52"
          ],
          "font": {
           "color": "#2a3f5f"
          },
          "geo": {
           "bgcolor": "white",
           "lakecolor": "white",
           "landcolor": "#E5ECF6",
           "showlakes": true,
           "showland": true,
           "subunitcolor": "white"
          },
          "hoverlabel": {
           "align": "left"
          },
          "hovermode": "closest",
          "mapbox": {
           "style": "light"
          },
          "paper_bgcolor": "white",
          "plot_bgcolor": "#E5ECF6",
          "polar": {
           "angularaxis": {
            "gridcolor": "white",
            "linecolor": "white",
            "ticks": ""
           },
           "bgcolor": "#E5ECF6",
           "radialaxis": {
            "gridcolor": "white",
            "linecolor": "white",
            "ticks": ""
           }
          },
          "scene": {
           "xaxis": {
            "backgroundcolor": "#E5ECF6",
            "gridcolor": "white",
            "gridwidth": 2,
            "linecolor": "white",
            "showbackground": true,
            "ticks": "",
            "zerolinecolor": "white"
           },
           "yaxis": {
            "backgroundcolor": "#E5ECF6",
            "gridcolor": "white",
            "gridwidth": 2,
            "linecolor": "white",
            "showbackground": true,
            "ticks": "",
            "zerolinecolor": "white"
           },
           "zaxis": {
            "backgroundcolor": "#E5ECF6",
            "gridcolor": "white",
            "gridwidth": 2,
            "linecolor": "white",
            "showbackground": true,
            "ticks": "",
            "zerolinecolor": "white"
           }
          },
          "shapedefaults": {
           "line": {
            "color": "#2a3f5f"
           }
          },
          "ternary": {
           "aaxis": {
            "gridcolor": "white",
            "linecolor": "white",
            "ticks": ""
           },
           "baxis": {
            "gridcolor": "white",
            "linecolor": "white",
            "ticks": ""
           },
           "bgcolor": "#E5ECF6",
           "caxis": {
            "gridcolor": "white",
            "linecolor": "white",
            "ticks": ""
           }
          },
          "title": {
           "x": 0.05
          },
          "xaxis": {
           "automargin": true,
           "gridcolor": "white",
           "linecolor": "white",
           "ticks": "",
           "title": {
            "standoff": 15
           },
           "zerolinecolor": "white",
           "zerolinewidth": 2
          },
          "yaxis": {
           "automargin": true,
           "gridcolor": "white",
           "linecolor": "white",
           "ticks": "",
           "title": {
            "standoff": 15
           },
           "zerolinecolor": "white",
           "zerolinewidth": 2
          }
         }
        },
        "title": {
         "text": "RFM сегментация пользователей онлайн-магазина \"Подарочек\""
        }
       }
      },
      "text/html": [
       "<div>                            <div id=\"82bc8981-12e0-4760-9221-253c72653ab9\" class=\"plotly-graph-div\" style=\"height:525px; width:100%;\"></div>            <script type=\"text/javascript\">                require([\"plotly\"], function(Plotly) {                    window.PLOTLYENV=window.PLOTLYENV || {};                                    if (document.getElementById(\"82bc8981-12e0-4760-9221-253c72653ab9\")) {                    Plotly.newPlot(                        \"82bc8981-12e0-4760-9221-253c72653ab9\",                        [{\"branchvalues\":\"total\",\"customdata\":[[3.0],[4.0],[5.0],[4.0],[5.0],[6.0],[7.0],[4.0],[5.0],[6.0],[5.0],[6.0],[7.0],[8.0],[5.0],[6.0],[7.0],[6.0],[7.0],[8.0],[8.0],[9.0]],\"domain\":{\"x\":[0.0,1.0],\"y\":[0.0,1.0]},\"hovertemplate\":\"labels=%{label}\\u003cbr\\u003ecustomer_id=%{value}\\u003cbr\\u003eparent=%{parent}\\u003cbr\\u003eid=%{id}\\u003cbr\\u003erfm_sum=%{color}\\u003cextra\\u003e\\u003c\\u002fextra\\u003e\",\"ids\":[\"111\",\"112\",\"113\",\"121\",\"122\",\"123\",\"133\",\"211\",\"212\",\"213\",\"221\",\"222\",\"223\",\"233\",\"311\",\"312\",\"313\",\"321\",\"322\",\"323\",\"332\",\"333\"],\"labels\":[\"111\",\"112\",\"113\",\"121\",\"122\",\"123\",\"133\",\"211\",\"212\",\"213\",\"221\",\"222\",\"223\",\"233\",\"311\",\"312\",\"313\",\"321\",\"322\",\"323\",\"332\",\"333\"],\"marker\":{\"coloraxis\":\"coloraxis\",\"colors\":[3.0,4.0,5.0,4.0,5.0,6.0,7.0,4.0,5.0,6.0,5.0,6.0,7.0,8.0,5.0,6.0,7.0,6.0,7.0,8.0,8.0,9.0]},\"name\":\"\",\"parents\":[\"\",\"\",\"\",\"\",\"\",\"\",\"\",\"\",\"\",\"\",\"\",\"\",\"\",\"\",\"\",\"\",\"\",\"\",\"\",\"\",\"\",\"\"],\"values\":[711,366,68,24,96,85,1,356,303,55,26,198,364,43,216,169,36,20,220,497,1,204],\"type\":\"treemap\"}],                        {\"template\":{\"data\":{\"histogram2dcontour\":[{\"type\":\"histogram2dcontour\",\"colorbar\":{\"outlinewidth\":0,\"ticks\":\"\"},\"colorscale\":[[0.0,\"#0d0887\"],[0.1111111111111111,\"#46039f\"],[0.2222222222222222,\"#7201a8\"],[0.3333333333333333,\"#9c179e\"],[0.4444444444444444,\"#bd3786\"],[0.5555555555555556,\"#d8576b\"],[0.6666666666666666,\"#ed7953\"],[0.7777777777777778,\"#fb9f3a\"],[0.8888888888888888,\"#fdca26\"],[1.0,\"#f0f921\"]]}],\"choropleth\":[{\"type\":\"choropleth\",\"colorbar\":{\"outlinewidth\":0,\"ticks\":\"\"}}],\"histogram2d\":[{\"type\":\"histogram2d\",\"colorbar\":{\"outlinewidth\":0,\"ticks\":\"\"},\"colorscale\":[[0.0,\"#0d0887\"],[0.1111111111111111,\"#46039f\"],[0.2222222222222222,\"#7201a8\"],[0.3333333333333333,\"#9c179e\"],[0.4444444444444444,\"#bd3786\"],[0.5555555555555556,\"#d8576b\"],[0.6666666666666666,\"#ed7953\"],[0.7777777777777778,\"#fb9f3a\"],[0.8888888888888888,\"#fdca26\"],[1.0,\"#f0f921\"]]}],\"heatmap\":[{\"type\":\"heatmap\",\"colorbar\":{\"outlinewidth\":0,\"ticks\":\"\"},\"colorscale\":[[0.0,\"#0d0887\"],[0.1111111111111111,\"#46039f\"],[0.2222222222222222,\"#7201a8\"],[0.3333333333333333,\"#9c179e\"],[0.4444444444444444,\"#bd3786\"],[0.5555555555555556,\"#d8576b\"],[0.6666666666666666,\"#ed7953\"],[0.7777777777777778,\"#fb9f3a\"],[0.8888888888888888,\"#fdca26\"],[1.0,\"#f0f921\"]]}],\"heatmapgl\":[{\"type\":\"heatmapgl\",\"colorbar\":{\"outlinewidth\":0,\"ticks\":\"\"},\"colorscale\":[[0.0,\"#0d0887\"],[0.1111111111111111,\"#46039f\"],[0.2222222222222222,\"#7201a8\"],[0.3333333333333333,\"#9c179e\"],[0.4444444444444444,\"#bd3786\"],[0.5555555555555556,\"#d8576b\"],[0.6666666666666666,\"#ed7953\"],[0.7777777777777778,\"#fb9f3a\"],[0.8888888888888888,\"#fdca26\"],[1.0,\"#f0f921\"]]}],\"contourcarpet\":[{\"type\":\"contourcarpet\",\"colorbar\":{\"outlinewidth\":0,\"ticks\":\"\"}}],\"contour\":[{\"type\":\"contour\",\"colorbar\":{\"outlinewidth\":0,\"ticks\":\"\"},\"colorscale\":[[0.0,\"#0d0887\"],[0.1111111111111111,\"#46039f\"],[0.2222222222222222,\"#7201a8\"],[0.3333333333333333,\"#9c179e\"],[0.4444444444444444,\"#bd3786\"],[0.5555555555555556,\"#d8576b\"],[0.6666666666666666,\"#ed7953\"],[0.7777777777777778,\"#fb9f3a\"],[0.8888888888888888,\"#fdca26\"],[1.0,\"#f0f921\"]]}],\"surface\":[{\"type\":\"surface\",\"colorbar\":{\"outlinewidth\":0,\"ticks\":\"\"},\"colorscale\":[[0.0,\"#0d0887\"],[0.1111111111111111,\"#46039f\"],[0.2222222222222222,\"#7201a8\"],[0.3333333333333333,\"#9c179e\"],[0.4444444444444444,\"#bd3786\"],[0.5555555555555556,\"#d8576b\"],[0.6666666666666666,\"#ed7953\"],[0.7777777777777778,\"#fb9f3a\"],[0.8888888888888888,\"#fdca26\"],[1.0,\"#f0f921\"]]}],\"mesh3d\":[{\"type\":\"mesh3d\",\"colorbar\":{\"outlinewidth\":0,\"ticks\":\"\"}}],\"scatter\":[{\"fillpattern\":{\"fillmode\":\"overlay\",\"size\":10,\"solidity\":0.2},\"type\":\"scatter\"}],\"parcoords\":[{\"type\":\"parcoords\",\"line\":{\"colorbar\":{\"outlinewidth\":0,\"ticks\":\"\"}}}],\"scatterpolargl\":[{\"type\":\"scatterpolargl\",\"marker\":{\"colorbar\":{\"outlinewidth\":0,\"ticks\":\"\"}}}],\"bar\":[{\"error_x\":{\"color\":\"#2a3f5f\"},\"error_y\":{\"color\":\"#2a3f5f\"},\"marker\":{\"line\":{\"color\":\"#E5ECF6\",\"width\":0.5},\"pattern\":{\"fillmode\":\"overlay\",\"size\":10,\"solidity\":0.2}},\"type\":\"bar\"}],\"scattergeo\":[{\"type\":\"scattergeo\",\"marker\":{\"colorbar\":{\"outlinewidth\":0,\"ticks\":\"\"}}}],\"scatterpolar\":[{\"type\":\"scatterpolar\",\"marker\":{\"colorbar\":{\"outlinewidth\":0,\"ticks\":\"\"}}}],\"histogram\":[{\"marker\":{\"pattern\":{\"fillmode\":\"overlay\",\"size\":10,\"solidity\":0.2}},\"type\":\"histogram\"}],\"scattergl\":[{\"type\":\"scattergl\",\"marker\":{\"colorbar\":{\"outlinewidth\":0,\"ticks\":\"\"}}}],\"scatter3d\":[{\"type\":\"scatter3d\",\"line\":{\"colorbar\":{\"outlinewidth\":0,\"ticks\":\"\"}},\"marker\":{\"colorbar\":{\"outlinewidth\":0,\"ticks\":\"\"}}}],\"scattermapbox\":[{\"type\":\"scattermapbox\",\"marker\":{\"colorbar\":{\"outlinewidth\":0,\"ticks\":\"\"}}}],\"scatterternary\":[{\"type\":\"scatterternary\",\"marker\":{\"colorbar\":{\"outlinewidth\":0,\"ticks\":\"\"}}}],\"scattercarpet\":[{\"type\":\"scattercarpet\",\"marker\":{\"colorbar\":{\"outlinewidth\":0,\"ticks\":\"\"}}}],\"carpet\":[{\"aaxis\":{\"endlinecolor\":\"#2a3f5f\",\"gridcolor\":\"white\",\"linecolor\":\"white\",\"minorgridcolor\":\"white\",\"startlinecolor\":\"#2a3f5f\"},\"baxis\":{\"endlinecolor\":\"#2a3f5f\",\"gridcolor\":\"white\",\"linecolor\":\"white\",\"minorgridcolor\":\"white\",\"startlinecolor\":\"#2a3f5f\"},\"type\":\"carpet\"}],\"table\":[{\"cells\":{\"fill\":{\"color\":\"#EBF0F8\"},\"line\":{\"color\":\"white\"}},\"header\":{\"fill\":{\"color\":\"#C8D4E3\"},\"line\":{\"color\":\"white\"}},\"type\":\"table\"}],\"barpolar\":[{\"marker\":{\"line\":{\"color\":\"#E5ECF6\",\"width\":0.5},\"pattern\":{\"fillmode\":\"overlay\",\"size\":10,\"solidity\":0.2}},\"type\":\"barpolar\"}],\"pie\":[{\"automargin\":true,\"type\":\"pie\"}]},\"layout\":{\"autotypenumbers\":\"strict\",\"colorway\":[\"#636efa\",\"#EF553B\",\"#00cc96\",\"#ab63fa\",\"#FFA15A\",\"#19d3f3\",\"#FF6692\",\"#B6E880\",\"#FF97FF\",\"#FECB52\"],\"font\":{\"color\":\"#2a3f5f\"},\"hovermode\":\"closest\",\"hoverlabel\":{\"align\":\"left\"},\"paper_bgcolor\":\"white\",\"plot_bgcolor\":\"#E5ECF6\",\"polar\":{\"bgcolor\":\"#E5ECF6\",\"angularaxis\":{\"gridcolor\":\"white\",\"linecolor\":\"white\",\"ticks\":\"\"},\"radialaxis\":{\"gridcolor\":\"white\",\"linecolor\":\"white\",\"ticks\":\"\"}},\"ternary\":{\"bgcolor\":\"#E5ECF6\",\"aaxis\":{\"gridcolor\":\"white\",\"linecolor\":\"white\",\"ticks\":\"\"},\"baxis\":{\"gridcolor\":\"white\",\"linecolor\":\"white\",\"ticks\":\"\"},\"caxis\":{\"gridcolor\":\"white\",\"linecolor\":\"white\",\"ticks\":\"\"}},\"coloraxis\":{\"colorbar\":{\"outlinewidth\":0,\"ticks\":\"\"}},\"colorscale\":{\"sequential\":[[0.0,\"#0d0887\"],[0.1111111111111111,\"#46039f\"],[0.2222222222222222,\"#7201a8\"],[0.3333333333333333,\"#9c179e\"],[0.4444444444444444,\"#bd3786\"],[0.5555555555555556,\"#d8576b\"],[0.6666666666666666,\"#ed7953\"],[0.7777777777777778,\"#fb9f3a\"],[0.8888888888888888,\"#fdca26\"],[1.0,\"#f0f921\"]],\"sequentialminus\":[[0.0,\"#0d0887\"],[0.1111111111111111,\"#46039f\"],[0.2222222222222222,\"#7201a8\"],[0.3333333333333333,\"#9c179e\"],[0.4444444444444444,\"#bd3786\"],[0.5555555555555556,\"#d8576b\"],[0.6666666666666666,\"#ed7953\"],[0.7777777777777778,\"#fb9f3a\"],[0.8888888888888888,\"#fdca26\"],[1.0,\"#f0f921\"]],\"diverging\":[[0,\"#8e0152\"],[0.1,\"#c51b7d\"],[0.2,\"#de77ae\"],[0.3,\"#f1b6da\"],[0.4,\"#fde0ef\"],[0.5,\"#f7f7f7\"],[0.6,\"#e6f5d0\"],[0.7,\"#b8e186\"],[0.8,\"#7fbc41\"],[0.9,\"#4d9221\"],[1,\"#276419\"]]},\"xaxis\":{\"gridcolor\":\"white\",\"linecolor\":\"white\",\"ticks\":\"\",\"title\":{\"standoff\":15},\"zerolinecolor\":\"white\",\"automargin\":true,\"zerolinewidth\":2},\"yaxis\":{\"gridcolor\":\"white\",\"linecolor\":\"white\",\"ticks\":\"\",\"title\":{\"standoff\":15},\"zerolinecolor\":\"white\",\"automargin\":true,\"zerolinewidth\":2},\"scene\":{\"xaxis\":{\"backgroundcolor\":\"#E5ECF6\",\"gridcolor\":\"white\",\"linecolor\":\"white\",\"showbackground\":true,\"ticks\":\"\",\"zerolinecolor\":\"white\",\"gridwidth\":2},\"yaxis\":{\"backgroundcolor\":\"#E5ECF6\",\"gridcolor\":\"white\",\"linecolor\":\"white\",\"showbackground\":true,\"ticks\":\"\",\"zerolinecolor\":\"white\",\"gridwidth\":2},\"zaxis\":{\"backgroundcolor\":\"#E5ECF6\",\"gridcolor\":\"white\",\"linecolor\":\"white\",\"showbackground\":true,\"ticks\":\"\",\"zerolinecolor\":\"white\",\"gridwidth\":2}},\"shapedefaults\":{\"line\":{\"color\":\"#2a3f5f\"}},\"annotationdefaults\":{\"arrowcolor\":\"#2a3f5f\",\"arrowhead\":0,\"arrowwidth\":1},\"geo\":{\"bgcolor\":\"white\",\"landcolor\":\"#E5ECF6\",\"subunitcolor\":\"white\",\"showland\":true,\"showlakes\":true,\"lakecolor\":\"white\"},\"title\":{\"x\":0.05},\"mapbox\":{\"style\":\"light\"}}},\"coloraxis\":{\"colorbar\":{\"title\":{\"text\":\"rfm_sum\"}},\"colorscale\":[[0.0,\"rgb(243, 231, 155)\"],[0.16666666666666666,\"rgb(250, 196, 132)\"],[0.3333333333333333,\"rgb(248, 160, 126)\"],[0.5,\"rgb(235, 127, 134)\"],[0.6666666666666666,\"rgb(206, 102, 147)\"],[0.8333333333333334,\"rgb(160, 89, 160)\"],[1.0,\"rgb(92, 83, 165)\"]]},\"legend\":{\"tracegroupgap\":0},\"title\":{\"text\":\"RFM \\u0441\\u0435\\u0433\\u043c\\u0435\\u043d\\u0442\\u0430\\u0446\\u0438\\u044f \\u043f\\u043e\\u043b\\u044c\\u0437\\u043e\\u0432\\u0430\\u0442\\u0435\\u043b\\u0435\\u0439 \\u043e\\u043d\\u043b\\u0430\\u0439\\u043d-\\u043c\\u0430\\u0433\\u0430\\u0437\\u0438\\u043d\\u0430 \\\"\\u041f\\u043e\\u0434\\u0430\\u0440\\u043e\\u0447\\u0435\\u043a\\\"\"}},                        {\"responsive\": true}                    ).then(function(){\n",
       "                            \n",
       "var gd = document.getElementById('82bc8981-12e0-4760-9221-253c72653ab9');\n",
       "var x = new MutationObserver(function (mutations, observer) {{\n",
       "        var display = window.getComputedStyle(gd).display;\n",
       "        if (!display || display === 'none') {{\n",
       "            console.log([gd, 'removed!']);\n",
       "            Plotly.purge(gd);\n",
       "            observer.disconnect();\n",
       "        }}\n",
       "}});\n",
       "\n",
       "// Listen for the removal of the full notebook cells\n",
       "var notebookContainer = gd.closest('#notebook-container');\n",
       "if (notebookContainer) {{\n",
       "    x.observe(notebookContainer, {childList: true});\n",
       "}}\n",
       "\n",
       "// Listen for the clearing of the current output cell\n",
       "var outputEl = gd.closest('.output');\n",
       "if (outputEl) {{\n",
       "    x.observe(outputEl, {childList: true});\n",
       "}}\n",
       "\n",
       "                        })                };                });            </script>        </div>"
      ]
     },
     "metadata": {},
     "output_type": "display_data"
    }
   ],
   "source": [
    "rfm_group = rfm.groupby('rfm_group').agg({'customer_id':'nunique',\n",
    "                                          'rfm_sum':'mean'}).reset_index()\n",
    "display(rfm_group.sort_values(by='customer_id', ascending=False)) \n",
    "fig = px.treemap(rfm_group, \n",
    "                 path=['rfm_group'],\n",
    "                 values='customer_id',\n",
    "                 color='rfm_sum',\n",
    "                 color_continuous_scale='Sunset',\n",
    "                 title='RFM сегментация пользователей онлайн-магазина \"Подарочек\"')\n",
    "\n",
    "# Отобразим график:\n",
    "fig.show() "
   ]
  },
  {
   "cell_type": "markdown",
   "id": "c36dd9ef-ca4b-4f0f-bbbb-f3f17e5bbca7",
   "metadata": {},
   "source": [
    "#### Вывод по RFM сегментации клиентов:\n",
    "- Сегмент 111 - увеличить частоту покупок и средний чек, а именно напоминать о себе клиентам, чтобы вернуть их.  \n",
    "- Сегменты 323, 223 - предпринять действия по удержанию клиентов и увеличению числа покупок, так как есть потенциал получения выручки в этих - группах.  \n",
    "- Сегменты 112, 211, 212 - увеличить число покупок, что может стимулировать рост выручки от них и повторное возвращение.  \n",
    "- Сегменты 322, 311, 222 - принять действия по сохранению клентов, например предложить скидку на следующую покупку.  \n",
    "- Сегмент 333 - идеальные клиенты для бизнеса, предложить индивидуальные услуги для сохрания и привлечения других клиентов.  \n",
    "- Сегменты 123, 122, 113, 121, 133 - клиенты покупали достаточно давно, но доходность и частота на среднем уровне. Стратегия — реактивация: возвращающие письма, акции, промокоды.  \n",
    "- Сегменты 312, 213, 221 - нужно увеличить частоту покупок. Стратегия — акции и скидки за регулярность покупок.  \n",
    "- Сегменты 233, 332 - необходимо предпринять действия по удержанию: программы лояльности, индивидуальное обслуживание."
   ]
  },
  {
   "cell_type": "markdown",
   "id": "42cacb1e-e264-4cc3-b5ca-92d82289d16d",
   "metadata": {},
   "source": [
    "### 5. Статистические гипотезы"
   ]
  },
  {
   "cell_type": "markdown",
   "id": "7883efb3-13bd-4426-ae67-8e266f0cb66f",
   "metadata": {},
   "source": [
    "#### 5.1 Сравнение долей возвратных и невозвратных клиентов\n",
    "Сравним доли возвратных и невозвратных клиентов за второй и третий квартал 2019 года. Сформулируем гипотезы:\n",
    "- Нулевая гипотеза (H₀): Доли возвратных клиентов во втором и третьем квартале 2019 года одинаковы.\n",
    "- Альтернативная гипотеза (H₁): Доли возвратных клиентов во втором и третьем квартале 2019 года различны."
   ]
  },
  {
   "cell_type": "code",
   "execution_count": 671,
   "id": "83ea8187-fd08-4b03-bd12-97f196a6144e",
   "metadata": {},
   "outputs": [
    {
     "name": "stdout",
     "output_type": "stream",
     "text": [
      "Z-статистика: -0.6976\n",
      "P-значение: 0.4854\n",
      "Не можем отклонить нулевую гипотезу, доли возвратных клиентов одинаковы.\n"
     ]
    }
   ],
   "source": [
    "# Создаем датафрейм с вернувшимися клиентами во 2-м квартале\n",
    "df_2q = df_actual_2[df_actual_2['entry_date'].dt.quarter.isin([2])]\n",
    "df_2q = df_2q.groupby('customer_id').agg(count_orders=('order_id', 'nunique'))\n",
    "all_customers_2q = len(df_2q)\n",
    "return_cutomers_2q = len(df_2q.query('count_orders > 1'))\n",
    "\n",
    "# Создаем датафрейм с вернувшимися клиентами в 3-м квартале\n",
    "df_3q = df_actual_2[df_actual_2['entry_date'].dt.quarter.isin([3])]\n",
    "df_3q = df_3q.groupby('customer_id').agg(count_orders=('order_id', 'nunique'))\n",
    "all_customers_3q = len(df_3q)\n",
    "return_cutomers_3q = len(df_3q.query('count_orders > 1'))\n",
    "\n",
    "returned_customers = [return_cutomers_2q, return_cutomers_3q]\n",
    "all_customers = [all_customers_2q, all_customers_3q]\n",
    "\n",
    "alpha = 0.05\n",
    "\n",
    "z_stat, p_value = proportions_ztest(count=returned_customers,\n",
    "                                    nobs=all_customers)\n",
    "\n",
    "print(f'Z-статистика: {z_stat:.4f}')\n",
    "print(f'P-значение: {p_value:.4f}')\n",
    "\n",
    "# Вывод по результатам теста\n",
    "alpha = 0.05\n",
    "if p_value < alpha:\n",
    "    print(\"Отклоняем нулевую гипотезу, доли возвратных клиентов различны.\")\n",
    "else:\n",
    "    print(\"Не можем отклонить нулевую гипотезу, доли возвратных клиентов одинаковы.\")"
   ]
  },
  {
   "cell_type": "markdown",
   "id": "c7e17c43-f214-4082-8e2a-ec6b1327fba4",
   "metadata": {},
   "source": [
    "Высокое значение p-value = 0.4854 говорит о том, что доля возвратных клиентов в двух кварталах не отличаются."
   ]
  },
  {
   "cell_type": "markdown",
   "id": "f2a8fa57-33c0-4911-bab0-9c61e07a7347",
   "metadata": {},
   "source": [
    "#### 5.2 Сравнение средних чеков в разных странах\n",
    "Сравним средние чеки клиентов с country_id равным 3, 6 и 12. Тестирование будет проводиться с помощью t-тестирования и ANOVA.  \n",
    "Сформируем гипотезы для каждой пары:\n",
    "- Нулевая гипотеза (H₀): Средние чеки в странах одинаковы.\n",
    "- Альтернативная гипотеза (H₁): Средние чеки в странах различаются.  \n"
   ]
  },
  {
   "cell_type": "code",
   "execution_count": 674,
   "id": "65928de1-fce8-4498-9e5e-9deeeec613ce",
   "metadata": {},
   "outputs": [],
   "source": [
    "def user_country_group(df, country_id):\n",
    "    \"\"\"Функция для группировки пользователей по стране.\n",
    "\n",
    "    Функция вовзращает датафрейм с средним чеком каждого\n",
    "    клиента в стране с указанным country_id.\n",
    "    \"\"\"\n",
    "    df = df.query('country_id == @country_id')\n",
    "    df = df.groupby(['customer_id', 'order_id']).agg({'total_price': 'sum'}).reset_index()\n",
    "    df = df.groupby('customer_id').agg(mean_purchase=('total_price', 'mean'))\n",
    "    return df"
   ]
  },
  {
   "cell_type": "code",
   "execution_count": 675,
   "id": "2051c61b-8375-4327-ab37-68b80a573034",
   "metadata": {},
   "outputs": [
    {
     "name": "stdout",
     "output_type": "stream",
     "text": [
      "Объем данных в стране 3: 25\n",
      "Объем данных в стране 6: 92\n",
      "Объем данных в стране 12: 8\n",
      "Сравнение 3 и 6:\n",
      "P-значение: 0.8780458548400676\n",
      "Не можем отклонить нулевую гипотезу, средние чеки в странах 3 и 6 не различаются.\n",
      "Сравнение 3 и 24:\n",
      "P-значение: 0.6371489441458831\n",
      "Не можем отклонить нулевую гипотезу, средние чеки в странах 3 и 24 не различаются.\n",
      "Сравнение 6 и 24:\n",
      "P-значение: 0.6539353366957967\n",
      "Не можем отклонить нулевую гипотезу, средние чеки в странах 6 и 24 не различаются.\n"
     ]
    }
   ],
   "source": [
    "# Создаем датафреймы с данными по каждой стране\n",
    "df_country_3 = user_country_group(df_actual_2, 3)['mean_purchase']\n",
    "print(f'Объем данных в стране 3: {len(df_country_3)}')\n",
    "df_country_6 = user_country_group(df_actual_2, 6)['mean_purchase']\n",
    "print(f'Объем данных в стране 6: {len(df_country_6)}')\n",
    "df_country_12 = user_country_group(df_actual_2, 12)['mean_purchase']\n",
    "print(f'Объем данных в стране 12: {len(df_country_12)}')\n",
    "\n",
    "t_stat_3_6, p_value_3_6 = stats.ttest_ind(df_country_3, df_country_6, equal_var=False)\n",
    "t_stat_3_24, p_value_3_24 = stats.ttest_ind(df_country_3, df_country_12, equal_var=False)\n",
    "t_stat_6_24, p_value_6_24 = stats.ttest_ind(df_country_6, df_country_12, equal_var=False)\n",
    "\n",
    "p_values = [p_value_3_6, p_value_3_24, p_value_6_24]\n",
    "alpha = 0.5\n",
    "\n",
    "#reject, pvals_corrected, _, _ = multipletests(p_values, alpha=0.05, method='bonferroni')\n",
    "\n",
    "pairs = ['3 и 6', '3 и 24', '6 и 24']\n",
    "for i, p_value in enumerate(p_values):\n",
    "    print(f'Сравнение {pairs[i]}:')\n",
    "    print(f'P-значение: {p_value}')\n",
    "    if p_value < alpha:\n",
    "        print(f'Отклоняем нулевую гипотезу, средние чеки в странах {pairs[i]} различаются.')\n",
    "    else:\n",
    "        print(f'Не можем отклонить нулевую гипотезу, средние чеки в странах {pairs[i]} не различаются.')"
   ]
  },
  {
   "cell_type": "markdown",
   "id": "b783aca6-7136-4ee0-9874-7a51b7938d8a",
   "metadata": {},
   "source": [
    "Как мы видим результаты показвают, что различий нет, но и выборка данных сильно отличается в каждой стране. Проведем ещё один тест ANOVA с дополнительной проверкой на гомогенность дисперсий и нормальное распределение данных"
   ]
  },
  {
   "cell_type": "code",
   "execution_count": 677,
   "id": "b2fa402e-24d1-4e45-a2c3-8add92fbc5b0",
   "metadata": {},
   "outputs": [
    {
     "name": "stdout",
     "output_type": "stream",
     "text": [
      "F-статистика: 0.7226\n",
      "P-значение: 0.4876\n",
      "Не можем отклонить нулевую гипотезу, средние чеки в этих странах не различаются.\n"
     ]
    }
   ],
   "source": [
    "f_stat, p_value = stats.f_oneway(df_country_3, df_country_6, df_country_12)\n",
    "alpha = 0.05\n",
    "\n",
    "print(f'F-статистика: {f_stat:.4f}')\n",
    "print(f'P-значение: {p_value:.4f}')\n",
    "\n",
    "if p_value < alpha:\n",
    "    print(\"Отклоняем нулевую гипотезу, средние чеки в этих странах различаются.\")\n",
    "else:\n",
    "    print(\"Не можем отклонить нулевую гипотезу, средние чеки в этих странах не различаются.\")"
   ]
  },
  {
   "cell_type": "code",
   "execution_count": 678,
   "id": "8ed0428a-0408-438a-844d-11a539268645",
   "metadata": {},
   "outputs": [
    {
     "name": "stdout",
     "output_type": "stream",
     "text": [
      "Tест Левена: p-значение = 0.0390\n",
      "Дисперсии не равны (гомогенность нарушена), может понадобиться альтернативный тест.\n"
     ]
    }
   ],
   "source": [
    "from scipy.stats import levene\n",
    "\n",
    "# Проверка гомогенности дисперсий\n",
    "stat, p = levene(df_country_3, df_country_6, df_country_12)\n",
    "\n",
    "print(f'Tест Левена: p-значение = {p:.4f}')\n",
    "if p < 0.05:\n",
    "    print(\"Дисперсии не равны (гомогенность нарушена), может понадобиться альтернативный тест.\")\n",
    "else:\n",
    "    print(\"Дисперсии равны, можно продолжать с ANOVA.\")"
   ]
  },
  {
   "cell_type": "code",
   "execution_count": 679,
   "id": "f5b88024-0e58-4fe6-b4fe-8d18af1d1817",
   "metadata": {},
   "outputs": [
    {
     "name": "stdout",
     "output_type": "stream",
     "text": [
      "H-статистика: 2.8415\n",
      "P-значение: 0.2415\n",
      "Не можем отклонить нулевую гипотезу, средние чеки в этих странах не различаются.\n"
     ]
    }
   ],
   "source": [
    "from scipy.stats import kruskal\n",
    "\n",
    "# Проведение теста Краскала-Уоллиса\n",
    "h_stat, p_value_kruskal = kruskal(df_country_3, df_country_6, df_country_12)\n",
    "\n",
    "print(f'H-статистика: {h_stat:.4f}')\n",
    "print(f'P-значение: {p_value_kruskal:.4f}')\n",
    "\n",
    "if p_value_kruskal < alpha:\n",
    "    print(\"Отклоняем нулевую гипотезу, средние чеки в этих странах различаются.\")\n",
    "else:\n",
    "    print(\"Не можем отклонить нулевую гипотезу, средние чеки в этих странах не различаются.\")\n"
   ]
  },
  {
   "cell_type": "markdown",
   "id": "97f79c83-c7ff-469f-8e0b-5d0dc953475a",
   "metadata": {},
   "source": [
    "После проведения нескольких статистических тестов получилось выяснить, что разницы между средними чеками в странах 3, 6, 12 нет."
   ]
  },
  {
   "cell_type": "markdown",
   "id": "44a16ed3-37c2-40ec-b3a9-f521f72dd46d",
   "metadata": {},
   "source": [
    "### 6. Общий вывод\n",
    "Магазину необходимо выстроить стратегию на удержание клиентов и увеличение частоту покупок, так как средний чек довольно высокий у клиентов с наименьшим количеством заказов, тем самым можно стимулировать клиентов возвращаться чаще и приобретать подарки не только в сезонные активности. Также не следует отказываться от развития рынка в разных странах, так как средние чеки не различаются, а доход можно увеличить. \n",
    "\n",
    "Рекомендация: ввести удобную и привлекательную программу лояльности для более точного сбора информации, так как при анализе было утеряно большое количество данных о клиентах, а также для возвращения клиентов в магазин, так как многие совершают покупки и больше не возвращаются в магазин."
   ]
  },
  {
   "cell_type": "markdown",
   "id": "974a5fdc-0ffd-4f57-83e3-9bd920ae1a53",
   "metadata": {},
   "source": [
    "### 7. Дополнительное исследование\n",
    "Исследование, какие товары чаще всего покупают вместе.  \n",
    "Цель: выявить на заказах клиентов, что предлагать другим дополнительно для повышения чека."
   ]
  },
  {
   "cell_type": "code",
   "execution_count": 683,
   "id": "22662527-572c-4b27-a88b-b7065f65f6ac",
   "metadata": {},
   "outputs": [
    {
     "name": "stdout",
     "output_type": "stream",
     "text": [
      "5 Самых популярных комбинаций к покупке:\n",
      "\"сумка для обеда красная Retrospot\" покупают вместе с \"сумка для обеда в розовый горошек\"\n",
      "\"большая сумка розового цвета в горошек\" покупают вместе с \"большая сумка красного цвета Retrospot\"\n",
      "\"сумка для обеда красная Retrospot\" покупают вместе с \"сумка для обеда дизайн Суки\"\n",
      "\"Розы Регентства, чашка и блюдце\" покупают вместе с \"Зеленая чашка и блюдце в стиле регентства\"\n",
      "\"сумка для обеда машинки синяя\" покупают вместе с \"сумка для обеда в розовый горошек\"\n"
     ]
    }
   ],
   "source": [
    "from itertools import combinations\n",
    "from collections import Counter\n",
    "\n",
    "df_order_group = df_actual_2.groupby('order_id')['entry'].apply(list)\n",
    "\n",
    "pair_counter = Counter()\n",
    "\n",
    "for products in df_order_group:\n",
    "    if len(products) > 1:\n",
    "        pairs = combinations(products, 2)\n",
    "        pair_counter.update(pairs)\n",
    "\n",
    "pair_df = pd.DataFrame(pair_counter.items(), columns=['pair', 'frequency'])\n",
    "\n",
    "pair_df = pair_df.sort_values(by='frequency', ascending=False)\n",
    "\n",
    "print('5 Самых популярных комбинаций к покупке:')\n",
    "for pair in pair_df['pair'].head(5):\n",
    "    print(f'\"{pair[0]}\" покупают вместе с \"{pair[1]}\"')"
   ]
  }
 ],
 "metadata": {
  "kernelspec": {
   "display_name": "Python 3 (ipykernel)",
   "language": "python",
   "name": "python3"
  },
  "language_info": {
   "codemirror_mode": {
    "name": "ipython",
    "version": 3
   },
   "file_extension": ".py",
   "mimetype": "text/x-python",
   "name": "python",
   "nbconvert_exporter": "python",
   "pygments_lexer": "ipython3",
   "version": "3.12.4"
  },
  "toc": {
   "base_numbering": 1,
   "nav_menu": {},
   "number_sections": true,
   "sideBar": true,
   "skip_h1_title": true,
   "title_cell": "Table of Contents",
   "title_sidebar": "Contents",
   "toc_cell": false,
   "toc_position": {},
   "toc_section_display": true,
   "toc_window_display": false
  }
 },
 "nbformat": 4,
 "nbformat_minor": 5
}
